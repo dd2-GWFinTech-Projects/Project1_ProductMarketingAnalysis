{
 "cells": [
  {
   "cell_type": "code",
   "execution_count": 92,
   "metadata": {},
   "outputs": [],
   "source": [
    "# initial imports\n",
    "import os\n",
    "import pandas as pd\n",
    "import matplotlib.pyplot as plt\n",
    "import plotly.express as px\n",
    "import hvplot.pandas\n",
    "import panel as pn\n",
    "from pathlib import Path\n",
    "from dotenv import load_dotenv\n",
    "from panel.interact import interact\n",
    "from panel import widgets\n",
    "\n",
    "pn.extension()\n",
    "\n",
    "%matplotlib inline"
   ]
  },
  {
   "cell_type": "code",
   "execution_count": 93,
   "metadata": {},
   "outputs": [
    {
     "output_type": "execute_result",
     "data": {
      "text/plain": [
       "True"
      ]
     },
     "metadata": {},
     "execution_count": 93
    }
   ],
   "source": [
    "# Read the Mapbox API key\n",
    "mapbox_token = os.getenv(\"MAPBOX_API_KEY\")\n",
    "load_dotenv()"
   ]
  },
  {
   "cell_type": "code",
   "execution_count": 94,
   "metadata": {},
   "outputs": [
    {
     "output_type": "execute_result",
     "data": {
      "text/plain": [
       "                               Invoice Date  Invoice # Invoice Amount  \\\n",
       "Customers                                                               \n",
       "Louisiana Board of Regents        3/20/2015  ATLAS 315     $72,000.00   \n",
       "Emporia State University          5/28/2015      AJ501      $3,500.00   \n",
       "Morehouse State University        6/23/2015      AJ502      $3,500.00   \n",
       "State University of NY Postdam    6/26/2015      AJ503      $6,500.00   \n",
       "ST. Mary's College of Maryland    10/7/2015      AJ504        $750.00   \n",
       "\n",
       "                               Subscription            Account Code   \\\n",
       "Customers                                                              \n",
       "Louisiana Board of Regents           1 Year  4700-0-00-00000-18-0000   \n",
       "Emporia State University             1 Year  4700-0-00-00000-16-0000   \n",
       "Morehouse State University           1 Year  4700-0-00-00000-17-0000   \n",
       "State University of NY Postdam       1 Year  4700-0-00-00000-32-0000   \n",
       "ST. Mary's College of Maryland       1 Year  4700-0-00-00000-20-0000   \n",
       "\n",
       "                                                      Dates of service   \n",
       "Customers                                                                \n",
       "Louisiana Board of Regents       1 Year Subscription 3/18/15 to 6/30/16  \n",
       "Emporia State University          1 Year Subscription 6/1/15 to 6/30/16  \n",
       "Morehouse State University       1 Year Subscription 6/10/15 to 6/30/16  \n",
       "State University of NY Postdam    1 Year Subscription 6/1/15 to 6/30/16  \n",
       "ST. Mary's College of Maryland  1 Year Subscription 10/05/15 to 9/30/16  "
      ],
      "text/html": "<div>\n<style scoped>\n    .dataframe tbody tr th:only-of-type {\n        vertical-align: middle;\n    }\n\n    .dataframe tbody tr th {\n        vertical-align: top;\n    }\n\n    .dataframe thead th {\n        text-align: right;\n    }\n</style>\n<table border=\"1\" class=\"dataframe\">\n  <thead>\n    <tr style=\"text-align: right;\">\n      <th></th>\n      <th>Invoice Date</th>\n      <th>Invoice #</th>\n      <th>Invoice Amount</th>\n      <th>Subscription</th>\n      <th>Account Code</th>\n      <th>Dates of service</th>\n    </tr>\n    <tr>\n      <th>Customers</th>\n      <th></th>\n      <th></th>\n      <th></th>\n      <th></th>\n      <th></th>\n      <th></th>\n    </tr>\n  </thead>\n  <tbody>\n    <tr>\n      <th>Louisiana Board of Regents</th>\n      <td>3/20/2015</td>\n      <td>ATLAS 315</td>\n      <td>$72,000.00</td>\n      <td>1 Year</td>\n      <td>4700-0-00-00000-18-0000</td>\n      <td>1 Year Subscription 3/18/15 to 6/30/16</td>\n    </tr>\n    <tr>\n      <th>Emporia State University</th>\n      <td>5/28/2015</td>\n      <td>AJ501</td>\n      <td>$3,500.00</td>\n      <td>1 Year</td>\n      <td>4700-0-00-00000-16-0000</td>\n      <td>1 Year Subscription 6/1/15 to 6/30/16</td>\n    </tr>\n    <tr>\n      <th>Morehouse State University</th>\n      <td>6/23/2015</td>\n      <td>AJ502</td>\n      <td>$3,500.00</td>\n      <td>1 Year</td>\n      <td>4700-0-00-00000-17-0000</td>\n      <td>1 Year Subscription 6/10/15 to 6/30/16</td>\n    </tr>\n    <tr>\n      <th>State University of NY Postdam</th>\n      <td>6/26/2015</td>\n      <td>AJ503</td>\n      <td>$6,500.00</td>\n      <td>1 Year</td>\n      <td>4700-0-00-00000-32-0000</td>\n      <td>1 Year Subscription 6/1/15 to 6/30/16</td>\n    </tr>\n    <tr>\n      <th>ST. Mary's College of Maryland</th>\n      <td>10/7/2015</td>\n      <td>AJ504</td>\n      <td>$750.00</td>\n      <td>1 Year</td>\n      <td>4700-0-00-00000-20-0000</td>\n      <td>1 Year Subscription 10/05/15 to 9/30/16</td>\n    </tr>\n  </tbody>\n</table>\n</div>"
     },
     "metadata": {},
     "execution_count": 94
    }
   ],
   "source": [
    "# Read the ATLAS data into a Pandas DataFrame\n",
    "file_path = Path(\"Resources/Raw/ATLAS.csv\")\n",
    "ATLAS = pd.read_csv(file_path, index_col=\"Customers\")\n",
    "ATLAS.head()"
   ]
  },
  {
   "cell_type": "code",
   "execution_count": 100,
   "metadata": {
    "tags": []
   },
   "outputs": [
    {
     "output_type": "stream",
     "name": "stdout",
     "text": [
      "date1_str: 3/18/15  date2_str: 6/30/16\ndate1_str: 3/18/15  date1: 2015-03-18T00:00:00-04:00\ndate2_str: 6/30/16  date2: 2016-06-30T00:00:00-04:00\ndate1_str: 6/1/15  date2_str: 6/30/16\ndate1_str: 6/1/15  date1: 2015-06-01T00:00:00-04:00\ndate2_str: 6/30/16  date2: 2016-06-30T00:00:00-04:00\ndate1_str: 6/10/15  date2_str: 6/30/16\ndate1_str: 6/10/15  date1: 2015-06-10T00:00:00-04:00\ndate2_str: 6/30/16  date2: 2016-06-30T00:00:00-04:00\ndate1_str: 6/1/15  date2_str: 6/30/16\ndate1_str: 6/1/15  date1: 2015-06-01T00:00:00-04:00\ndate2_str: 6/30/16  date2: 2016-06-30T00:00:00-04:00\ndate1_str: 10/05/15  date2_str: 9/30/16\ndate1_str: 10/05/15  date1: 2015-10-05T00:00:00-04:00\ndate2_str: 9/30/16  date2: 2016-09-30T00:00:00-04:00\ndate1_str: 10/01/15  date2_str: 6/30/17\ndate1_str: 10/01/15  date1: 2015-10-01T00:00:00-04:00\ndate2_str: 6/30/17  date2: 2017-06-30T00:00:00-04:00\n"
     ]
    }
   ],
   "source": [
    "# Cleanup/preprocessing\n",
    "\n",
    "## Cean up dates column (TODO functionalize)\n",
    "dates_of_service = ATLAS.iloc[0:6][\"Dates of service \"]\n",
    "\n",
    "start_date_list = []\n",
    "end_date_list = []\n",
    "\n",
    "for date_of_service_str in dates_of_service:\n",
    "    split1 = date_of_service_str.find(\"Subscription\")\n",
    "    split2 = split1 + len(\"Subscription\")\n",
    "    date_range = date_of_service_str[split2:].strip()\n",
    "\n",
    "    split1 = date_range.find(\"to\")\n",
    "    split2 = split1 + len(\"to\")\n",
    "    date1_str = date_range[0:split1].strip()\n",
    "    date2_str = date_range[split2:].strip()\n",
    "\n",
    "    print(f\"date1_str: {date1_str}  date2_str: {date2_str}\")\n",
    "    date1 = pd.Timestamp(date1_str, tz=\"America/New_York\").isoformat()\n",
    "    date2 = pd.Timestamp(date2_str, tz=\"America/New_York\").isoformat()\n",
    "    print(f\"date1_str: {date1_str}  date1: {date1}\")\n",
    "    print(f\"date2_str: {date2_str}  date2: {date2}\")\n",
    "\n",
    "    start_date_list.append(date1)\n",
    "    end_date_list.append(date2)\n",
    "\n",
    "ATLAS_with_fixed_dates = pd.concat([ATLAS, start_date_list, end_date_list])\n",
    "\n"
   ]
  },
  {
   "cell_type": "code",
   "execution_count": 96,
   "metadata": {},
   "outputs": [
    {
     "output_type": "execute_result",
     "data": {
      "text/plain": [
       "129    Alabama A&M University-College of Education\n",
       "146                        Albertus Magnus College\n",
       "178                     Albuquerque Public Schools\n",
       "114                       Alcorn State University \n",
       "635                  Alderson Broaddus University \n",
       "Name: Customers, dtype: object"
      ]
     },
     "metadata": {},
     "execution_count": 96
    }
   ],
   "source": [
    "## Extract paying customers\n",
    "#TODO Clean up customer names\n",
    "paying_customers = ATLAS.reset_index()[\"Customers\"].sort_values().drop_duplicates()\n",
    "paying_customers.head()"
   ]
  }
 ],
 "metadata": {
  "kernelspec": {
   "name": "Python 3.8.3 64-bit ('pyvizenv': conda)",
   "display_name": "Python 3.8.3 64-bit ('pyvizenv': conda)",
   "metadata": {
    "interpreter": {
     "hash": "9b71b9fa21544dd8a39d3650f5526997ede89e0b97dc642fc8071b919dea00e5"
    }
   }
  },
  "language_info": {
   "codemirror_mode": {
    "name": "ipython",
    "version": 3
   },
   "file_extension": ".py",
   "mimetype": "text/x-python",
   "name": "python",
   "nbconvert_exporter": "python",
   "pygments_lexer": "ipython3",
   "version": "3.8.3-final"
  }
 },
 "nbformat": 4,
 "nbformat_minor": 4
}