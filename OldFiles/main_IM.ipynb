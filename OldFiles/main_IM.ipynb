{
 "cells": [
  {
   "cell_type": "code",
   "execution_count": 9,
   "metadata": {},
   "outputs": [],
   "source": [
    "# initial imports\n",
    "import os\n",
    "import pandas as pd\n",
    "import matplotlib.pyplot as plt\n",
    "import plotly.express as px\n",
    "import hvplot.pandas\n",
    "import panel as pn\n",
    "from pathlib import Path\n",
    "from dotenv import load_dotenv\n",
    "from panel.interact import interact\n",
    "from panel import widgets\n",
    "from string import digits\n",
    "import alpaca_trade_api as tradeapi\n",
    "from MCForecastTools import MCSimulation\n",
    "\n",
    "\n",
    "pn.extension()\n",
    "\n",
    "%matplotlib inline"
   ]
  },
  {
   "cell_type": "code",
   "execution_count": 10,
   "metadata": {},
   "outputs": [
    {
     "output_type": "execute_result",
     "data": {
      "text/plain": [
       "True"
      ]
     },
     "metadata": {},
     "execution_count": 10
    }
   ],
   "source": [
    "# Read the Mapbox API key\n",
    "mapbox_token = os.getenv(\"MAPBOX_API_KEY\")\n",
    "load_dotenv()"
   ]
  },
  {
   "cell_type": "code",
   "execution_count": 11,
   "metadata": {},
   "outputs": [
    {
     "output_type": "execute_result",
     "data": {
      "text/plain": [
       "             Invoice Date  Invoice # Invoice Amount Subscription  \\\n",
       "Customers                                                          \n",
       "University 1      3/20/15  ATLAS 315    $72,000.00        1 Year   \n",
       "University 2      5/28/15      AJ501     $3,500.00        1 Year   \n",
       "University 3      6/23/15      AJ502     $3,500.00        1 Year   \n",
       "University 4      6/26/15      AJ503     $6,500.00        1 Year   \n",
       "University 5      10/7/15      AJ504       $750.00        1 Year   \n",
       "\n",
       "                        Account Code                         Dates of service   \n",
       "Customers                                                                       \n",
       "University 1  4700-0-00-00000-18-0000   1 Year Subscription 3/18/15 to 6/30/16  \n",
       "University 2  4700-0-00-00000-16-0000    1 Year Subscription 6/1/15 to 6/30/16  \n",
       "University 3  4700-0-00-00000-17-0000   1 Year Subscription 6/10/15 to 6/30/16  \n",
       "University 4  4700-0-00-00000-32-0000    1 Year Subscription 6/1/15 to 6/30/16  \n",
       "University 5  4700-0-00-00000-20-0000  1 Year Subscription 10/05/15 to 9/30/16  "
      ],
      "text/html": "<div>\n<style scoped>\n    .dataframe tbody tr th:only-of-type {\n        vertical-align: middle;\n    }\n\n    .dataframe tbody tr th {\n        vertical-align: top;\n    }\n\n    .dataframe thead th {\n        text-align: right;\n    }\n</style>\n<table border=\"1\" class=\"dataframe\">\n  <thead>\n    <tr style=\"text-align: right;\">\n      <th></th>\n      <th>Invoice Date</th>\n      <th>Invoice #</th>\n      <th>Invoice Amount</th>\n      <th>Subscription</th>\n      <th>Account Code</th>\n      <th>Dates of service</th>\n    </tr>\n    <tr>\n      <th>Customers</th>\n      <th></th>\n      <th></th>\n      <th></th>\n      <th></th>\n      <th></th>\n      <th></th>\n    </tr>\n  </thead>\n  <tbody>\n    <tr>\n      <th>University 1</th>\n      <td>3/20/15</td>\n      <td>ATLAS 315</td>\n      <td>$72,000.00</td>\n      <td>1 Year</td>\n      <td>4700-0-00-00000-18-0000</td>\n      <td>1 Year Subscription 3/18/15 to 6/30/16</td>\n    </tr>\n    <tr>\n      <th>University 2</th>\n      <td>5/28/15</td>\n      <td>AJ501</td>\n      <td>$3,500.00</td>\n      <td>1 Year</td>\n      <td>4700-0-00-00000-16-0000</td>\n      <td>1 Year Subscription 6/1/15 to 6/30/16</td>\n    </tr>\n    <tr>\n      <th>University 3</th>\n      <td>6/23/15</td>\n      <td>AJ502</td>\n      <td>$3,500.00</td>\n      <td>1 Year</td>\n      <td>4700-0-00-00000-17-0000</td>\n      <td>1 Year Subscription 6/10/15 to 6/30/16</td>\n    </tr>\n    <tr>\n      <th>University 4</th>\n      <td>6/26/15</td>\n      <td>AJ503</td>\n      <td>$6,500.00</td>\n      <td>1 Year</td>\n      <td>4700-0-00-00000-32-0000</td>\n      <td>1 Year Subscription 6/1/15 to 6/30/16</td>\n    </tr>\n    <tr>\n      <th>University 5</th>\n      <td>10/7/15</td>\n      <td>AJ504</td>\n      <td>$750.00</td>\n      <td>1 Year</td>\n      <td>4700-0-00-00000-20-0000</td>\n      <td>1 Year Subscription 10/05/15 to 9/30/16</td>\n    </tr>\n  </tbody>\n</table>\n</div>"
     },
     "metadata": {},
     "execution_count": 11
    }
   ],
   "source": [
    "# Read the ATLAS data into a Pandas DataFrame\n",
    "file_path = Path(\"Resources/02_Anonymized/ATLAS.csv\")\n",
    "ATLAS = pd.read_csv(file_path, index_col=\"Customers\")\n",
    "ATLAS.head()"
   ]
  },
  {
   "cell_type": "code",
   "execution_count": 12,
   "metadata": {
    "tags": []
   },
   "outputs": [
    {
     "output_type": "execute_result",
     "data": {
      "text/plain": [
       "      Customers Invoice Date  Invoice # Invoice Amount Subscription  \\\n",
       "0  University 1      3/20/15  ATLAS 315    $72,000.00        1 Year   \n",
       "1  University 2      5/28/15      AJ501     $3,500.00        1 Year   \n",
       "2  University 3      6/23/15      AJ502     $3,500.00        1 Year   \n",
       "3  University 4      6/26/15      AJ503     $6,500.00        1 Year   \n",
       "4  University 5      10/7/15      AJ504       $750.00        1 Year   \n",
       "\n",
       "             Account Code                         Dates of service   \\\n",
       "0  4700-0-00-00000-18-0000   1 Year Subscription 3/18/15 to 6/30/16   \n",
       "1  4700-0-00-00000-16-0000    1 Year Subscription 6/1/15 to 6/30/16   \n",
       "2  4700-0-00-00000-17-0000   1 Year Subscription 6/10/15 to 6/30/16   \n",
       "3  4700-0-00-00000-32-0000    1 Year Subscription 6/1/15 to 6/30/16   \n",
       "4  4700-0-00-00000-20-0000  1 Year Subscription 10/05/15 to 9/30/16   \n",
       "\n",
       "                 Start date                  End date  \n",
       "0 2015-03-18 00:00:00-04:00 2016-06-30 00:00:00-04:00  \n",
       "1 2015-06-01 00:00:00-04:00 2016-06-30 00:00:00-04:00  \n",
       "2 2015-06-10 00:00:00-04:00 2016-06-30 00:00:00-04:00  \n",
       "3 2015-06-01 00:00:00-04:00 2016-06-30 00:00:00-04:00  \n",
       "4 2015-10-05 00:00:00-04:00 2016-09-30 00:00:00-04:00  "
      ],
      "text/html": "<div>\n<style scoped>\n    .dataframe tbody tr th:only-of-type {\n        vertical-align: middle;\n    }\n\n    .dataframe tbody tr th {\n        vertical-align: top;\n    }\n\n    .dataframe thead th {\n        text-align: right;\n    }\n</style>\n<table border=\"1\" class=\"dataframe\">\n  <thead>\n    <tr style=\"text-align: right;\">\n      <th></th>\n      <th>Customers</th>\n      <th>Invoice Date</th>\n      <th>Invoice #</th>\n      <th>Invoice Amount</th>\n      <th>Subscription</th>\n      <th>Account Code</th>\n      <th>Dates of service</th>\n      <th>Start date</th>\n      <th>End date</th>\n    </tr>\n  </thead>\n  <tbody>\n    <tr>\n      <th>0</th>\n      <td>University 1</td>\n      <td>3/20/15</td>\n      <td>ATLAS 315</td>\n      <td>$72,000.00</td>\n      <td>1 Year</td>\n      <td>4700-0-00-00000-18-0000</td>\n      <td>1 Year Subscription 3/18/15 to 6/30/16</td>\n      <td>2015-03-18 00:00:00-04:00</td>\n      <td>2016-06-30 00:00:00-04:00</td>\n    </tr>\n    <tr>\n      <th>1</th>\n      <td>University 2</td>\n      <td>5/28/15</td>\n      <td>AJ501</td>\n      <td>$3,500.00</td>\n      <td>1 Year</td>\n      <td>4700-0-00-00000-16-0000</td>\n      <td>1 Year Subscription 6/1/15 to 6/30/16</td>\n      <td>2015-06-01 00:00:00-04:00</td>\n      <td>2016-06-30 00:00:00-04:00</td>\n    </tr>\n    <tr>\n      <th>2</th>\n      <td>University 3</td>\n      <td>6/23/15</td>\n      <td>AJ502</td>\n      <td>$3,500.00</td>\n      <td>1 Year</td>\n      <td>4700-0-00-00000-17-0000</td>\n      <td>1 Year Subscription 6/10/15 to 6/30/16</td>\n      <td>2015-06-10 00:00:00-04:00</td>\n      <td>2016-06-30 00:00:00-04:00</td>\n    </tr>\n    <tr>\n      <th>3</th>\n      <td>University 4</td>\n      <td>6/26/15</td>\n      <td>AJ503</td>\n      <td>$6,500.00</td>\n      <td>1 Year</td>\n      <td>4700-0-00-00000-32-0000</td>\n      <td>1 Year Subscription 6/1/15 to 6/30/16</td>\n      <td>2015-06-01 00:00:00-04:00</td>\n      <td>2016-06-30 00:00:00-04:00</td>\n    </tr>\n    <tr>\n      <th>4</th>\n      <td>University 5</td>\n      <td>10/7/15</td>\n      <td>AJ504</td>\n      <td>$750.00</td>\n      <td>1 Year</td>\n      <td>4700-0-00-00000-20-0000</td>\n      <td>1 Year Subscription 10/05/15 to 9/30/16</td>\n      <td>2015-10-05 00:00:00-04:00</td>\n      <td>2016-09-30 00:00:00-04:00</td>\n    </tr>\n  </tbody>\n</table>\n</div>"
     },
     "metadata": {},
     "execution_count": 12
    }
   ],
   "source": [
    "# Cleanup/preprocessing\n",
    "\n",
    "## Cean up dates column (TODO functionalize)\n",
    "dates_of_service = ATLAS.iloc[0:6][\"Dates of service \"]\n",
    "\n",
    "start_date_list = []\n",
    "end_date_list = []\n",
    "\n",
    "for date_of_service_str in dates_of_service:\n",
    "    split1 = date_of_service_str.find(\"Subscription\")\n",
    "    split2 = split1 + len(\"Subscription\")\n",
    "    date_range = date_of_service_str[split2:].strip()\n",
    "\n",
    "    split1 = date_range.find(\"to\")\n",
    "    split2 = split1 + len(\"to\")\n",
    "    if split1 < 0:\n",
    "        split1 = date_range.find(\"-\")\n",
    "        split2 = split1 + len(\"-\")\n",
    "    date1_str = date_range[0:split1].strip()\n",
    "    date2_str = date_range[split2:].strip()\n",
    "\n",
    "    # TODO Catch and handle failed parsing.\n",
    "    #print(f\"date1_str: {date1_str}  date2_str: {date2_str}\")\n",
    "    date1 = pd.Timestamp(date1_str, tz=\"America/New_York\")\n",
    "    date2 = pd.Timestamp(date2_str, tz=\"America/New_York\")\n",
    "    #print(f\"date1_str: {date1_str}  date1: {date1}\")\n",
    "    #print(f\"date2_str: {date2_str}  date2: {date2}\")\n",
    "\n",
    "    start_date_list.append(date1)\n",
    "    end_date_list.append(date2)\n",
    "\n",
    "dates_df = pd.DataFrame({\"Start date\":start_date_list,\"End date\": end_date_list})\n",
    "dates_df.head()\n",
    "ATLAS_with_fixed_dates = pd.concat([ATLAS.reset_index(), dates_df], axis='columns', join=\"inner\")\n",
    "ATLAS_with_fixed_dates.head()"
   ]
  },
  {
   "cell_type": "code",
   "execution_count": 13,
   "metadata": {},
   "outputs": [
    {
     "output_type": "execute_result",
     "data": {
      "text/plain": [
       "      Customers Invoice Date  Invoice # Invoice Amount Subscription  \\\n",
       "0  University 1      3/20/15  ATLAS 315    $72,000.00        1 Year   \n",
       "1  University 2      5/28/15      AJ501     $3,500.00        1 Year   \n",
       "2  University 3      6/23/15      AJ502     $3,500.00        1 Year   \n",
       "3  University 4      6/26/15      AJ503     $6,500.00        1 Year   \n",
       "4  University 5      10/7/15      AJ504       $750.00        1 Year   \n",
       "\n",
       "             Account Code                         Dates of service   Year  \\\n",
       "0  4700-0-00-00000-18-0000   1 Year Subscription 3/18/15 to 6/30/16  2015   \n",
       "1  4700-0-00-00000-16-0000    1 Year Subscription 6/1/15 to 6/30/16  2015   \n",
       "2  4700-0-00-00000-17-0000   1 Year Subscription 6/10/15 to 6/30/16  2015   \n",
       "3  4700-0-00-00000-32-0000    1 Year Subscription 6/1/15 to 6/30/16  2015   \n",
       "4  4700-0-00-00000-20-0000  1 Year Subscription 10/05/15 to 9/30/16  2015   \n",
       "\n",
       "   Monthly  Quarterly  \n",
       "0        3          1  \n",
       "1        6          2  \n",
       "2        6          2  \n",
       "3        6          2  \n",
       "4       10          4  "
      ],
      "text/html": "<div>\n<style scoped>\n    .dataframe tbody tr th:only-of-type {\n        vertical-align: middle;\n    }\n\n    .dataframe tbody tr th {\n        vertical-align: top;\n    }\n\n    .dataframe thead th {\n        text-align: right;\n    }\n</style>\n<table border=\"1\" class=\"dataframe\">\n  <thead>\n    <tr style=\"text-align: right;\">\n      <th></th>\n      <th>Customers</th>\n      <th>Invoice Date</th>\n      <th>Invoice #</th>\n      <th>Invoice Amount</th>\n      <th>Subscription</th>\n      <th>Account Code</th>\n      <th>Dates of service</th>\n      <th>Year</th>\n      <th>Monthly</th>\n      <th>Quarterly</th>\n    </tr>\n  </thead>\n  <tbody>\n    <tr>\n      <th>0</th>\n      <td>University 1</td>\n      <td>3/20/15</td>\n      <td>ATLAS 315</td>\n      <td>$72,000.00</td>\n      <td>1 Year</td>\n      <td>4700-0-00-00000-18-0000</td>\n      <td>1 Year Subscription 3/18/15 to 6/30/16</td>\n      <td>2015</td>\n      <td>3</td>\n      <td>1</td>\n    </tr>\n    <tr>\n      <th>1</th>\n      <td>University 2</td>\n      <td>5/28/15</td>\n      <td>AJ501</td>\n      <td>$3,500.00</td>\n      <td>1 Year</td>\n      <td>4700-0-00-00000-16-0000</td>\n      <td>1 Year Subscription 6/1/15 to 6/30/16</td>\n      <td>2015</td>\n      <td>6</td>\n      <td>2</td>\n    </tr>\n    <tr>\n      <th>2</th>\n      <td>University 3</td>\n      <td>6/23/15</td>\n      <td>AJ502</td>\n      <td>$3,500.00</td>\n      <td>1 Year</td>\n      <td>4700-0-00-00000-17-0000</td>\n      <td>1 Year Subscription 6/10/15 to 6/30/16</td>\n      <td>2015</td>\n      <td>6</td>\n      <td>2</td>\n    </tr>\n    <tr>\n      <th>3</th>\n      <td>University 4</td>\n      <td>6/26/15</td>\n      <td>AJ503</td>\n      <td>$6,500.00</td>\n      <td>1 Year</td>\n      <td>4700-0-00-00000-32-0000</td>\n      <td>1 Year Subscription 6/1/15 to 6/30/16</td>\n      <td>2015</td>\n      <td>6</td>\n      <td>2</td>\n    </tr>\n    <tr>\n      <th>4</th>\n      <td>University 5</td>\n      <td>10/7/15</td>\n      <td>AJ504</td>\n      <td>$750.00</td>\n      <td>1 Year</td>\n      <td>4700-0-00-00000-20-0000</td>\n      <td>1 Year Subscription 10/05/15 to 9/30/16</td>\n      <td>2015</td>\n      <td>10</td>\n      <td>4</td>\n    </tr>\n  </tbody>\n</table>\n</div>"
     },
     "metadata": {},
     "execution_count": 13
    }
   ],
   "source": [
    "# Adding New Columns to categorize data by Year, Month, and each Quarter\n",
    "year_column = []\n",
    "month_column = []\n",
    "quarter_column = []\n",
    "for date in ATLAS_with_fixed_dates[\"Start date\"]:\n",
    "    year_column.append(date.year)\n",
    "    month_column.append(date.month)\n",
    "    quarter_column.append(date.quarter)\n",
    "    \n",
    "# Add appended to the Data Frame (Start Date or Invoice Date)\n",
    "periods_df = pd.DataFrame({\"Year\":year_column,\"Monthly\": month_column, \"Quarterly\": quarter_column})\n",
    "periods_df.head()\n",
    "ATLAS_with_periods = pd.concat([ATLAS.reset_index(), periods_df], axis='columns', join=\"inner\")\n",
    "ATLAS_with_periods.head()"
   ]
  },
  {
   "cell_type": "code",
   "execution_count": 14,
   "metadata": {},
   "outputs": [
    {
     "output_type": "execute_result",
     "data": {
      "text/plain": [
       "Customers            object\n",
       "Invoice Date         object\n",
       "Invoice #            object\n",
       "Invoice Amount       object\n",
       "Subscription         object\n",
       "Account Code         object\n",
       "Dates of service     object\n",
       "Year                  int64\n",
       "Monthly               int64\n",
       "Quarterly             int64\n",
       "dtype: object"
      ]
     },
     "metadata": {},
     "execution_count": 14
    }
   ],
   "source": [
    "# Finding the types\n",
    "ATLAS_with_periods.dtypes"
   ]
  },
  {
   "cell_type": "code",
   "execution_count": 15,
   "metadata": {},
   "outputs": [
    {
     "output_type": "stream",
     "name": "stdout",
     "text": [
      "Customers             object\nInvoice Date          object\nInvoice #             object\nInvoice Amount       float64\nSubscription          object\nAccount Code          object\nDates of service      object\nYear                   int64\nMonthly                int64\nQuarterly              int64\ndtype: object\n"
     ]
    },
    {
     "output_type": "execute_result",
     "data": {
      "text/plain": [
       "      Customers Invoice Date  Invoice #  Invoice Amount Subscription  \\\n",
       "0  University 1      3/20/15  ATLAS 315         72000.0       1 Year   \n",
       "1  University 2      5/28/15      AJ501          3500.0       1 Year   \n",
       "2  University 3      6/23/15      AJ502          3500.0       1 Year   \n",
       "3  University 4      6/26/15      AJ503          6500.0       1 Year   \n",
       "4  University 5      10/7/15      AJ504           750.0       1 Year   \n",
       "\n",
       "             Account Code                         Dates of service   Year  \\\n",
       "0  4700-0-00-00000-18-0000   1 Year Subscription 3/18/15 to 6/30/16  2015   \n",
       "1  4700-0-00-00000-16-0000    1 Year Subscription 6/1/15 to 6/30/16  2015   \n",
       "2  4700-0-00-00000-17-0000   1 Year Subscription 6/10/15 to 6/30/16  2015   \n",
       "3  4700-0-00-00000-32-0000    1 Year Subscription 6/1/15 to 6/30/16  2015   \n",
       "4  4700-0-00-00000-20-0000  1 Year Subscription 10/05/15 to 9/30/16  2015   \n",
       "\n",
       "   Monthly  Quarterly  \n",
       "0        3          1  \n",
       "1        6          2  \n",
       "2        6          2  \n",
       "3        6          2  \n",
       "4       10          4  "
      ],
      "text/html": "<div>\n<style scoped>\n    .dataframe tbody tr th:only-of-type {\n        vertical-align: middle;\n    }\n\n    .dataframe tbody tr th {\n        vertical-align: top;\n    }\n\n    .dataframe thead th {\n        text-align: right;\n    }\n</style>\n<table border=\"1\" class=\"dataframe\">\n  <thead>\n    <tr style=\"text-align: right;\">\n      <th></th>\n      <th>Customers</th>\n      <th>Invoice Date</th>\n      <th>Invoice #</th>\n      <th>Invoice Amount</th>\n      <th>Subscription</th>\n      <th>Account Code</th>\n      <th>Dates of service</th>\n      <th>Year</th>\n      <th>Monthly</th>\n      <th>Quarterly</th>\n    </tr>\n  </thead>\n  <tbody>\n    <tr>\n      <th>0</th>\n      <td>University 1</td>\n      <td>3/20/15</td>\n      <td>ATLAS 315</td>\n      <td>72000.0</td>\n      <td>1 Year</td>\n      <td>4700-0-00-00000-18-0000</td>\n      <td>1 Year Subscription 3/18/15 to 6/30/16</td>\n      <td>2015</td>\n      <td>3</td>\n      <td>1</td>\n    </tr>\n    <tr>\n      <th>1</th>\n      <td>University 2</td>\n      <td>5/28/15</td>\n      <td>AJ501</td>\n      <td>3500.0</td>\n      <td>1 Year</td>\n      <td>4700-0-00-00000-16-0000</td>\n      <td>1 Year Subscription 6/1/15 to 6/30/16</td>\n      <td>2015</td>\n      <td>6</td>\n      <td>2</td>\n    </tr>\n    <tr>\n      <th>2</th>\n      <td>University 3</td>\n      <td>6/23/15</td>\n      <td>AJ502</td>\n      <td>3500.0</td>\n      <td>1 Year</td>\n      <td>4700-0-00-00000-17-0000</td>\n      <td>1 Year Subscription 6/10/15 to 6/30/16</td>\n      <td>2015</td>\n      <td>6</td>\n      <td>2</td>\n    </tr>\n    <tr>\n      <th>3</th>\n      <td>University 4</td>\n      <td>6/26/15</td>\n      <td>AJ503</td>\n      <td>6500.0</td>\n      <td>1 Year</td>\n      <td>4700-0-00-00000-32-0000</td>\n      <td>1 Year Subscription 6/1/15 to 6/30/16</td>\n      <td>2015</td>\n      <td>6</td>\n      <td>2</td>\n    </tr>\n    <tr>\n      <th>4</th>\n      <td>University 5</td>\n      <td>10/7/15</td>\n      <td>AJ504</td>\n      <td>750.0</td>\n      <td>1 Year</td>\n      <td>4700-0-00-00000-20-0000</td>\n      <td>1 Year Subscription 10/05/15 to 9/30/16</td>\n      <td>2015</td>\n      <td>10</td>\n      <td>4</td>\n    </tr>\n  </tbody>\n</table>\n</div>"
     },
     "metadata": {},
     "execution_count": 15
    }
   ],
   "source": [
    "# Removing ($) Sign from the Invoice Amount\n",
    "ATLAS_with_periods[\"Invoice Amount\"] = ATLAS_with_periods[\"Invoice Amount\"].str.replace('$','')\n",
    "ATLAS_with_periods[\"Invoice Amount\"] = ATLAS_with_periods[\"Invoice Amount\"].str.replace(',', '').astype('float')\n",
    "print(ATLAS_with_periods.dtypes)\n",
    "ATLAS_with_periods.head()"
   ]
  },
  {
   "cell_type": "code",
   "execution_count": 16,
   "metadata": {},
   "outputs": [
    {
     "output_type": "execute_result",
     "data": {
      "text/plain": [
       "Text(0, 0.5, 'Yearly Invoice Amount')"
      ]
     },
     "metadata": {},
     "execution_count": 16
    },
    {
     "output_type": "display_data",
     "data": {
      "text/plain": "<Figure size 1800x720 with 1 Axes>",
      "image/svg+xml": "<?xml version=\"1.0\" encoding=\"utf-8\" standalone=\"no\"?>\r\n<!DOCTYPE svg PUBLIC \"-//W3C//DTD SVG 1.1//EN\"\r\n  \"http://www.w3.org/Graphics/SVG/1.1/DTD/svg11.dtd\">\r\n<!-- Created with matplotlib (https://matplotlib.org/) -->\r\n<svg height=\"586.79625pt\" version=\"1.1\" viewBox=\"0 0 595.709 586.79625\" width=\"595.709pt\" xmlns=\"http://www.w3.org/2000/svg\" xmlns:xlink=\"http://www.w3.org/1999/xlink\">\r\n <metadata>\r\n  <rdf:RDF xmlns:cc=\"http://creativecommons.org/ns#\" xmlns:dc=\"http://purl.org/dc/elements/1.1/\" xmlns:rdf=\"http://www.w3.org/1999/02/22-rdf-syntax-ns#\">\r\n   <cc:Work>\r\n    <dc:type rdf:resource=\"http://purl.org/dc/dcmitype/StillImage\"/>\r\n    <dc:date>2020-11-10T19:37:17.597776</dc:date>\r\n    <dc:format>image/svg+xml</dc:format>\r\n    <dc:creator>\r\n     <cc:Agent>\r\n      <dc:title>Matplotlib v3.3.2, https://matplotlib.org/</dc:title>\r\n     </cc:Agent>\r\n    </dc:creator>\r\n   </cc:Work>\r\n  </rdf:RDF>\r\n </metadata>\r\n <defs>\r\n  <style type=\"text/css\">*{stroke-linecap:butt;stroke-linejoin:round;}</style>\r\n </defs>\r\n <g id=\"figure_1\">\r\n  <g id=\"patch_1\">\r\n   <path d=\"M 0 586.79625 \r\nL 595.709 586.79625 \r\nL 595.709 0 \r\nL 0 0 \r\nz\r\n\" style=\"fill:none;\"/>\r\n  </g>\r\n  <g id=\"axes_1\">\r\n   <g id=\"patch_2\">\r\n    <path d=\"M 534.149 294.118125 \r\nC 534.149 265.564166 528.524493 237.287858 517.597366 210.907439 \r\nC 506.670238 184.527021 490.652997 160.555525 470.462299 140.364826 \r\nC 450.2716 120.174128 426.300104 104.156887 399.919686 93.229759 \r\nC 373.539267 82.302632 345.262959 76.678125 316.709 76.678125 \r\nC 288.155041 76.678125 259.878733 82.302632 233.498314 93.229759 \r\nC 207.117896 104.156887 183.1464 120.174128 162.955701 140.364826 \r\nC 142.765003 160.555525 126.747762 184.527021 115.820634 210.907439 \r\nC 104.893507 237.287858 99.269 265.564166 99.269 294.118125 \r\nC 99.269 322.672084 104.893507 350.948392 115.820634 377.328811 \r\nC 126.747762 403.709229 142.765003 427.680725 162.955701 447.871424 \r\nC 183.1464 468.062122 207.117896 484.079363 233.498314 495.006491 \r\nC 259.878733 505.933618 288.155041 511.558125 316.709 511.558125 \r\nC 345.262959 511.558125 373.539267 505.933618 399.919686 495.006491 \r\nC 426.300104 484.079363 450.2716 468.062122 470.462299 447.871424 \r\nC 490.652997 427.680725 506.670238 403.709229 517.597366 377.328811 \r\nC 528.524493 350.948392 534.149 322.672084 534.149 294.118125 \r\nM 316.709 294.118125 \r\nM 534.149 294.118125 \r\nz\r\n\" style=\"fill:#1f77b4;\"/>\r\n   </g>\r\n   <g id=\"matplotlib.axis_1\">\r\n    <g id=\"text_1\">\r\n     <!-- Subscription -->\r\n     <g transform=\"translate(285.641813 577.516562)scale(0.1 -0.1)\">\r\n      <defs>\r\n       <path d=\"M 53.515625 70.515625 \r\nL 53.515625 60.890625 \r\nQ 47.90625 63.578125 42.921875 64.890625 \r\nQ 37.9375 66.21875 33.296875 66.21875 \r\nQ 25.25 66.21875 20.875 63.09375 \r\nQ 16.5 59.96875 16.5 54.203125 \r\nQ 16.5 49.359375 19.40625 46.890625 \r\nQ 22.3125 44.4375 30.421875 42.921875 \r\nL 36.375 41.703125 \r\nQ 47.40625 39.59375 52.65625 34.296875 \r\nQ 57.90625 29 57.90625 20.125 \r\nQ 57.90625 9.515625 50.796875 4.046875 \r\nQ 43.703125 -1.421875 29.984375 -1.421875 \r\nQ 24.8125 -1.421875 18.96875 -0.25 \r\nQ 13.140625 0.921875 6.890625 3.21875 \r\nL 6.890625 13.375 \r\nQ 12.890625 10.015625 18.65625 8.296875 \r\nQ 24.421875 6.59375 29.984375 6.59375 \r\nQ 38.421875 6.59375 43.015625 9.90625 \r\nQ 47.609375 13.234375 47.609375 19.390625 \r\nQ 47.609375 24.75 44.3125 27.78125 \r\nQ 41.015625 30.8125 33.5 32.328125 \r\nL 27.484375 33.5 \r\nQ 16.453125 35.6875 11.515625 40.375 \r\nQ 6.59375 45.0625 6.59375 53.421875 \r\nQ 6.59375 63.09375 13.40625 68.65625 \r\nQ 20.21875 74.21875 32.171875 74.21875 \r\nQ 37.3125 74.21875 42.625 73.28125 \r\nQ 47.953125 72.359375 53.515625 70.515625 \r\nz\r\n\" id=\"DejaVuSans-83\"/>\r\n       <path d=\"M 8.5 21.578125 \r\nL 8.5 54.6875 \r\nL 17.484375 54.6875 \r\nL 17.484375 21.921875 \r\nQ 17.484375 14.15625 20.5 10.265625 \r\nQ 23.53125 6.390625 29.59375 6.390625 \r\nQ 36.859375 6.390625 41.078125 11.03125 \r\nQ 45.3125 15.671875 45.3125 23.6875 \r\nL 45.3125 54.6875 \r\nL 54.296875 54.6875 \r\nL 54.296875 0 \r\nL 45.3125 0 \r\nL 45.3125 8.40625 \r\nQ 42.046875 3.421875 37.71875 1 \r\nQ 33.40625 -1.421875 27.6875 -1.421875 \r\nQ 18.265625 -1.421875 13.375 4.4375 \r\nQ 8.5 10.296875 8.5 21.578125 \r\nz\r\nM 31.109375 56 \r\nz\r\n\" id=\"DejaVuSans-117\"/>\r\n       <path d=\"M 48.6875 27.296875 \r\nQ 48.6875 37.203125 44.609375 42.84375 \r\nQ 40.53125 48.484375 33.40625 48.484375 \r\nQ 26.265625 48.484375 22.1875 42.84375 \r\nQ 18.109375 37.203125 18.109375 27.296875 \r\nQ 18.109375 17.390625 22.1875 11.75 \r\nQ 26.265625 6.109375 33.40625 6.109375 \r\nQ 40.53125 6.109375 44.609375 11.75 \r\nQ 48.6875 17.390625 48.6875 27.296875 \r\nz\r\nM 18.109375 46.390625 \r\nQ 20.953125 51.265625 25.265625 53.625 \r\nQ 29.59375 56 35.59375 56 \r\nQ 45.5625 56 51.78125 48.09375 \r\nQ 58.015625 40.1875 58.015625 27.296875 \r\nQ 58.015625 14.40625 51.78125 6.484375 \r\nQ 45.5625 -1.421875 35.59375 -1.421875 \r\nQ 29.59375 -1.421875 25.265625 0.953125 \r\nQ 20.953125 3.328125 18.109375 8.203125 \r\nL 18.109375 0 \r\nL 9.078125 0 \r\nL 9.078125 75.984375 \r\nL 18.109375 75.984375 \r\nz\r\n\" id=\"DejaVuSans-98\"/>\r\n       <path d=\"M 44.28125 53.078125 \r\nL 44.28125 44.578125 \r\nQ 40.484375 46.53125 36.375 47.5 \r\nQ 32.28125 48.484375 27.875 48.484375 \r\nQ 21.1875 48.484375 17.84375 46.4375 \r\nQ 14.5 44.390625 14.5 40.28125 \r\nQ 14.5 37.15625 16.890625 35.375 \r\nQ 19.28125 33.59375 26.515625 31.984375 \r\nL 29.59375 31.296875 \r\nQ 39.15625 29.25 43.1875 25.515625 \r\nQ 47.21875 21.78125 47.21875 15.09375 \r\nQ 47.21875 7.46875 41.1875 3.015625 \r\nQ 35.15625 -1.421875 24.609375 -1.421875 \r\nQ 20.21875 -1.421875 15.453125 -0.5625 \r\nQ 10.6875 0.296875 5.421875 2 \r\nL 5.421875 11.28125 \r\nQ 10.40625 8.6875 15.234375 7.390625 \r\nQ 20.0625 6.109375 24.8125 6.109375 \r\nQ 31.15625 6.109375 34.5625 8.28125 \r\nQ 37.984375 10.453125 37.984375 14.40625 \r\nQ 37.984375 18.0625 35.515625 20.015625 \r\nQ 33.0625 21.96875 24.703125 23.78125 \r\nL 21.578125 24.515625 \r\nQ 13.234375 26.265625 9.515625 29.90625 \r\nQ 5.8125 33.546875 5.8125 39.890625 \r\nQ 5.8125 47.609375 11.28125 51.796875 \r\nQ 16.75 56 26.8125 56 \r\nQ 31.78125 56 36.171875 55.265625 \r\nQ 40.578125 54.546875 44.28125 53.078125 \r\nz\r\n\" id=\"DejaVuSans-115\"/>\r\n       <path d=\"M 48.78125 52.59375 \r\nL 48.78125 44.1875 \r\nQ 44.96875 46.296875 41.140625 47.34375 \r\nQ 37.3125 48.390625 33.40625 48.390625 \r\nQ 24.65625 48.390625 19.8125 42.84375 \r\nQ 14.984375 37.3125 14.984375 27.296875 \r\nQ 14.984375 17.28125 19.8125 11.734375 \r\nQ 24.65625 6.203125 33.40625 6.203125 \r\nQ 37.3125 6.203125 41.140625 7.25 \r\nQ 44.96875 8.296875 48.78125 10.40625 \r\nL 48.78125 2.09375 \r\nQ 45.015625 0.34375 40.984375 -0.53125 \r\nQ 36.96875 -1.421875 32.421875 -1.421875 \r\nQ 20.0625 -1.421875 12.78125 6.34375 \r\nQ 5.515625 14.109375 5.515625 27.296875 \r\nQ 5.515625 40.671875 12.859375 48.328125 \r\nQ 20.21875 56 33.015625 56 \r\nQ 37.15625 56 41.109375 55.140625 \r\nQ 45.0625 54.296875 48.78125 52.59375 \r\nz\r\n\" id=\"DejaVuSans-99\"/>\r\n       <path d=\"M 41.109375 46.296875 \r\nQ 39.59375 47.171875 37.8125 47.578125 \r\nQ 36.03125 48 33.890625 48 \r\nQ 26.265625 48 22.1875 43.046875 \r\nQ 18.109375 38.09375 18.109375 28.8125 \r\nL 18.109375 0 \r\nL 9.078125 0 \r\nL 9.078125 54.6875 \r\nL 18.109375 54.6875 \r\nL 18.109375 46.1875 \r\nQ 20.953125 51.171875 25.484375 53.578125 \r\nQ 30.03125 56 36.53125 56 \r\nQ 37.453125 56 38.578125 55.875 \r\nQ 39.703125 55.765625 41.0625 55.515625 \r\nz\r\n\" id=\"DejaVuSans-114\"/>\r\n       <path d=\"M 9.421875 54.6875 \r\nL 18.40625 54.6875 \r\nL 18.40625 0 \r\nL 9.421875 0 \r\nz\r\nM 9.421875 75.984375 \r\nL 18.40625 75.984375 \r\nL 18.40625 64.59375 \r\nL 9.421875 64.59375 \r\nz\r\n\" id=\"DejaVuSans-105\"/>\r\n       <path d=\"M 18.109375 8.203125 \r\nL 18.109375 -20.796875 \r\nL 9.078125 -20.796875 \r\nL 9.078125 54.6875 \r\nL 18.109375 54.6875 \r\nL 18.109375 46.390625 \r\nQ 20.953125 51.265625 25.265625 53.625 \r\nQ 29.59375 56 35.59375 56 \r\nQ 45.5625 56 51.78125 48.09375 \r\nQ 58.015625 40.1875 58.015625 27.296875 \r\nQ 58.015625 14.40625 51.78125 6.484375 \r\nQ 45.5625 -1.421875 35.59375 -1.421875 \r\nQ 29.59375 -1.421875 25.265625 0.953125 \r\nQ 20.953125 3.328125 18.109375 8.203125 \r\nz\r\nM 48.6875 27.296875 \r\nQ 48.6875 37.203125 44.609375 42.84375 \r\nQ 40.53125 48.484375 33.40625 48.484375 \r\nQ 26.265625 48.484375 22.1875 42.84375 \r\nQ 18.109375 37.203125 18.109375 27.296875 \r\nQ 18.109375 17.390625 22.1875 11.75 \r\nQ 26.265625 6.109375 33.40625 6.109375 \r\nQ 40.53125 6.109375 44.609375 11.75 \r\nQ 48.6875 17.390625 48.6875 27.296875 \r\nz\r\n\" id=\"DejaVuSans-112\"/>\r\n       <path d=\"M 18.3125 70.21875 \r\nL 18.3125 54.6875 \r\nL 36.8125 54.6875 \r\nL 36.8125 47.703125 \r\nL 18.3125 47.703125 \r\nL 18.3125 18.015625 \r\nQ 18.3125 11.328125 20.140625 9.421875 \r\nQ 21.96875 7.515625 27.59375 7.515625 \r\nL 36.8125 7.515625 \r\nL 36.8125 0 \r\nL 27.59375 0 \r\nQ 17.1875 0 13.234375 3.875 \r\nQ 9.28125 7.765625 9.28125 18.015625 \r\nL 9.28125 47.703125 \r\nL 2.6875 47.703125 \r\nL 2.6875 54.6875 \r\nL 9.28125 54.6875 \r\nL 9.28125 70.21875 \r\nz\r\n\" id=\"DejaVuSans-116\"/>\r\n       <path d=\"M 30.609375 48.390625 \r\nQ 23.390625 48.390625 19.1875 42.75 \r\nQ 14.984375 37.109375 14.984375 27.296875 \r\nQ 14.984375 17.484375 19.15625 11.84375 \r\nQ 23.34375 6.203125 30.609375 6.203125 \r\nQ 37.796875 6.203125 41.984375 11.859375 \r\nQ 46.1875 17.53125 46.1875 27.296875 \r\nQ 46.1875 37.015625 41.984375 42.703125 \r\nQ 37.796875 48.390625 30.609375 48.390625 \r\nz\r\nM 30.609375 56 \r\nQ 42.328125 56 49.015625 48.375 \r\nQ 55.71875 40.765625 55.71875 27.296875 \r\nQ 55.71875 13.875 49.015625 6.21875 \r\nQ 42.328125 -1.421875 30.609375 -1.421875 \r\nQ 18.84375 -1.421875 12.171875 6.21875 \r\nQ 5.515625 13.875 5.515625 27.296875 \r\nQ 5.515625 40.765625 12.171875 48.375 \r\nQ 18.84375 56 30.609375 56 \r\nz\r\n\" id=\"DejaVuSans-111\"/>\r\n       <path d=\"M 54.890625 33.015625 \r\nL 54.890625 0 \r\nL 45.90625 0 \r\nL 45.90625 32.71875 \r\nQ 45.90625 40.484375 42.875 44.328125 \r\nQ 39.84375 48.1875 33.796875 48.1875 \r\nQ 26.515625 48.1875 22.3125 43.546875 \r\nQ 18.109375 38.921875 18.109375 30.90625 \r\nL 18.109375 0 \r\nL 9.078125 0 \r\nL 9.078125 54.6875 \r\nL 18.109375 54.6875 \r\nL 18.109375 46.1875 \r\nQ 21.34375 51.125 25.703125 53.5625 \r\nQ 30.078125 56 35.796875 56 \r\nQ 45.21875 56 50.046875 50.171875 \r\nQ 54.890625 44.34375 54.890625 33.015625 \r\nz\r\n\" id=\"DejaVuSans-110\"/>\r\n      </defs>\r\n      <use xlink:href=\"#DejaVuSans-83\"/>\r\n      <use x=\"63.476562\" xlink:href=\"#DejaVuSans-117\"/>\r\n      <use x=\"126.855469\" xlink:href=\"#DejaVuSans-98\"/>\r\n      <use x=\"190.332031\" xlink:href=\"#DejaVuSans-115\"/>\r\n      <use x=\"242.431641\" xlink:href=\"#DejaVuSans-99\"/>\r\n      <use x=\"297.412109\" xlink:href=\"#DejaVuSans-114\"/>\r\n      <use x=\"338.525391\" xlink:href=\"#DejaVuSans-105\"/>\r\n      <use x=\"366.308594\" xlink:href=\"#DejaVuSans-112\"/>\r\n      <use x=\"429.785156\" xlink:href=\"#DejaVuSans-116\"/>\r\n      <use x=\"468.994141\" xlink:href=\"#DejaVuSans-105\"/>\r\n      <use x=\"496.777344\" xlink:href=\"#DejaVuSans-111\"/>\r\n      <use x=\"557.958984\" xlink:href=\"#DejaVuSans-110\"/>\r\n     </g>\r\n    </g>\r\n   </g>\r\n   <g id=\"matplotlib.axis_2\">\r\n    <g id=\"text_2\">\r\n     <!-- Yearly Invoice Amount -->\r\n     <g transform=\"translate(38.829312 349.757187)rotate(-90)scale(0.1 -0.1)\">\r\n      <defs>\r\n       <path d=\"M -0.203125 72.90625 \r\nL 10.40625 72.90625 \r\nL 30.609375 42.921875 \r\nL 50.6875 72.90625 \r\nL 61.28125 72.90625 \r\nL 35.5 34.71875 \r\nL 35.5 0 \r\nL 25.59375 0 \r\nL 25.59375 34.71875 \r\nz\r\n\" id=\"DejaVuSans-89\"/>\r\n       <path d=\"M 56.203125 29.59375 \r\nL 56.203125 25.203125 \r\nL 14.890625 25.203125 \r\nQ 15.484375 15.921875 20.484375 11.0625 \r\nQ 25.484375 6.203125 34.421875 6.203125 \r\nQ 39.59375 6.203125 44.453125 7.46875 \r\nQ 49.3125 8.734375 54.109375 11.28125 \r\nL 54.109375 2.78125 \r\nQ 49.265625 0.734375 44.1875 -0.34375 \r\nQ 39.109375 -1.421875 33.890625 -1.421875 \r\nQ 20.796875 -1.421875 13.15625 6.1875 \r\nQ 5.515625 13.8125 5.515625 26.8125 \r\nQ 5.515625 40.234375 12.765625 48.109375 \r\nQ 20.015625 56 32.328125 56 \r\nQ 43.359375 56 49.78125 48.890625 \r\nQ 56.203125 41.796875 56.203125 29.59375 \r\nz\r\nM 47.21875 32.234375 \r\nQ 47.125 39.59375 43.09375 43.984375 \r\nQ 39.0625 48.390625 32.421875 48.390625 \r\nQ 24.90625 48.390625 20.390625 44.140625 \r\nQ 15.875 39.890625 15.1875 32.171875 \r\nz\r\n\" id=\"DejaVuSans-101\"/>\r\n       <path d=\"M 34.28125 27.484375 \r\nQ 23.390625 27.484375 19.1875 25 \r\nQ 14.984375 22.515625 14.984375 16.5 \r\nQ 14.984375 11.71875 18.140625 8.90625 \r\nQ 21.296875 6.109375 26.703125 6.109375 \r\nQ 34.1875 6.109375 38.703125 11.40625 \r\nQ 43.21875 16.703125 43.21875 25.484375 \r\nL 43.21875 27.484375 \r\nz\r\nM 52.203125 31.203125 \r\nL 52.203125 0 \r\nL 43.21875 0 \r\nL 43.21875 8.296875 \r\nQ 40.140625 3.328125 35.546875 0.953125 \r\nQ 30.953125 -1.421875 24.3125 -1.421875 \r\nQ 15.921875 -1.421875 10.953125 3.296875 \r\nQ 6 8.015625 6 15.921875 \r\nQ 6 25.140625 12.171875 29.828125 \r\nQ 18.359375 34.515625 30.609375 34.515625 \r\nL 43.21875 34.515625 \r\nL 43.21875 35.40625 \r\nQ 43.21875 41.609375 39.140625 45 \r\nQ 35.0625 48.390625 27.6875 48.390625 \r\nQ 23 48.390625 18.546875 47.265625 \r\nQ 14.109375 46.140625 10.015625 43.890625 \r\nL 10.015625 52.203125 \r\nQ 14.9375 54.109375 19.578125 55.046875 \r\nQ 24.21875 56 28.609375 56 \r\nQ 40.484375 56 46.34375 49.84375 \r\nQ 52.203125 43.703125 52.203125 31.203125 \r\nz\r\n\" id=\"DejaVuSans-97\"/>\r\n       <path d=\"M 9.421875 75.984375 \r\nL 18.40625 75.984375 \r\nL 18.40625 0 \r\nL 9.421875 0 \r\nz\r\n\" id=\"DejaVuSans-108\"/>\r\n       <path d=\"M 32.171875 -5.078125 \r\nQ 28.375 -14.84375 24.75 -17.8125 \r\nQ 21.140625 -20.796875 15.09375 -20.796875 \r\nL 7.90625 -20.796875 \r\nL 7.90625 -13.28125 \r\nL 13.1875 -13.28125 \r\nQ 16.890625 -13.28125 18.9375 -11.515625 \r\nQ 21 -9.765625 23.484375 -3.21875 \r\nL 25.09375 0.875 \r\nL 2.984375 54.6875 \r\nL 12.5 54.6875 \r\nL 29.59375 11.921875 \r\nL 46.6875 54.6875 \r\nL 56.203125 54.6875 \r\nz\r\n\" id=\"DejaVuSans-121\"/>\r\n       <path id=\"DejaVuSans-32\"/>\r\n       <path d=\"M 9.8125 72.90625 \r\nL 19.671875 72.90625 \r\nL 19.671875 0 \r\nL 9.8125 0 \r\nz\r\n\" id=\"DejaVuSans-73\"/>\r\n       <path d=\"M 2.984375 54.6875 \r\nL 12.5 54.6875 \r\nL 29.59375 8.796875 \r\nL 46.6875 54.6875 \r\nL 56.203125 54.6875 \r\nL 35.6875 0 \r\nL 23.484375 0 \r\nz\r\n\" id=\"DejaVuSans-118\"/>\r\n       <path d=\"M 34.1875 63.1875 \r\nL 20.796875 26.90625 \r\nL 47.609375 26.90625 \r\nz\r\nM 28.609375 72.90625 \r\nL 39.796875 72.90625 \r\nL 67.578125 0 \r\nL 57.328125 0 \r\nL 50.6875 18.703125 \r\nL 17.828125 18.703125 \r\nL 11.1875 0 \r\nL 0.78125 0 \r\nz\r\n\" id=\"DejaVuSans-65\"/>\r\n       <path d=\"M 52 44.1875 \r\nQ 55.375 50.25 60.0625 53.125 \r\nQ 64.75 56 71.09375 56 \r\nQ 79.640625 56 84.28125 50.015625 \r\nQ 88.921875 44.046875 88.921875 33.015625 \r\nL 88.921875 0 \r\nL 79.890625 0 \r\nL 79.890625 32.71875 \r\nQ 79.890625 40.578125 77.09375 44.375 \r\nQ 74.3125 48.1875 68.609375 48.1875 \r\nQ 61.625 48.1875 57.5625 43.546875 \r\nQ 53.515625 38.921875 53.515625 30.90625 \r\nL 53.515625 0 \r\nL 44.484375 0 \r\nL 44.484375 32.71875 \r\nQ 44.484375 40.625 41.703125 44.40625 \r\nQ 38.921875 48.1875 33.109375 48.1875 \r\nQ 26.21875 48.1875 22.15625 43.53125 \r\nQ 18.109375 38.875 18.109375 30.90625 \r\nL 18.109375 0 \r\nL 9.078125 0 \r\nL 9.078125 54.6875 \r\nL 18.109375 54.6875 \r\nL 18.109375 46.1875 \r\nQ 21.1875 51.21875 25.484375 53.609375 \r\nQ 29.78125 56 35.6875 56 \r\nQ 41.65625 56 45.828125 52.96875 \r\nQ 50 49.953125 52 44.1875 \r\nz\r\n\" id=\"DejaVuSans-109\"/>\r\n      </defs>\r\n      <use xlink:href=\"#DejaVuSans-89\"/>\r\n      <use x=\"47.833984\" xlink:href=\"#DejaVuSans-101\"/>\r\n      <use x=\"109.357422\" xlink:href=\"#DejaVuSans-97\"/>\r\n      <use x=\"170.636719\" xlink:href=\"#DejaVuSans-114\"/>\r\n      <use x=\"211.75\" xlink:href=\"#DejaVuSans-108\"/>\r\n      <use x=\"239.533203\" xlink:href=\"#DejaVuSans-121\"/>\r\n      <use x=\"298.712891\" xlink:href=\"#DejaVuSans-32\"/>\r\n      <use x=\"330.5\" xlink:href=\"#DejaVuSans-73\"/>\r\n      <use x=\"359.992188\" xlink:href=\"#DejaVuSans-110\"/>\r\n      <use x=\"423.371094\" xlink:href=\"#DejaVuSans-118\"/>\r\n      <use x=\"482.550781\" xlink:href=\"#DejaVuSans-111\"/>\r\n      <use x=\"543.732422\" xlink:href=\"#DejaVuSans-105\"/>\r\n      <use x=\"571.515625\" xlink:href=\"#DejaVuSans-99\"/>\r\n      <use x=\"626.496094\" xlink:href=\"#DejaVuSans-101\"/>\r\n      <use x=\"688.019531\" xlink:href=\"#DejaVuSans-32\"/>\r\n      <use x=\"719.806641\" xlink:href=\"#DejaVuSans-65\"/>\r\n      <use x=\"788.214844\" xlink:href=\"#DejaVuSans-109\"/>\r\n      <use x=\"885.626953\" xlink:href=\"#DejaVuSans-111\"/>\r\n      <use x=\"946.808594\" xlink:href=\"#DejaVuSans-117\"/>\r\n      <use x=\"1010.1875\" xlink:href=\"#DejaVuSans-110\"/>\r\n      <use x=\"1073.566406\" xlink:href=\"#DejaVuSans-116\"/>\r\n     </g>\r\n    </g>\r\n   </g>\r\n   <g id=\"text_3\">\r\n    <!-- (2015, 1 Year) -->\r\n    <g transform=\"translate(7.2 296.8775)scale(0.1 -0.1)\">\r\n     <defs>\r\n      <path d=\"M 31 75.875 \r\nQ 24.46875 64.65625 21.28125 53.65625 \r\nQ 18.109375 42.671875 18.109375 31.390625 \r\nQ 18.109375 20.125 21.3125 9.0625 \r\nQ 24.515625 -2 31 -13.1875 \r\nL 23.1875 -13.1875 \r\nQ 15.875 -1.703125 12.234375 9.375 \r\nQ 8.59375 20.453125 8.59375 31.390625 \r\nQ 8.59375 42.28125 12.203125 53.3125 \r\nQ 15.828125 64.359375 23.1875 75.875 \r\nz\r\n\" id=\"DejaVuSans-40\"/>\r\n      <path d=\"M 19.1875 8.296875 \r\nL 53.609375 8.296875 \r\nL 53.609375 0 \r\nL 7.328125 0 \r\nL 7.328125 8.296875 \r\nQ 12.9375 14.109375 22.625 23.890625 \r\nQ 32.328125 33.6875 34.8125 36.53125 \r\nQ 39.546875 41.84375 41.421875 45.53125 \r\nQ 43.3125 49.21875 43.3125 52.78125 \r\nQ 43.3125 58.59375 39.234375 62.25 \r\nQ 35.15625 65.921875 28.609375 65.921875 \r\nQ 23.96875 65.921875 18.8125 64.3125 \r\nQ 13.671875 62.703125 7.8125 59.421875 \r\nL 7.8125 69.390625 \r\nQ 13.765625 71.78125 18.9375 73 \r\nQ 24.125 74.21875 28.421875 74.21875 \r\nQ 39.75 74.21875 46.484375 68.546875 \r\nQ 53.21875 62.890625 53.21875 53.421875 \r\nQ 53.21875 48.921875 51.53125 44.890625 \r\nQ 49.859375 40.875 45.40625 35.40625 \r\nQ 44.1875 33.984375 37.640625 27.21875 \r\nQ 31.109375 20.453125 19.1875 8.296875 \r\nz\r\n\" id=\"DejaVuSans-50\"/>\r\n      <path d=\"M 31.78125 66.40625 \r\nQ 24.171875 66.40625 20.328125 58.90625 \r\nQ 16.5 51.421875 16.5 36.375 \r\nQ 16.5 21.390625 20.328125 13.890625 \r\nQ 24.171875 6.390625 31.78125 6.390625 \r\nQ 39.453125 6.390625 43.28125 13.890625 \r\nQ 47.125 21.390625 47.125 36.375 \r\nQ 47.125 51.421875 43.28125 58.90625 \r\nQ 39.453125 66.40625 31.78125 66.40625 \r\nz\r\nM 31.78125 74.21875 \r\nQ 44.046875 74.21875 50.515625 64.515625 \r\nQ 56.984375 54.828125 56.984375 36.375 \r\nQ 56.984375 17.96875 50.515625 8.265625 \r\nQ 44.046875 -1.421875 31.78125 -1.421875 \r\nQ 19.53125 -1.421875 13.0625 8.265625 \r\nQ 6.59375 17.96875 6.59375 36.375 \r\nQ 6.59375 54.828125 13.0625 64.515625 \r\nQ 19.53125 74.21875 31.78125 74.21875 \r\nz\r\n\" id=\"DejaVuSans-48\"/>\r\n      <path d=\"M 12.40625 8.296875 \r\nL 28.515625 8.296875 \r\nL 28.515625 63.921875 \r\nL 10.984375 60.40625 \r\nL 10.984375 69.390625 \r\nL 28.421875 72.90625 \r\nL 38.28125 72.90625 \r\nL 38.28125 8.296875 \r\nL 54.390625 8.296875 \r\nL 54.390625 0 \r\nL 12.40625 0 \r\nz\r\n\" id=\"DejaVuSans-49\"/>\r\n      <path d=\"M 10.796875 72.90625 \r\nL 49.515625 72.90625 \r\nL 49.515625 64.59375 \r\nL 19.828125 64.59375 \r\nL 19.828125 46.734375 \r\nQ 21.96875 47.46875 24.109375 47.828125 \r\nQ 26.265625 48.1875 28.421875 48.1875 \r\nQ 40.625 48.1875 47.75 41.5 \r\nQ 54.890625 34.8125 54.890625 23.390625 \r\nQ 54.890625 11.625 47.5625 5.09375 \r\nQ 40.234375 -1.421875 26.90625 -1.421875 \r\nQ 22.3125 -1.421875 17.546875 -0.640625 \r\nQ 12.796875 0.140625 7.71875 1.703125 \r\nL 7.71875 11.625 \r\nQ 12.109375 9.234375 16.796875 8.0625 \r\nQ 21.484375 6.890625 26.703125 6.890625 \r\nQ 35.15625 6.890625 40.078125 11.328125 \r\nQ 45.015625 15.765625 45.015625 23.390625 \r\nQ 45.015625 31 40.078125 35.4375 \r\nQ 35.15625 39.890625 26.703125 39.890625 \r\nQ 22.75 39.890625 18.8125 39.015625 \r\nQ 14.890625 38.140625 10.796875 36.28125 \r\nz\r\n\" id=\"DejaVuSans-53\"/>\r\n      <path d=\"M 11.71875 12.40625 \r\nL 22.015625 12.40625 \r\nL 22.015625 4 \r\nL 14.015625 -11.625 \r\nL 7.71875 -11.625 \r\nL 11.71875 4 \r\nz\r\n\" id=\"DejaVuSans-44\"/>\r\n      <path d=\"M 8.015625 75.875 \r\nL 15.828125 75.875 \r\nQ 23.140625 64.359375 26.78125 53.3125 \r\nQ 30.421875 42.28125 30.421875 31.390625 \r\nQ 30.421875 20.453125 26.78125 9.375 \r\nQ 23.140625 -1.703125 15.828125 -13.1875 \r\nL 8.015625 -13.1875 \r\nQ 14.5 -2 17.703125 9.0625 \r\nQ 20.90625 20.125 20.90625 31.390625 \r\nQ 20.90625 42.671875 17.703125 53.65625 \r\nQ 14.5 64.65625 8.015625 75.875 \r\nz\r\n\" id=\"DejaVuSans-41\"/>\r\n     </defs>\r\n     <use xlink:href=\"#DejaVuSans-40\"/>\r\n     <use x=\"39.013672\" xlink:href=\"#DejaVuSans-50\"/>\r\n     <use x=\"102.636719\" xlink:href=\"#DejaVuSans-48\"/>\r\n     <use x=\"166.259766\" xlink:href=\"#DejaVuSans-49\"/>\r\n     <use x=\"229.882812\" xlink:href=\"#DejaVuSans-53\"/>\r\n     <use x=\"293.505859\" xlink:href=\"#DejaVuSans-44\"/>\r\n     <use x=\"325.292969\" xlink:href=\"#DejaVuSans-32\"/>\r\n     <use x=\"357.080078\" xlink:href=\"#DejaVuSans-49\"/>\r\n     <use x=\"420.703125\" xlink:href=\"#DejaVuSans-32\"/>\r\n     <use x=\"452.490234\" xlink:href=\"#DejaVuSans-89\"/>\r\n     <use x=\"500.324219\" xlink:href=\"#DejaVuSans-101\"/>\r\n     <use x=\"561.847656\" xlink:href=\"#DejaVuSans-97\"/>\r\n     <use x=\"623.126953\" xlink:href=\"#DejaVuSans-114\"/>\r\n     <use x=\"664.240234\" xlink:href=\"#DejaVuSans-41\"/>\r\n    </g>\r\n   </g>\r\n   <g id=\"text_4\">\r\n    <!-- Subscription Income from 2015 to 2020 -->\r\n    <g transform=\"translate(197.292125 16.318125)scale(0.12 -0.12)\">\r\n     <defs>\r\n      <path d=\"M 37.109375 75.984375 \r\nL 37.109375 68.5 \r\nL 28.515625 68.5 \r\nQ 23.6875 68.5 21.796875 66.546875 \r\nQ 19.921875 64.59375 19.921875 59.515625 \r\nL 19.921875 54.6875 \r\nL 34.71875 54.6875 \r\nL 34.71875 47.703125 \r\nL 19.921875 47.703125 \r\nL 19.921875 0 \r\nL 10.890625 0 \r\nL 10.890625 47.703125 \r\nL 2.296875 47.703125 \r\nL 2.296875 54.6875 \r\nL 10.890625 54.6875 \r\nL 10.890625 58.5 \r\nQ 10.890625 67.625 15.140625 71.796875 \r\nQ 19.390625 75.984375 28.609375 75.984375 \r\nz\r\n\" id=\"DejaVuSans-102\"/>\r\n     </defs>\r\n     <use xlink:href=\"#DejaVuSans-83\"/>\r\n     <use x=\"63.476562\" xlink:href=\"#DejaVuSans-117\"/>\r\n     <use x=\"126.855469\" xlink:href=\"#DejaVuSans-98\"/>\r\n     <use x=\"190.332031\" xlink:href=\"#DejaVuSans-115\"/>\r\n     <use x=\"242.431641\" xlink:href=\"#DejaVuSans-99\"/>\r\n     <use x=\"297.412109\" xlink:href=\"#DejaVuSans-114\"/>\r\n     <use x=\"338.525391\" xlink:href=\"#DejaVuSans-105\"/>\r\n     <use x=\"366.308594\" xlink:href=\"#DejaVuSans-112\"/>\r\n     <use x=\"429.785156\" xlink:href=\"#DejaVuSans-116\"/>\r\n     <use x=\"468.994141\" xlink:href=\"#DejaVuSans-105\"/>\r\n     <use x=\"496.777344\" xlink:href=\"#DejaVuSans-111\"/>\r\n     <use x=\"557.958984\" xlink:href=\"#DejaVuSans-110\"/>\r\n     <use x=\"621.337891\" xlink:href=\"#DejaVuSans-32\"/>\r\n     <use x=\"653.125\" xlink:href=\"#DejaVuSans-73\"/>\r\n     <use x=\"682.617188\" xlink:href=\"#DejaVuSans-110\"/>\r\n     <use x=\"745.996094\" xlink:href=\"#DejaVuSans-99\"/>\r\n     <use x=\"800.976562\" xlink:href=\"#DejaVuSans-111\"/>\r\n     <use x=\"862.158203\" xlink:href=\"#DejaVuSans-109\"/>\r\n     <use x=\"959.570312\" xlink:href=\"#DejaVuSans-101\"/>\r\n     <use x=\"1021.09375\" xlink:href=\"#DejaVuSans-32\"/>\r\n     <use x=\"1052.880859\" xlink:href=\"#DejaVuSans-102\"/>\r\n     <use x=\"1088.085938\" xlink:href=\"#DejaVuSans-114\"/>\r\n     <use x=\"1126.949219\" xlink:href=\"#DejaVuSans-111\"/>\r\n     <use x=\"1188.130859\" xlink:href=\"#DejaVuSans-109\"/>\r\n     <use x=\"1285.542969\" xlink:href=\"#DejaVuSans-32\"/>\r\n     <use x=\"1317.330078\" xlink:href=\"#DejaVuSans-50\"/>\r\n     <use x=\"1380.953125\" xlink:href=\"#DejaVuSans-48\"/>\r\n     <use x=\"1444.576172\" xlink:href=\"#DejaVuSans-49\"/>\r\n     <use x=\"1508.199219\" xlink:href=\"#DejaVuSans-53\"/>\r\n     <use x=\"1571.822266\" xlink:href=\"#DejaVuSans-32\"/>\r\n     <use x=\"1603.609375\" xlink:href=\"#DejaVuSans-116\"/>\r\n     <use x=\"1642.818359\" xlink:href=\"#DejaVuSans-111\"/>\r\n     <use x=\"1704\" xlink:href=\"#DejaVuSans-32\"/>\r\n     <use x=\"1735.787109\" xlink:href=\"#DejaVuSans-50\"/>\r\n     <use x=\"1799.410156\" xlink:href=\"#DejaVuSans-48\"/>\r\n     <use x=\"1863.033203\" xlink:href=\"#DejaVuSans-50\"/>\r\n     <use x=\"1926.65625\" xlink:href=\"#DejaVuSans-48\"/>\r\n    </g>\r\n   </g>\r\n  </g>\r\n </g>\r\n</svg>\r\n",
      "image/png": "[encoded data removed]"
     },
     "metadata": {}
    }
   ],
   "source": [
    "mean_subscription_income = ATLAS_with_periods.groupby(['Year', 'Subscription'])[\"Invoice Amount\"].mean()\n",
    "mean_subscription_income = mean_subscription_income.sort_index()\n",
    "mean_subscription_income.plot.pie(title=\"Subscription Income from 2015 to 2020\", figsize=(25,10))\n",
    "plt.xlabel(\"Subscription\")\n",
    "plt.ylabel(\"Yearly Invoice Amount\")"
   ]
  },
  {
   "cell_type": "code",
   "execution_count": 18,
   "metadata": {},
   "outputs": [
    {
     "output_type": "error",
     "ename": "TypeError",
     "evalue": "ufunc 'isfinite' not supported for the input types, and the inputs could not be safely coerced to any supported types according to the casting rule ''safe''",
     "traceback": [
      "\u001b[1;31m---------------------------------------------------------------------------\u001b[0m",
      "\u001b[1;31mTypeError\u001b[0m                                 Traceback (most recent call last)",
      "\u001b[1;32m<ipython-input-18-fff3486d3e65>\u001b[0m in \u001b[0;36m<module>\u001b[1;34m\u001b[0m\n\u001b[0;32m      6\u001b[0m \u001b[0mlast_year\u001b[0m \u001b[1;33m=\u001b[0m \u001b[0mmean_subscription_income\u001b[0m\u001b[1;33m.\u001b[0m\u001b[0mindex\u001b[0m\u001b[1;33m[\u001b[0m\u001b[1;33m-\u001b[0m\u001b[1;36m1\u001b[0m\u001b[1;33m]\u001b[0m\u001b[1;33m\u001b[0m\u001b[1;33m\u001b[0m\u001b[0m\n\u001b[0;32m      7\u001b[0m \u001b[1;33m\u001b[0m\u001b[0m\n\u001b[1;32m----> 8\u001b[1;33m fig_subscription_income = mean_subscription_income.plot.line(xlim=[first_year, last_year],\n\u001b[0m\u001b[0;32m      9\u001b[0m                                                 \u001b[0mfigsize\u001b[0m \u001b[1;33m=\u001b[0m \u001b[1;33m(\u001b[0m\u001b[1;36m20\u001b[0m\u001b[1;33m,\u001b[0m \u001b[1;36m10\u001b[0m\u001b[1;33m)\u001b[0m\u001b[1;33m,\u001b[0m\u001b[1;33m\u001b[0m\u001b[1;33m\u001b[0m\u001b[0m\n\u001b[0;32m     10\u001b[0m                                                ylim=[amount_min - amount_std, amount_max + amount_std])\n",
      "\u001b[1;32mC:\\ProgramData\\Anaconda3\\envs\\pyvizenv\\lib\\site-packages\\pandas\\plotting\\_core.py\u001b[0m in \u001b[0;36mline\u001b[1;34m(self, x, y, **kwargs)\u001b[0m\n\u001b[0;32m   1015\u001b[0m         \u001b[1;32mas\u001b[0m \u001b[0mcoordinates\u001b[0m\u001b[1;33m.\u001b[0m\u001b[1;33m\u001b[0m\u001b[1;33m\u001b[0m\u001b[0m\n\u001b[0;32m   1016\u001b[0m         \"\"\"\n\u001b[1;32m-> 1017\u001b[1;33m         \u001b[1;32mreturn\u001b[0m \u001b[0mself\u001b[0m\u001b[1;33m(\u001b[0m\u001b[0mkind\u001b[0m\u001b[1;33m=\u001b[0m\u001b[1;34m\"line\"\u001b[0m\u001b[1;33m,\u001b[0m \u001b[0mx\u001b[0m\u001b[1;33m=\u001b[0m\u001b[0mx\u001b[0m\u001b[1;33m,\u001b[0m \u001b[0my\u001b[0m\u001b[1;33m=\u001b[0m\u001b[0my\u001b[0m\u001b[1;33m,\u001b[0m \u001b[1;33m**\u001b[0m\u001b[0mkwargs\u001b[0m\u001b[1;33m)\u001b[0m\u001b[1;33m\u001b[0m\u001b[1;33m\u001b[0m\u001b[0m\n\u001b[0m\u001b[0;32m   1018\u001b[0m \u001b[1;33m\u001b[0m\u001b[0m\n\u001b[0;32m   1019\u001b[0m     @Appender(\n",
      "\u001b[1;32mC:\\ProgramData\\Anaconda3\\envs\\pyvizenv\\lib\\site-packages\\pandas\\plotting\\_core.py\u001b[0m in \u001b[0;36m__call__\u001b[1;34m(self, *args, **kwargs)\u001b[0m\n\u001b[0;32m    947\u001b[0m                     \u001b[0mdata\u001b[0m\u001b[1;33m.\u001b[0m\u001b[0mcolumns\u001b[0m \u001b[1;33m=\u001b[0m \u001b[0mlabel_name\u001b[0m\u001b[1;33m\u001b[0m\u001b[1;33m\u001b[0m\u001b[0m\n\u001b[0;32m    948\u001b[0m \u001b[1;33m\u001b[0m\u001b[0m\n\u001b[1;32m--> 949\u001b[1;33m         \u001b[1;32mreturn\u001b[0m \u001b[0mplot_backend\u001b[0m\u001b[1;33m.\u001b[0m\u001b[0mplot\u001b[0m\u001b[1;33m(\u001b[0m\u001b[0mdata\u001b[0m\u001b[1;33m,\u001b[0m \u001b[0mkind\u001b[0m\u001b[1;33m=\u001b[0m\u001b[0mkind\u001b[0m\u001b[1;33m,\u001b[0m \u001b[1;33m**\u001b[0m\u001b[0mkwargs\u001b[0m\u001b[1;33m)\u001b[0m\u001b[1;33m\u001b[0m\u001b[1;33m\u001b[0m\u001b[0m\n\u001b[0m\u001b[0;32m    950\u001b[0m \u001b[1;33m\u001b[0m\u001b[0m\n\u001b[0;32m    951\u001b[0m     \u001b[0m__call__\u001b[0m\u001b[1;33m.\u001b[0m\u001b[0m__doc__\u001b[0m \u001b[1;33m=\u001b[0m \u001b[0m__doc__\u001b[0m\u001b[1;33m\u001b[0m\u001b[1;33m\u001b[0m\u001b[0m\n",
      "\u001b[1;32mC:\\ProgramData\\Anaconda3\\envs\\pyvizenv\\lib\\site-packages\\pandas\\plotting\\_matplotlib\\__init__.py\u001b[0m in \u001b[0;36mplot\u001b[1;34m(data, kind, **kwargs)\u001b[0m\n\u001b[0;32m     59\u001b[0m             \u001b[0mkwargs\u001b[0m\u001b[1;33m[\u001b[0m\u001b[1;34m\"ax\"\u001b[0m\u001b[1;33m]\u001b[0m \u001b[1;33m=\u001b[0m \u001b[0mgetattr\u001b[0m\u001b[1;33m(\u001b[0m\u001b[0max\u001b[0m\u001b[1;33m,\u001b[0m \u001b[1;34m\"left_ax\"\u001b[0m\u001b[1;33m,\u001b[0m \u001b[0max\u001b[0m\u001b[1;33m)\u001b[0m\u001b[1;33m\u001b[0m\u001b[1;33m\u001b[0m\u001b[0m\n\u001b[0;32m     60\u001b[0m     \u001b[0mplot_obj\u001b[0m \u001b[1;33m=\u001b[0m \u001b[0mPLOT_CLASSES\u001b[0m\u001b[1;33m[\u001b[0m\u001b[0mkind\u001b[0m\u001b[1;33m]\u001b[0m\u001b[1;33m(\u001b[0m\u001b[0mdata\u001b[0m\u001b[1;33m,\u001b[0m \u001b[1;33m**\u001b[0m\u001b[0mkwargs\u001b[0m\u001b[1;33m)\u001b[0m\u001b[1;33m\u001b[0m\u001b[1;33m\u001b[0m\u001b[0m\n\u001b[1;32m---> 61\u001b[1;33m     \u001b[0mplot_obj\u001b[0m\u001b[1;33m.\u001b[0m\u001b[0mgenerate\u001b[0m\u001b[1;33m(\u001b[0m\u001b[1;33m)\u001b[0m\u001b[1;33m\u001b[0m\u001b[1;33m\u001b[0m\u001b[0m\n\u001b[0m\u001b[0;32m     62\u001b[0m     \u001b[0mplot_obj\u001b[0m\u001b[1;33m.\u001b[0m\u001b[0mdraw\u001b[0m\u001b[1;33m(\u001b[0m\u001b[1;33m)\u001b[0m\u001b[1;33m\u001b[0m\u001b[1;33m\u001b[0m\u001b[0m\n\u001b[0;32m     63\u001b[0m     \u001b[1;32mreturn\u001b[0m \u001b[0mplot_obj\u001b[0m\u001b[1;33m.\u001b[0m\u001b[0mresult\u001b[0m\u001b[1;33m\u001b[0m\u001b[1;33m\u001b[0m\u001b[0m\n",
      "\u001b[1;32mC:\\ProgramData\\Anaconda3\\envs\\pyvizenv\\lib\\site-packages\\pandas\\plotting\\_matplotlib\\core.py\u001b[0m in \u001b[0;36mgenerate\u001b[1;34m(self)\u001b[0m\n\u001b[0;32m    272\u001b[0m         \u001b[0mself\u001b[0m\u001b[1;33m.\u001b[0m\u001b[0m_add_table\u001b[0m\u001b[1;33m(\u001b[0m\u001b[1;33m)\u001b[0m\u001b[1;33m\u001b[0m\u001b[1;33m\u001b[0m\u001b[0m\n\u001b[0;32m    273\u001b[0m         \u001b[0mself\u001b[0m\u001b[1;33m.\u001b[0m\u001b[0m_make_legend\u001b[0m\u001b[1;33m(\u001b[0m\u001b[1;33m)\u001b[0m\u001b[1;33m\u001b[0m\u001b[1;33m\u001b[0m\u001b[0m\n\u001b[1;32m--> 274\u001b[1;33m         \u001b[0mself\u001b[0m\u001b[1;33m.\u001b[0m\u001b[0m_adorn_subplots\u001b[0m\u001b[1;33m(\u001b[0m\u001b[1;33m)\u001b[0m\u001b[1;33m\u001b[0m\u001b[1;33m\u001b[0m\u001b[0m\n\u001b[0m\u001b[0;32m    275\u001b[0m \u001b[1;33m\u001b[0m\u001b[0m\n\u001b[0;32m    276\u001b[0m         \u001b[1;32mfor\u001b[0m \u001b[0max\u001b[0m \u001b[1;32min\u001b[0m \u001b[0mself\u001b[0m\u001b[1;33m.\u001b[0m\u001b[0maxes\u001b[0m\u001b[1;33m:\u001b[0m\u001b[1;33m\u001b[0m\u001b[1;33m\u001b[0m\u001b[0m\n",
      "\u001b[1;32mC:\\ProgramData\\Anaconda3\\envs\\pyvizenv\\lib\\site-packages\\pandas\\plotting\\_matplotlib\\core.py\u001b[0m in \u001b[0;36m_adorn_subplots\u001b[1;34m(self)\u001b[0m\n\u001b[0;32m    487\u001b[0m \u001b[1;33m\u001b[0m\u001b[0m\n\u001b[0;32m    488\u001b[0m             \u001b[1;32mif\u001b[0m \u001b[0mself\u001b[0m\u001b[1;33m.\u001b[0m\u001b[0mxlim\u001b[0m \u001b[1;32mis\u001b[0m \u001b[1;32mnot\u001b[0m \u001b[1;32mNone\u001b[0m\u001b[1;33m:\u001b[0m\u001b[1;33m\u001b[0m\u001b[1;33m\u001b[0m\u001b[0m\n\u001b[1;32m--> 489\u001b[1;33m                 \u001b[0max\u001b[0m\u001b[1;33m.\u001b[0m\u001b[0mset_xlim\u001b[0m\u001b[1;33m(\u001b[0m\u001b[0mself\u001b[0m\u001b[1;33m.\u001b[0m\u001b[0mxlim\u001b[0m\u001b[1;33m)\u001b[0m\u001b[1;33m\u001b[0m\u001b[1;33m\u001b[0m\u001b[0m\n\u001b[0m\u001b[0;32m    490\u001b[0m \u001b[1;33m\u001b[0m\u001b[0m\n\u001b[0;32m    491\u001b[0m             \u001b[1;31m# GH9093, currently Pandas does not show ylabel, so if users provide\u001b[0m\u001b[1;33m\u001b[0m\u001b[1;33m\u001b[0m\u001b[1;33m\u001b[0m\u001b[0m\n",
      "\u001b[1;32mC:\\ProgramData\\Anaconda3\\envs\\pyvizenv\\lib\\site-packages\\matplotlib\\axes\\_base.py\u001b[0m in \u001b[0;36mset_xlim\u001b[1;34m(self, left, right, emit, auto, xmin, xmax)\u001b[0m\n\u001b[0;32m   3327\u001b[0m                 f\"in singular transformations; automatically expanding.\")\n\u001b[0;32m   3328\u001b[0m         \u001b[0mreverse\u001b[0m \u001b[1;33m=\u001b[0m \u001b[0mleft\u001b[0m \u001b[1;33m>\u001b[0m \u001b[0mright\u001b[0m\u001b[1;33m\u001b[0m\u001b[1;33m\u001b[0m\u001b[0m\n\u001b[1;32m-> 3329\u001b[1;33m         \u001b[0mleft\u001b[0m\u001b[1;33m,\u001b[0m \u001b[0mright\u001b[0m \u001b[1;33m=\u001b[0m \u001b[0mself\u001b[0m\u001b[1;33m.\u001b[0m\u001b[0mxaxis\u001b[0m\u001b[1;33m.\u001b[0m\u001b[0mget_major_locator\u001b[0m\u001b[1;33m(\u001b[0m\u001b[1;33m)\u001b[0m\u001b[1;33m.\u001b[0m\u001b[0mnonsingular\u001b[0m\u001b[1;33m(\u001b[0m\u001b[0mleft\u001b[0m\u001b[1;33m,\u001b[0m \u001b[0mright\u001b[0m\u001b[1;33m)\u001b[0m\u001b[1;33m\u001b[0m\u001b[1;33m\u001b[0m\u001b[0m\n\u001b[0m\u001b[0;32m   3330\u001b[0m         \u001b[0mleft\u001b[0m\u001b[1;33m,\u001b[0m \u001b[0mright\u001b[0m \u001b[1;33m=\u001b[0m \u001b[0mself\u001b[0m\u001b[1;33m.\u001b[0m\u001b[0mxaxis\u001b[0m\u001b[1;33m.\u001b[0m\u001b[0mlimit_range_for_scale\u001b[0m\u001b[1;33m(\u001b[0m\u001b[0mleft\u001b[0m\u001b[1;33m,\u001b[0m \u001b[0mright\u001b[0m\u001b[1;33m)\u001b[0m\u001b[1;33m\u001b[0m\u001b[1;33m\u001b[0m\u001b[0m\n\u001b[0;32m   3331\u001b[0m         \u001b[1;31m# cast to bool to avoid bad interaction between python 3.8 and np.bool_\u001b[0m\u001b[1;33m\u001b[0m\u001b[1;33m\u001b[0m\u001b[1;33m\u001b[0m\u001b[0m\n",
      "\u001b[1;32mC:\\ProgramData\\Anaconda3\\envs\\pyvizenv\\lib\\site-packages\\matplotlib\\ticker.py\u001b[0m in \u001b[0;36mnonsingular\u001b[1;34m(self, v0, v1)\u001b[0m\n\u001b[0;32m   1766\u001b[0m         \u001b[1;33m-\u001b[0m \u001b[0mOtherwise\u001b[0m\u001b[1;33m,\u001b[0m\u001b[0;31m \u001b[0m\u001b[0;31m`\u001b[0m\u001b[0;31m`\u001b[0m\u001b[1;33m(\u001b[0m\u001b[0mv0\u001b[0m\u001b[1;33m,\u001b[0m \u001b[0mv1\u001b[0m\u001b[1;33m)\u001b[0m\u001b[0;31m`\u001b[0m\u001b[0;31m`\u001b[0m \u001b[1;32mis\u001b[0m \u001b[0mreturned\u001b[0m \u001b[0mwithout\u001b[0m \u001b[0mmodification\u001b[0m\u001b[1;33m.\u001b[0m\u001b[1;33m\u001b[0m\u001b[1;33m\u001b[0m\u001b[0m\n\u001b[0;32m   1767\u001b[0m         \"\"\"\n\u001b[1;32m-> 1768\u001b[1;33m         \u001b[1;32mreturn\u001b[0m \u001b[0mmtransforms\u001b[0m\u001b[1;33m.\u001b[0m\u001b[0mnonsingular\u001b[0m\u001b[1;33m(\u001b[0m\u001b[0mv0\u001b[0m\u001b[1;33m,\u001b[0m \u001b[0mv1\u001b[0m\u001b[1;33m,\u001b[0m \u001b[0mexpander\u001b[0m\u001b[1;33m=\u001b[0m\u001b[1;36m.05\u001b[0m\u001b[1;33m)\u001b[0m\u001b[1;33m\u001b[0m\u001b[1;33m\u001b[0m\u001b[0m\n\u001b[0m\u001b[0;32m   1769\u001b[0m \u001b[1;33m\u001b[0m\u001b[0m\n\u001b[0;32m   1770\u001b[0m     \u001b[1;32mdef\u001b[0m \u001b[0mview_limits\u001b[0m\u001b[1;33m(\u001b[0m\u001b[0mself\u001b[0m\u001b[1;33m,\u001b[0m \u001b[0mvmin\u001b[0m\u001b[1;33m,\u001b[0m \u001b[0mvmax\u001b[0m\u001b[1;33m)\u001b[0m\u001b[1;33m:\u001b[0m\u001b[1;33m\u001b[0m\u001b[1;33m\u001b[0m\u001b[0m\n",
      "\u001b[1;32mC:\\ProgramData\\Anaconda3\\envs\\pyvizenv\\lib\\site-packages\\matplotlib\\transforms.py\u001b[0m in \u001b[0;36mnonsingular\u001b[1;34m(vmin, vmax, expander, tiny, increasing)\u001b[0m\n\u001b[0;32m   2790\u001b[0m     \"\"\"\n\u001b[0;32m   2791\u001b[0m \u001b[1;33m\u001b[0m\u001b[0m\n\u001b[1;32m-> 2792\u001b[1;33m     \u001b[1;32mif\u001b[0m \u001b[1;33m(\u001b[0m\u001b[1;32mnot\u001b[0m \u001b[0mnp\u001b[0m\u001b[1;33m.\u001b[0m\u001b[0misfinite\u001b[0m\u001b[1;33m(\u001b[0m\u001b[0mvmin\u001b[0m\u001b[1;33m)\u001b[0m\u001b[1;33m)\u001b[0m \u001b[1;32mor\u001b[0m \u001b[1;33m(\u001b[0m\u001b[1;32mnot\u001b[0m \u001b[0mnp\u001b[0m\u001b[1;33m.\u001b[0m\u001b[0misfinite\u001b[0m\u001b[1;33m(\u001b[0m\u001b[0mvmax\u001b[0m\u001b[1;33m)\u001b[0m\u001b[1;33m)\u001b[0m\u001b[1;33m:\u001b[0m\u001b[1;33m\u001b[0m\u001b[1;33m\u001b[0m\u001b[0m\n\u001b[0m\u001b[0;32m   2793\u001b[0m         \u001b[1;32mreturn\u001b[0m \u001b[1;33m-\u001b[0m\u001b[0mexpander\u001b[0m\u001b[1;33m,\u001b[0m \u001b[0mexpander\u001b[0m\u001b[1;33m\u001b[0m\u001b[1;33m\u001b[0m\u001b[0m\n\u001b[0;32m   2794\u001b[0m \u001b[1;33m\u001b[0m\u001b[0m\n",
      "\u001b[1;31mTypeError\u001b[0m: ufunc 'isfinite' not supported for the input types, and the inputs could not be safely coerced to any supported types according to the casting rule ''safe''"
     ]
    }
   ],
   "source": [
    "amount_min = ATLAS_with_periods.groupby([\"Subscription\"])[\"Invoice Amount\"].min().min()\n",
    "amount_max = ATLAS_with_periods.groupby([\"Subscription\"])[\"Invoice Amount\"].max().max()\n",
    "amount_std = ATLAS_with_periods[\"Invoice Amount\"].std()\n",
    "\n",
    "first_year = mean_subscription_income.index[0]\n",
    "last_year = mean_subscription_income.index[-1]\n",
    "\n",
    "fig_subscription_income = mean_subscription_income.plot.line(xlim=[first_year, last_year],\n",
    "                                                figsize = (20, 10),\n",
    "                                               ylim=[amount_min - amount_std, amount_max + amount_std])\n",
    "fig_subscription_income.set_title(\"Yearly Income from 2015 to 2020\")\n",
    "fig_subscription_income.set_xlabel(\"Year\")\n",
    "fig_subscription_income.set_ylabel(\"Yearly Income\")\n",
    "\n",
    "plt.show()"
   ]
  },
  {
   "cell_type": "code",
   "execution_count": null,
   "metadata": {},
   "outputs": [],
   "source": [
    "mean_yearly_income = ATLAS_with_periods.groupby([\"Invoice Date\"])[\"Invoice Amount\"].mean()\n",
    "mean_yearly_income = mean_yearly_income.sort_index()\n",
    "mean_yearly_income.plot.pie(title=\"Yearly Income from 2015 to 2020\", figsize=(25,10))\n",
    "plt.xlabel(\"Yearly\")\n",
    "plt.ylabel(\"Yearly Invoice Amount\")"
   ]
  },
  {
   "cell_type": "code",
   "execution_count": null,
   "metadata": {},
   "outputs": [],
   "source": [
    "# # Use the Pandas plot function to plot the average Invoice Amount per Year.\n",
    "# Note: You will need to manually adjust the y limit of the chart using the min and max values from above.\n",
    "amount_min = ATLAS_with_periods.groupby([\"Invoice Date\"])[\"Invoice Amount\"].min().min()\n",
    "amount_max = ATLAS_with_periods.groupby([\"Invoice Date\"])[\"Invoice Amount\"].max().max()\n",
    "amount_std = ATLAS_with_periods[\"Invoice Amount\"].std()\n",
    "\n",
    "first_year = mean_yearly_income.index[0]\n",
    "last_year = mean_yearly_income.index[-1]\n",
    "\n",
    "fig_yearly_income = mean_yearly_income.plot.bar(xlim=[first_year, last_year],\n",
    "                                                figsize = (20, 10),\n",
    "                                               ylim=[amount_min - amount_std, amount_max + amount_std])\n",
    "fig_yearly_income.set_title(\"Yearly Income from 2015 to 2020\")\n",
    "fig_yearly_income.set_xlabel(\"Year\")\n",
    "fig_yearly_income.set_ylabel(\"Yearly Income\")\n",
    "\n",
    "plt.show()"
   ]
  },
  {
   "cell_type": "code",
   "execution_count": null,
   "metadata": {},
   "outputs": [],
   "source": [
    "# Change date format/type\n",
    "ATLAS[\"Invoice Date\"] = ATLAS[\"Invoice Amount\"].str.replace('$','')\n",
    "\n",
    "invoice_date = ATLAS.iloc[0:6][\"Dates of service \"]\n",
    "\n",
    "date1 = pd.Timestamp(date1_str, tz=\"America/New_York\").isoformat()\n"
   ]
  },
  {
   "cell_type": "code",
   "execution_count": 109,
   "metadata": {},
   "outputs": [],
   "source": [
    "# Load .env enviroment variables\n",
    "from dotenv import load_dotenv\n",
    "load_dotenv()\n",
    "\n",
    "# Set Alpaca API key and secret\n",
    "alpaca_api_key = os.getenv(\"ALPACA_API_KEY\")\n",
    "alpaca_secret_key = os.getenv(\"ALPACA_SECRET_KEY\")\n",
    "\n",
    "api = tradeapi.REST(\n",
    "    alpaca_api_key,\n",
    "    alpaca_secret_key,\n",
    "    api_version = \"v2\"\n",
    ")"
   ]
  },
  {
   "cell_type": "code",
   "execution_count": 111,
   "metadata": {},
   "outputs": [
    {
     "data": {
      "text/html": [
       "<div>\n",
       "<style scoped>\n",
       "    .dataframe tbody tr th:only-of-type {\n",
       "        vertical-align: middle;\n",
       "    }\n",
       "\n",
       "    .dataframe tbody tr th {\n",
       "        vertical-align: top;\n",
       "    }\n",
       "\n",
       "    .dataframe thead tr th {\n",
       "        text-align: left;\n",
       "    }\n",
       "\n",
       "    .dataframe thead tr:last-of-type th {\n",
       "        text-align: right;\n",
       "    }\n",
       "</style>\n",
       "<table border=\"1\" class=\"dataframe\">\n",
       "  <thead>\n",
       "    <tr>\n",
       "      <th></th>\n",
       "      <th colspan=\"5\" halign=\"left\">APPL</th>\n",
       "    </tr>\n",
       "    <tr>\n",
       "      <th></th>\n",
       "      <th>open</th>\n",
       "      <th>high</th>\n",
       "      <th>low</th>\n",
       "      <th>close</th>\n",
       "      <th>volume</th>\n",
       "    </tr>\n",
       "    <tr>\n",
       "      <th>time</th>\n",
       "      <th></th>\n",
       "      <th></th>\n",
       "      <th></th>\n",
       "      <th></th>\n",
       "      <th></th>\n",
       "    </tr>\n",
       "  </thead>\n",
       "  <tbody>\n",
       "  </tbody>\n",
       "</table>\n",
       "</div>"
      ],
      "text/plain": [
       "Empty DataFrame\n",
       "Columns: [(APPL, open), (APPL, high), (APPL, low), (APPL, close), (APPL, volume)]\n",
       "Index: []"
      ]
     },
     "execution_count": 111,
     "metadata": {},
     "output_type": "execute_result"
    }
   ],
   "source": [
    "# Set timeframe to '1D'\n",
    "timeframe = \"1D\"\n",
    "\n",
    "# Set start and end datetimes between now and 3 years ago.\n",
    "start_date = pd.Timestamp(\"2017-05-01\", tz=\"America/New_York\").isoformat()\n",
    "end_date = pd.Timestamp(\"2020-05-01\", tz=\"America/New_York\").isoformat()\n",
    "\n",
    "# Set the ticker information\n",
    "tickers = [\"\"]\n",
    "\n",
    "# Get 3 year's worth of historical price data for Microsoft and Coca-Cola\n",
    "df_ticker = api.get_barset(\n",
    "    tickers,\n",
    "    timeframe,\n",
    "    start=start_date,\n",
    "    end=end_date\n",
    ").df\n",
    "\n",
    "# Display sample data\n",
    "df_ticker.head()"
   ]
  },
  {
   "cell_type": "code",
   "execution_count": 5,
   "metadata": {},
   "outputs": [
    {
     "data": {
      "text/html": [
       "<div>\n",
       "<style scoped>\n",
       "    .dataframe tbody tr th:only-of-type {\n",
       "        vertical-align: middle;\n",
       "    }\n",
       "\n",
       "    .dataframe tbody tr th {\n",
       "        vertical-align: top;\n",
       "    }\n",
       "\n",
       "    .dataframe thead th {\n",
       "        text-align: right;\n",
       "    }\n",
       "</style>\n",
       "<table border=\"1\" class=\"dataframe\">\n",
       "  <thead>\n",
       "    <tr style=\"text-align: right;\">\n",
       "      <th></th>\n",
       "      <th>Mailing State/Province</th>\n",
       "      <th>Organization Record Type</th>\n",
       "      <th>ATLAS Customer Type</th>\n",
       "      <th>Subscription Fee</th>\n",
       "      <th>Subscription Type</th>\n",
       "      <th>Contract Start Date</th>\n",
       "      <th>Contract End Date</th>\n",
       "    </tr>\n",
       "    <tr>\n",
       "      <th>Organization Name</th>\n",
       "      <th></th>\n",
       "      <th></th>\n",
       "      <th></th>\n",
       "      <th></th>\n",
       "      <th></th>\n",
       "      <th></th>\n",
       "      <th></th>\n",
       "    </tr>\n",
       "  </thead>\n",
       "  <tbody>\n",
       "    <tr>\n",
       "      <th>University 1</th>\n",
       "      <td>AL</td>\n",
       "      <td>College/University</td>\n",
       "      <td>System Wide IHE</td>\n",
       "      <td>62.6</td>\n",
       "      <td>3-Month</td>\n",
       "      <td>4/1/2020</td>\n",
       "      <td>6/30/2020</td>\n",
       "    </tr>\n",
       "    <tr>\n",
       "      <th>University 2</th>\n",
       "      <td>GA</td>\n",
       "      <td>College/University</td>\n",
       "      <td>Teacher Prep Program</td>\n",
       "      <td>250</td>\n",
       "      <td>3-Month</td>\n",
       "      <td>3/24/2020</td>\n",
       "      <td>6/30/2020</td>\n",
       "    </tr>\n",
       "    <tr>\n",
       "      <th>University 3</th>\n",
       "      <td>GU</td>\n",
       "      <td>College/University</td>\n",
       "      <td>NaN</td>\n",
       "      <td>250</td>\n",
       "      <td>3-Month</td>\n",
       "      <td>3/25/2020</td>\n",
       "      <td>6/30/2020</td>\n",
       "    </tr>\n",
       "    <tr>\n",
       "      <th>University 4</th>\n",
       "      <td>Hawaii</td>\n",
       "      <td>College/University</td>\n",
       "      <td>Teacher Prep Program</td>\n",
       "      <td>425</td>\n",
       "      <td>3-Month</td>\n",
       "      <td>3/25/2020</td>\n",
       "      <td>6/30/2020</td>\n",
       "    </tr>\n",
       "    <tr>\n",
       "      <th>University 5</th>\n",
       "      <td>North Dakota</td>\n",
       "      <td>General Organization</td>\n",
       "      <td>NaN</td>\n",
       "      <td>425</td>\n",
       "      <td>3-Month</td>\n",
       "      <td>4/9/2020</td>\n",
       "      <td>6/30/2020</td>\n",
       "    </tr>\n",
       "  </tbody>\n",
       "</table>\n",
       "</div>"
      ],
      "text/plain": [
       "                  Mailing State/Province Organization Record Type  \\\n",
       "Organization Name                                                   \n",
       "University 1                          AL       College/University   \n",
       "University 2                          GA       College/University   \n",
       "University 3                          GU       College/University   \n",
       "University 4                      Hawaii       College/University   \n",
       "University 5                North Dakota     General Organization   \n",
       "\n",
       "                    ATLAS Customer Type Subscription Fee Subscription Type  \\\n",
       "Organization Name                                                            \n",
       "University 1            System Wide IHE             62.6           3-Month   \n",
       "University 2       Teacher Prep Program              250           3-Month   \n",
       "University 3                        NaN              250           3-Month   \n",
       "University 4       Teacher Prep Program              425           3-Month   \n",
       "University 5                        NaN              425           3-Month   \n",
       "\n",
       "                  Contract Start Date Contract End Date  \n",
       "Organization Name                                        \n",
       "University 1                 4/1/2020         6/30/2020  \n",
       "University 2                3/24/2020         6/30/2020  \n",
       "University 3                3/25/2020         6/30/2020  \n",
       "University 4                3/25/2020         6/30/2020  \n",
       "University 5                 4/9/2020         6/30/2020  "
      ]
     },
     "execution_count": 5,
     "metadata": {},
     "output_type": "execute_result"
    }
   ],
   "source": [
    "# Read the ATLAS data into a Pandas DataFrame\n",
    "file_path_1 = Path(\"Resources/02_Deanonymized/2021 forecast CSV.csv\")\n",
    "forecast = pd.read_csv(file_path_1, index_col=\"Organization Name\")\n",
    "forecast.head()"
   ]
  },
  {
   "cell_type": "code",
   "execution_count": 4,
   "metadata": {},
   "outputs": [
    {
     "data": {
      "text/html": [
       "<div>\n",
       "<style scoped>\n",
       "    .dataframe tbody tr th:only-of-type {\n",
       "        vertical-align: middle;\n",
       "    }\n",
       "\n",
       "    .dataframe tbody tr th {\n",
       "        vertical-align: top;\n",
       "    }\n",
       "\n",
       "    .dataframe thead th {\n",
       "        text-align: right;\n",
       "    }\n",
       "</style>\n",
       "<table border=\"1\" class=\"dataframe\">\n",
       "  <thead>\n",
       "    <tr style=\"text-align: right;\">\n",
       "      <th></th>\n",
       "      <th>Name</th>\n",
       "      <th>Total</th>\n",
       "    </tr>\n",
       "    <tr>\n",
       "      <th>Month</th>\n",
       "      <th></th>\n",
       "      <th></th>\n",
       "    </tr>\n",
       "  </thead>\n",
       "  <tbody>\n",
       "    <tr>\n",
       "      <th>Jan</th>\n",
       "      <td>AL A&amp;M Univ College</td>\n",
       "      <td>1820.00</td>\n",
       "    </tr>\n",
       "    <tr>\n",
       "      <th>Jan</th>\n",
       "      <td>Albertus Magnus College</td>\n",
       "      <td>1890.00</td>\n",
       "    </tr>\n",
       "    <tr>\n",
       "      <th>Jan</th>\n",
       "      <td>American College of Ed</td>\n",
       "      <td>883.33</td>\n",
       "    </tr>\n",
       "    <tr>\n",
       "      <th>Jan</th>\n",
       "      <td>Bainbridge Island</td>\n",
       "      <td>1200.00</td>\n",
       "    </tr>\n",
       "    <tr>\n",
       "      <th>Jan</th>\n",
       "      <td>CERRA SCNBN</td>\n",
       "      <td>1166.67</td>\n",
       "    </tr>\n",
       "  </tbody>\n",
       "</table>\n",
       "</div>"
      ],
      "text/plain": [
       "                          Name    Total\n",
       "Month                                  \n",
       "Jan        AL A&M Univ College  1820.00\n",
       "Jan    Albertus Magnus College  1890.00\n",
       "Jan     American College of Ed   883.33\n",
       "Jan          Bainbridge Island  1200.00\n",
       "Jan                CERRA SCNBN  1166.67"
      ]
     },
     "execution_count": 4,
     "metadata": {},
     "output_type": "execute_result"
    }
   ],
   "source": [
    "file_path_2 = Path(\"Resources/02_Deanonymized/Revenue2020.csv\")\n",
    "revenue = pd.read_csv(file_path_2, index_col=\"Month\")\n",
    "revenue.head()"
   ]
  },
  {
   "cell_type": "code",
   "execution_count": 6,
   "metadata": {},
   "outputs": [
    {
     "ename": "ValueError",
     "evalue": "Index Payee Name invalid",
     "output_type": "error",
     "traceback": [
      "\u001b[0;31m---------------------------------------------------------------------------\u001b[0m",
      "\u001b[0;31mValueError\u001b[0m                                Traceback (most recent call last)",
      "\u001b[0;32m<ipython-input-6-999fe167c507>\u001b[0m in \u001b[0;36m<module>\u001b[0;34m\u001b[0m\n\u001b[1;32m      1\u001b[0m \u001b[0mfile_path_3\u001b[0m \u001b[0;34m=\u001b[0m \u001b[0mPath\u001b[0m\u001b[0;34m(\u001b[0m\u001b[0;34m\"Resources/02_Deanonymized/Revenue2020A.csv\"\u001b[0m\u001b[0;34m)\u001b[0m\u001b[0;34m\u001b[0m\u001b[0;34m\u001b[0m\u001b[0m\n\u001b[0;32m----> 2\u001b[0;31m \u001b[0mpayment\u001b[0m \u001b[0;34m=\u001b[0m \u001b[0mpd\u001b[0m\u001b[0;34m.\u001b[0m\u001b[0mread_csv\u001b[0m\u001b[0;34m(\u001b[0m\u001b[0mfile_path_3\u001b[0m\u001b[0;34m,\u001b[0m \u001b[0mindex_col\u001b[0m\u001b[0;34m=\u001b[0m\u001b[0;34m\"Payee Name\"\u001b[0m\u001b[0;34m)\u001b[0m\u001b[0;34m\u001b[0m\u001b[0;34m\u001b[0m\u001b[0m\n\u001b[0m\u001b[1;32m      3\u001b[0m \u001b[0mpayment\u001b[0m\u001b[0;34m.\u001b[0m\u001b[0mhead\u001b[0m\u001b[0;34m(\u001b[0m\u001b[0;34m)\u001b[0m\u001b[0;34m\u001b[0m\u001b[0;34m\u001b[0m\u001b[0m\n",
      "\u001b[0;32m~/.conda/envs/pyvizenv/lib/python3.8/site-packages/pandas/io/parsers.py\u001b[0m in \u001b[0;36mparser_f\u001b[0;34m(filepath_or_buffer, sep, delimiter, header, names, index_col, usecols, squeeze, prefix, mangle_dupe_cols, dtype, engine, converters, true_values, false_values, skipinitialspace, skiprows, skipfooter, nrows, na_values, keep_default_na, na_filter, verbose, skip_blank_lines, parse_dates, infer_datetime_format, keep_date_col, date_parser, dayfirst, cache_dates, iterator, chunksize, compression, thousands, decimal, lineterminator, quotechar, quoting, doublequote, escapechar, comment, encoding, dialect, error_bad_lines, warn_bad_lines, delim_whitespace, low_memory, memory_map, float_precision)\u001b[0m\n\u001b[1;32m    674\u001b[0m         )\n\u001b[1;32m    675\u001b[0m \u001b[0;34m\u001b[0m\u001b[0m\n\u001b[0;32m--> 676\u001b[0;31m         \u001b[0;32mreturn\u001b[0m \u001b[0m_read\u001b[0m\u001b[0;34m(\u001b[0m\u001b[0mfilepath_or_buffer\u001b[0m\u001b[0;34m,\u001b[0m \u001b[0mkwds\u001b[0m\u001b[0;34m)\u001b[0m\u001b[0;34m\u001b[0m\u001b[0;34m\u001b[0m\u001b[0m\n\u001b[0m\u001b[1;32m    677\u001b[0m \u001b[0;34m\u001b[0m\u001b[0m\n\u001b[1;32m    678\u001b[0m     \u001b[0mparser_f\u001b[0m\u001b[0;34m.\u001b[0m\u001b[0m__name__\u001b[0m \u001b[0;34m=\u001b[0m \u001b[0mname\u001b[0m\u001b[0;34m\u001b[0m\u001b[0;34m\u001b[0m\u001b[0m\n",
      "\u001b[0;32m~/.conda/envs/pyvizenv/lib/python3.8/site-packages/pandas/io/parsers.py\u001b[0m in \u001b[0;36m_read\u001b[0;34m(filepath_or_buffer, kwds)\u001b[0m\n\u001b[1;32m    452\u001b[0m \u001b[0;34m\u001b[0m\u001b[0m\n\u001b[1;32m    453\u001b[0m     \u001b[0;32mtry\u001b[0m\u001b[0;34m:\u001b[0m\u001b[0;34m\u001b[0m\u001b[0;34m\u001b[0m\u001b[0m\n\u001b[0;32m--> 454\u001b[0;31m         \u001b[0mdata\u001b[0m \u001b[0;34m=\u001b[0m \u001b[0mparser\u001b[0m\u001b[0;34m.\u001b[0m\u001b[0mread\u001b[0m\u001b[0;34m(\u001b[0m\u001b[0mnrows\u001b[0m\u001b[0;34m)\u001b[0m\u001b[0;34m\u001b[0m\u001b[0;34m\u001b[0m\u001b[0m\n\u001b[0m\u001b[1;32m    455\u001b[0m     \u001b[0;32mfinally\u001b[0m\u001b[0;34m:\u001b[0m\u001b[0;34m\u001b[0m\u001b[0;34m\u001b[0m\u001b[0m\n\u001b[1;32m    456\u001b[0m         \u001b[0mparser\u001b[0m\u001b[0;34m.\u001b[0m\u001b[0mclose\u001b[0m\u001b[0;34m(\u001b[0m\u001b[0;34m)\u001b[0m\u001b[0;34m\u001b[0m\u001b[0;34m\u001b[0m\u001b[0m\n",
      "\u001b[0;32m~/.conda/envs/pyvizenv/lib/python3.8/site-packages/pandas/io/parsers.py\u001b[0m in \u001b[0;36mread\u001b[0;34m(self, nrows)\u001b[0m\n\u001b[1;32m   1131\u001b[0m     \u001b[0;32mdef\u001b[0m \u001b[0mread\u001b[0m\u001b[0;34m(\u001b[0m\u001b[0mself\u001b[0m\u001b[0;34m,\u001b[0m \u001b[0mnrows\u001b[0m\u001b[0;34m=\u001b[0m\u001b[0;32mNone\u001b[0m\u001b[0;34m)\u001b[0m\u001b[0;34m:\u001b[0m\u001b[0;34m\u001b[0m\u001b[0;34m\u001b[0m\u001b[0m\n\u001b[1;32m   1132\u001b[0m         \u001b[0mnrows\u001b[0m \u001b[0;34m=\u001b[0m \u001b[0m_validate_integer\u001b[0m\u001b[0;34m(\u001b[0m\u001b[0;34m\"nrows\"\u001b[0m\u001b[0;34m,\u001b[0m \u001b[0mnrows\u001b[0m\u001b[0;34m)\u001b[0m\u001b[0;34m\u001b[0m\u001b[0;34m\u001b[0m\u001b[0m\n\u001b[0;32m-> 1133\u001b[0;31m         \u001b[0mret\u001b[0m \u001b[0;34m=\u001b[0m \u001b[0mself\u001b[0m\u001b[0;34m.\u001b[0m\u001b[0m_engine\u001b[0m\u001b[0;34m.\u001b[0m\u001b[0mread\u001b[0m\u001b[0;34m(\u001b[0m\u001b[0mnrows\u001b[0m\u001b[0;34m)\u001b[0m\u001b[0;34m\u001b[0m\u001b[0;34m\u001b[0m\u001b[0m\n\u001b[0m\u001b[1;32m   1134\u001b[0m \u001b[0;34m\u001b[0m\u001b[0m\n\u001b[1;32m   1135\u001b[0m         \u001b[0;31m# May alter columns / col_dict\u001b[0m\u001b[0;34m\u001b[0m\u001b[0;34m\u001b[0m\u001b[0;34m\u001b[0m\u001b[0m\n",
      "\u001b[0;32m~/.conda/envs/pyvizenv/lib/python3.8/site-packages/pandas/io/parsers.py\u001b[0m in \u001b[0;36mread\u001b[0;34m(self, nrows)\u001b[0m\n\u001b[1;32m   2111\u001b[0m \u001b[0;34m\u001b[0m\u001b[0m\n\u001b[1;32m   2112\u001b[0m             \u001b[0mnames\u001b[0m\u001b[0;34m,\u001b[0m \u001b[0mdata\u001b[0m \u001b[0;34m=\u001b[0m \u001b[0mself\u001b[0m\u001b[0;34m.\u001b[0m\u001b[0m_do_date_conversions\u001b[0m\u001b[0;34m(\u001b[0m\u001b[0mnames\u001b[0m\u001b[0;34m,\u001b[0m \u001b[0mdata\u001b[0m\u001b[0;34m)\u001b[0m\u001b[0;34m\u001b[0m\u001b[0;34m\u001b[0m\u001b[0m\n\u001b[0;32m-> 2113\u001b[0;31m             \u001b[0mindex\u001b[0m\u001b[0;34m,\u001b[0m \u001b[0mnames\u001b[0m \u001b[0;34m=\u001b[0m \u001b[0mself\u001b[0m\u001b[0;34m.\u001b[0m\u001b[0m_make_index\u001b[0m\u001b[0;34m(\u001b[0m\u001b[0mdata\u001b[0m\u001b[0;34m,\u001b[0m \u001b[0malldata\u001b[0m\u001b[0;34m,\u001b[0m \u001b[0mnames\u001b[0m\u001b[0;34m)\u001b[0m\u001b[0;34m\u001b[0m\u001b[0;34m\u001b[0m\u001b[0m\n\u001b[0m\u001b[1;32m   2114\u001b[0m \u001b[0;34m\u001b[0m\u001b[0m\n\u001b[1;32m   2115\u001b[0m         \u001b[0;31m# maybe create a mi on the columns\u001b[0m\u001b[0;34m\u001b[0m\u001b[0;34m\u001b[0m\u001b[0;34m\u001b[0m\u001b[0m\n",
      "\u001b[0;32m~/.conda/envs/pyvizenv/lib/python3.8/site-packages/pandas/io/parsers.py\u001b[0m in \u001b[0;36m_make_index\u001b[0;34m(self, data, alldata, columns, indexnamerow)\u001b[0m\n\u001b[1;32m   1554\u001b[0m \u001b[0;34m\u001b[0m\u001b[0m\n\u001b[1;32m   1555\u001b[0m         \u001b[0;32melif\u001b[0m \u001b[0;32mnot\u001b[0m \u001b[0mself\u001b[0m\u001b[0;34m.\u001b[0m\u001b[0m_has_complex_date_col\u001b[0m\u001b[0;34m:\u001b[0m\u001b[0;34m\u001b[0m\u001b[0;34m\u001b[0m\u001b[0m\n\u001b[0;32m-> 1556\u001b[0;31m             \u001b[0mindex\u001b[0m \u001b[0;34m=\u001b[0m \u001b[0mself\u001b[0m\u001b[0;34m.\u001b[0m\u001b[0m_get_simple_index\u001b[0m\u001b[0;34m(\u001b[0m\u001b[0malldata\u001b[0m\u001b[0;34m,\u001b[0m \u001b[0mcolumns\u001b[0m\u001b[0;34m)\u001b[0m\u001b[0;34m\u001b[0m\u001b[0;34m\u001b[0m\u001b[0m\n\u001b[0m\u001b[1;32m   1557\u001b[0m             \u001b[0mindex\u001b[0m \u001b[0;34m=\u001b[0m \u001b[0mself\u001b[0m\u001b[0;34m.\u001b[0m\u001b[0m_agg_index\u001b[0m\u001b[0;34m(\u001b[0m\u001b[0mindex\u001b[0m\u001b[0;34m)\u001b[0m\u001b[0;34m\u001b[0m\u001b[0;34m\u001b[0m\u001b[0m\n\u001b[1;32m   1558\u001b[0m         \u001b[0;32melif\u001b[0m \u001b[0mself\u001b[0m\u001b[0;34m.\u001b[0m\u001b[0m_has_complex_date_col\u001b[0m\u001b[0;34m:\u001b[0m\u001b[0;34m\u001b[0m\u001b[0;34m\u001b[0m\u001b[0m\n",
      "\u001b[0;32m~/.conda/envs/pyvizenv/lib/python3.8/site-packages/pandas/io/parsers.py\u001b[0m in \u001b[0;36m_get_simple_index\u001b[0;34m(self, data, columns)\u001b[0m\n\u001b[1;32m   1586\u001b[0m         \u001b[0mindex\u001b[0m \u001b[0;34m=\u001b[0m \u001b[0;34m[\u001b[0m\u001b[0;34m]\u001b[0m\u001b[0;34m\u001b[0m\u001b[0;34m\u001b[0m\u001b[0m\n\u001b[1;32m   1587\u001b[0m         \u001b[0;32mfor\u001b[0m \u001b[0midx\u001b[0m \u001b[0;32min\u001b[0m \u001b[0mself\u001b[0m\u001b[0;34m.\u001b[0m\u001b[0mindex_col\u001b[0m\u001b[0;34m:\u001b[0m\u001b[0;34m\u001b[0m\u001b[0;34m\u001b[0m\u001b[0m\n\u001b[0;32m-> 1588\u001b[0;31m             \u001b[0mi\u001b[0m \u001b[0;34m=\u001b[0m \u001b[0mix\u001b[0m\u001b[0;34m(\u001b[0m\u001b[0midx\u001b[0m\u001b[0;34m)\u001b[0m\u001b[0;34m\u001b[0m\u001b[0;34m\u001b[0m\u001b[0m\n\u001b[0m\u001b[1;32m   1589\u001b[0m             \u001b[0mto_remove\u001b[0m\u001b[0;34m.\u001b[0m\u001b[0mappend\u001b[0m\u001b[0;34m(\u001b[0m\u001b[0mi\u001b[0m\u001b[0;34m)\u001b[0m\u001b[0;34m\u001b[0m\u001b[0;34m\u001b[0m\u001b[0m\n\u001b[1;32m   1590\u001b[0m             \u001b[0mindex\u001b[0m\u001b[0;34m.\u001b[0m\u001b[0mappend\u001b[0m\u001b[0;34m(\u001b[0m\u001b[0mdata\u001b[0m\u001b[0;34m[\u001b[0m\u001b[0mi\u001b[0m\u001b[0;34m]\u001b[0m\u001b[0;34m)\u001b[0m\u001b[0;34m\u001b[0m\u001b[0;34m\u001b[0m\u001b[0m\n",
      "\u001b[0;32m~/.conda/envs/pyvizenv/lib/python3.8/site-packages/pandas/io/parsers.py\u001b[0m in \u001b[0;36mix\u001b[0;34m(col)\u001b[0m\n\u001b[1;32m   1581\u001b[0m             \u001b[0;32mif\u001b[0m \u001b[0;32mnot\u001b[0m \u001b[0misinstance\u001b[0m\u001b[0;34m(\u001b[0m\u001b[0mcol\u001b[0m\u001b[0;34m,\u001b[0m \u001b[0mstr\u001b[0m\u001b[0;34m)\u001b[0m\u001b[0;34m:\u001b[0m\u001b[0;34m\u001b[0m\u001b[0;34m\u001b[0m\u001b[0m\n\u001b[1;32m   1582\u001b[0m                 \u001b[0;32mreturn\u001b[0m \u001b[0mcol\u001b[0m\u001b[0;34m\u001b[0m\u001b[0;34m\u001b[0m\u001b[0m\n\u001b[0;32m-> 1583\u001b[0;31m             \u001b[0;32mraise\u001b[0m \u001b[0mValueError\u001b[0m\u001b[0;34m(\u001b[0m\u001b[0;34mf\"Index {col} invalid\"\u001b[0m\u001b[0;34m)\u001b[0m\u001b[0;34m\u001b[0m\u001b[0;34m\u001b[0m\u001b[0m\n\u001b[0m\u001b[1;32m   1584\u001b[0m \u001b[0;34m\u001b[0m\u001b[0m\n\u001b[1;32m   1585\u001b[0m         \u001b[0mto_remove\u001b[0m \u001b[0;34m=\u001b[0m \u001b[0;34m[\u001b[0m\u001b[0;34m]\u001b[0m\u001b[0;34m\u001b[0m\u001b[0;34m\u001b[0m\u001b[0m\n",
      "\u001b[0;31mValueError\u001b[0m: Index Payee Name invalid"
     ]
    }
   ],
   "source": [
    "file_path_3 = Path(\"Resources/02_Deanonymized/Revenue2020A.csv\")\n",
    "payment = pd.read_csv(file_path_3, index_col=\"Payee Name\")\n",
    "payment.head()"
   ]
  },
  {
   "cell_type": "code",
   "execution_count": null,
   "metadata": {},
   "outputs": [],
   "source": []
  }
 ],
 "metadata": {
  "kernelspec": {
   "name": "Python 3.8.3 64-bit ('pyvizenv': conda)",
   "display_name": "Python 3.8.3 64-bit ('pyvizenv': conda)",
   "metadata": {
    "interpreter": {
     "hash": "9b71b9fa21544dd8a39d3650f5526997ede89e0b97dc642fc8071b919dea00e5"
    }
   }
  },
  "language_info": {
   "codemirror_mode": {
    "name": "ipython",
    "version": 3
   },
   "file_extension": ".py",
   "mimetype": "text/x-python",
   "name": "python",
   "nbconvert_exporter": "python",
   "pygments_lexer": "ipython3",
   "version": "3.8.3-final"
  }
 },
 "nbformat": 4,
 "nbformat_minor": 4
}