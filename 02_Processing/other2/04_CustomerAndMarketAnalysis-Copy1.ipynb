{
 "cells": [
  {
   "cell_type": "code",
   "execution_count": 78,
   "metadata": {},
   "outputs": [],
   "source": [
    "# System imports\n",
    "import os\n",
    "import pandas as pd\n",
    "import matplotlib.pyplot as plt\n",
    "import plotly.express as px\n",
    "import hvplot.pandas\n",
    "import panel as pn\n",
    "from pathlib import Path\n",
    "from dotenv import load_dotenv\n",
    "from panel.interact import interact\n",
    "from panel import widgets\n",
    "from string import digits\n",
    "import csv\n",
    "import json\n",
    "import numpy as np\n",
    "\n",
    "pn.extension()\n",
    "\n",
    "%matplotlib inline"
   ]
  },
  {
   "cell_type": "code",
   "execution_count": 113,
   "metadata": {},
   "outputs": [],
   "source": [
    "# Local imports\n",
    "import sys\n",
    "sys.path.append(\"../lib2\")\n",
    "\n",
    "\n",
    "from Constants import Constants\n",
    "from ProcessingTools import DateProcessingTools\n",
    "from PreprocessingTools import CustomerNameCleaningFunctions\n",
    "from PreprocessingTools import DateCleaningFunctions\n",
    "from PreprocessingTools import SpecializedDateCleaningFunctions\n",
    "from PreprocessingTools import DurationParsing\n",
    "from PreprocessingTools import MappingFunctions\n"
   ]
  },
  {
   "cell_type": "code",
   "execution_count": 114,
   "metadata": {},
   "outputs": [],
   "source": [
    "# Build tools\n",
    "debug_level = 0\n",
    "constants = Constants()\n",
    "tool_customer = CustomerNameCleaningFunctions(debug_level)\n",
    "tool_date = DateCleaningFunctions(debug_level)\n",
    "tool_special_date = SpecializedDateCleaningFunctions(debug_level)\n",
    "tool_duration_parsing = DurationParsing(debug_level)\n",
    "tool_lookup_tables = MappingFunctions(debug_level)\n"
   ]
  },
  {
   "cell_type": "code",
   "execution_count": 82,
   "metadata": {},
   "outputs": [],
   "source": [
    "# Import all preprocessed data\n",
    "atlas           = pd.read_pickle(constants.PREPROCESSED_ATLAS_FILE_PATH)\n",
    "forecast        = pd.read_pickle(constants.PREPROCESSED_FORECAST_DATA_FILE_PATH)\n",
    "revenue2020     = pd.read_pickle(constants.PREPROCESSED_REVENUE2020_FILE_PATH)\n",
    "revenue2020A    = pd.read_pickle(constants.PREPROCESSED_REVENUE2020A_FILE_PATH)\n",
    "atlas2          = pd.read_pickle(constants.PREPROCESSED_ATLAS_2_FILE_PATH)\n"
   ]
  },
  {
   "cell_type": "code",
   "execution_count": 92,
   "metadata": {},
   "outputs": [
    {
     "data": {
      "text/html": [
       "<div>\n",
       "<style scoped>\n",
       "    .dataframe tbody tr th:only-of-type {\n",
       "        vertical-align: middle;\n",
       "    }\n",
       "\n",
       "    .dataframe tbody tr th {\n",
       "        vertical-align: top;\n",
       "    }\n",
       "\n",
       "    .dataframe thead th {\n",
       "        text-align: right;\n",
       "    }\n",
       "</style>\n",
       "<table border=\"1\" class=\"dataframe\">\n",
       "  <thead>\n",
       "    <tr style=\"text-align: right;\">\n",
       "      <th></th>\n",
       "      <th></th>\n",
       "      <th>Number of Users</th>\n",
       "      <th>Invoice Amount</th>\n",
       "      <th>Lat</th>\n",
       "      <th>Long</th>\n",
       "    </tr>\n",
       "    <tr>\n",
       "      <th>Subscription</th>\n",
       "      <th>Customers</th>\n",
       "      <th></th>\n",
       "      <th></th>\n",
       "      <th></th>\n",
       "      <th></th>\n",
       "    </tr>\n",
       "  </thead>\n",
       "  <tbody>\n",
       "    <tr>\n",
       "      <th rowspan=\"5\" valign=\"top\">1 Year</th>\n",
       "      <th>University 1</th>\n",
       "      <td>NaN</td>\n",
       "      <td>69500.000000</td>\n",
       "      <td>30.460082</td>\n",
       "      <td>-91.188566</td>\n",
       "    </tr>\n",
       "    <tr>\n",
       "      <th>University 10</th>\n",
       "      <td>250.0</td>\n",
       "      <td>2166.670000</td>\n",
       "      <td>39.732210</td>\n",
       "      <td>-90.246947</td>\n",
       "    </tr>\n",
       "    <tr>\n",
       "      <th>University 101</th>\n",
       "      <td>NaN</td>\n",
       "      <td>750.000000</td>\n",
       "      <td>48.630369</td>\n",
       "      <td>-97.471056</td>\n",
       "    </tr>\n",
       "    <tr>\n",
       "      <th>University 102</th>\n",
       "      <td>350.0</td>\n",
       "      <td>4833.333333</td>\n",
       "      <td>NaN</td>\n",
       "      <td>NaN</td>\n",
       "    </tr>\n",
       "    <tr>\n",
       "      <th>University 103</th>\n",
       "      <td>100.0</td>\n",
       "      <td>750.000000</td>\n",
       "      <td>45.408173</td>\n",
       "      <td>-122.922323</td>\n",
       "    </tr>\n",
       "  </tbody>\n",
       "</table>\n",
       "</div>"
      ],
      "text/plain": [
       "                             Number of Users  Invoice Amount        Lat  \\\n",
       "Subscription Customers                                                    \n",
       "1 Year       University 1                NaN    69500.000000  30.460082   \n",
       "             University 10             250.0     2166.670000  39.732210   \n",
       "             University 101              NaN      750.000000  48.630369   \n",
       "             University 102            350.0     4833.333333        NaN   \n",
       "             University 103            100.0      750.000000  45.408173   \n",
       "\n",
       "                                   Long  \n",
       "Subscription Customers                   \n",
       "1 Year       University 1    -91.188566  \n",
       "             University 10   -90.246947  \n",
       "             University 101  -97.471056  \n",
       "             University 102         NaN  \n",
       "             University 103 -122.922323  "
      ]
     },
     "execution_count": 92,
     "metadata": {},
     "output_type": "execute_result"
    }
   ],
   "source": [
    "# Group by year and . and then create a new dataframe of the mean values\n",
    "atlas2.head()\n",
    "avg_price_df = atlas2.reset_index().groupby(by=['Subscription', 'Customers']).mean()\n",
    "avg_price_df.head()"
   ]
  },
  {
   "cell_type": "code",
   "execution_count": 93,
   "metadata": {},
   "outputs": [
    {
     "data": {
      "text/plain": [
       "Number of Users    float64\n",
       "Invoice Amount     float64\n",
       "Lat                float64\n",
       "Long               float64\n",
       "dtype: object"
      ]
     },
     "execution_count": 93,
     "metadata": {},
     "output_type": "execute_result"
    }
   ],
   "source": [
    "avg_price_df.dtypes"
   ]
  },
  {
   "cell_type": "code",
   "execution_count": 120,
   "metadata": {},
   "outputs": [
    {
     "data": {},
     "metadata": {},
     "output_type": "display_data"
    },
    {
     "data": {
      "application/vnd.holoviews_exec.v0+json": "",
      "text/html": [
       "<div id='2892'>\n",
       "\n",
       "\n",
       "\n",
       "\n",
       "\n",
       "  <div class=\"bk-root\" id=\"dd30be09-a81a-446e-a534-2f8fb9cbbeee\" data-root-id=\"2892\"></div>\n",
       "</div>\n",
       "<script type=\"application/javascript\">(function(root) {\n",
       "  function embed_document(root) {\n",
       "  var docs_json = {\"e1fb8585-676e-4b57-ba49-1f8ecce63703\":{\"roots\":{\"references\":[{\"attributes\":{\"children\":[{\"id\":\"2893\"},{\"id\":\"2897\"},{\"id\":\"2952\"},{\"id\":\"2953\"}],\"margin\":[0,0,0,0],\"name\":\"Row09260\"},\"id\":\"2892\",\"type\":\"Row\"},{\"attributes\":{},\"id\":\"2904\",\"type\":\"LinearScale\"},{\"attributes\":{\"margin\":[20,20,20,20],\"min_width\":250,\"options\":[\"1 Year\",\"3 Years\",\"3 Months\",\"6 Months\",\"5 Months\",\"30 Days\",\"2 Years\",\"18 mo\"],\"title\":\"Subscription\",\"value\":\"1 Year\",\"width\":250},\"id\":\"2956\",\"type\":\"Select\"},{\"attributes\":{\"bottom_units\":\"screen\",\"fill_alpha\":0.5,\"fill_color\":\"lightgrey\",\"left_units\":\"screen\",\"level\":\"overlay\",\"line_alpha\":1.0,\"line_color\":\"black\",\"line_dash\":[4,4],\"line_width\":2,\"render_mode\":\"css\",\"right_units\":\"screen\",\"top_units\":\"screen\"},\"id\":\"2918\",\"type\":\"BoxAnnotation\"},{\"attributes\":{\"callback\":null,\"renderers\":[{\"id\":\"2932\"}],\"tags\":[\"hv_created\"],\"tooltips\":[[\"Customers\",\"@{Customers}\"],[\"Invoice Amount\",\"@{Invoice_Amount}\"]]},\"id\":\"2896\",\"type\":\"HoverTool\"},{\"attributes\":{},\"id\":\"2950\",\"type\":\"UnionRenderers\"},{\"attributes\":{\"text\":\"Subscription: 1 Year\",\"text_color\":{\"value\":\"black\"},\"text_font_size\":{\"value\":\"12pt\"}},\"id\":\"2898\",\"type\":\"Title\"},{\"attributes\":{},\"id\":\"2902\",\"type\":\"CategoricalScale\"},{\"attributes\":{\"children\":[{\"id\":\"2956\"}],\"css_classes\":[\"widget-box\"],\"margin\":[5,5,5,5],\"name\":\"WidgetBox09261\"},\"id\":\"2955\",\"type\":\"Column\"},{\"attributes\":{\"format\":\"%0f\"},\"id\":\"2934\",\"type\":\"PrintfTickFormatter\"},{\"attributes\":{\"axis_label\":\"Invoice Amount\",\"bounds\":\"auto\",\"formatter\":{\"id\":\"2934\"},\"major_label_orientation\":\"horizontal\",\"ticker\":{\"id\":\"2910\"}},\"id\":\"2909\",\"type\":\"LinearAxis\"},{\"attributes\":{},\"id\":\"2915\",\"type\":\"WheelZoomTool\"},{\"attributes\":{},\"id\":\"2914\",\"type\":\"PanTool\"},{\"attributes\":{\"client_comm_id\":\"b4d26083e6a0472d91fddde536a4a7e2\",\"comm_id\":\"2d43a94f1d3840f9a3180f886a1da2b0\",\"plot_id\":\"2892\"},\"id\":\"2979\",\"type\":\"panel.models.comm_manager.CommManager\"},{\"attributes\":{\"axis\":{\"id\":\"2909\"},\"dimension\":1,\"grid_line_color\":null,\"ticker\":null},\"id\":\"2912\",\"type\":\"Grid\"},{\"attributes\":{},\"id\":\"2913\",\"type\":\"SaveTool\"},{\"attributes\":{\"overlay\":{\"id\":\"2918\"}},\"id\":\"2916\",\"type\":\"BoxZoomTool\"},{\"attributes\":{\"data\":{\"Customers\":[\"University 1\",\"University 10\",\"University 100\",\"University 101\",\"University 102\",\"University 103\",\"University 105\",\"University 106\",\"University 107\",\"University 108\",\"University 11\",\"University 110\",\"University 111\",\"University 112\",\"University 115\",\"University 117\",\"University 118\",\"University 119\",\"University 12\",\"University 120\",\"University 121\",\"University 122\",\"University 123\",\"University 124\",\"University 125\",\"University 126\",\"University 127\",\"University 128\",\"University 13\",\"University 130\",\"University 131\",\"University 132\",\"University 133\",\"University 134\",\"University 137\",\"University 138\",\"University 139\",\"University 140\",\"University 141\",\"University 142\",\"University 144\",\"University 148\",\"University 15\",\"University 151\",\"University 152\",\"University 153\",\"University 154\",\"University 155\",\"University 156\",\"University 158\",\"University 159\",\"University 16\",\"University 160\",\"University 161\",\"University 162\",\"University 164\",\"University 165\",\"University 166\",\"University 167\",\"University 168\",\"University 169\",\"University 171\",\"University 173\",\"University 176\",\"University 177\",\"University 178\",\"University 179\",\"University 18\",\"University 181\",\"University 182\",\"University 185\",\"University 186\",\"University 189\",\"University 19\",\"University 192\",\"University 195\",\"University 197\",\"University 199\",\"University 2\",\"University 200\",\"University 202\",\"University 204\",\"University 206\",\"University 209\",\"University 21\",\"University 210\",\"University 211\",\"University 213\",\"University 216\",\"University 218\",\"University 22\",\"University 220\",\"University 224\",\"University 225\",\"University 226\",\"University 227\",\"University 23\",\"University 230\",\"University 231\",\"University 232\",\"University 234\",\"University 235\",\"University 236\",\"University 237\",\"University 239\",\"University 24\",\"University 240\",\"University 242\",\"University 243\",\"University 244\",\"University 247\",\"University 249\",\"University 250\",\"University 251\",\"University 252\",\"University 254\",\"University 255\",\"University 256\",\"University 259\",\"University 26\",\"University 260\",\"University 261\",\"University 262\",\"University 263\",\"University 264\",\"University 268\",\"University 269\",\"University 270\",\"University 271\",\"University 272\",\"University 273\",\"University 275\",\"University 276\",\"University 278\",\"University 279\",\"University 281\",\"University 284\",\"University 285\",\"University 287\",\"University 288\",\"University 29\",\"University 290\",\"University 291\",\"University 292\",\"University 294\",\"University 296\",\"University 3\",\"University 30\",\"University 300\",\"University 301\",\"University 302\",\"University 304\",\"University 305\",\"University 31\",\"University 311\",\"University 312\",\"University 313\",\"University 314\",\"University 315\",\"University 316\",\"University 317\",\"University 318\",\"University 32\",\"University 321\",\"University 322\",\"University 325\",\"University 327\",\"University 328\",\"University 33\",\"University 331\",\"University 332\",\"University 333\",\"University 335\",\"University 336\",\"University 338\",\"University 34\",\"University 340\",\"University 342\",\"University 343\",\"University 344\",\"University 346\",\"University 347\",\"University 348\",\"University 349\",\"University 35\",\"University 351\",\"University 354\",\"University 355\",\"University 359\",\"University 36\",\"University 360\",\"University 365\",\"University 368\",\"University 37\",\"University 370\",\"University 372\",\"University 375\",\"University 376\",\"University 377\",\"University 378\",\"University 38\",\"University 380\",\"University 382\",\"University 383\",\"University 385\",\"University 386\",\"University 39\",\"University 390\",\"University 393\",\"University 394\",\"University 397\",\"University 4\",\"University 40\",\"University 400\",\"University 402\",\"University 404\",\"University 41\",\"University 410\",\"University 411\",\"University 412\",\"University 414\",\"University 418\",\"University 42\",\"University 420\",\"University 423\",\"University 424\",\"University 425\",\"University 43\",\"University 44\",\"University 45\",\"University 46\",\"University 49\",\"University 5\",\"University 50\",\"University 53\",\"University 54\",\"University 55\",\"University 56\",\"University 58\",\"University 59\",\"University 60\",\"University 61\",\"University 64\",\"University 67\",\"University 68\",\"University 69\",\"University 7\",\"University 70\",\"University 71\",\"University 72\",\"University 74\",\"University 78\",\"University 79\",\"University 8\",\"University 80\",\"University 81\",\"University 83\",\"University 84\",\"University 85\",\"University 86\",\"University 87\",\"University 89\",\"University 9\",\"University 90\",\"University 91\",\"University 92\",\"University 93\",\"University 94\",\"University 96\",\"University 97\",\"University 98\",\"University 99\"],\"Invoice Amount\":{\"__ndarray__\":\"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\",\"dtype\":\"float64\",\"shape\":[272]},\"Invoice_Amount\":{\"__ndarray__\":\"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\",\"dtype\":\"float64\",\"shape\":[272]}},\"selected\":{\"id\":\"2927\"},\"selection_policy\":{\"id\":\"2950\"}},\"id\":\"2926\",\"type\":\"ColumnDataSource\"},{\"attributes\":{\"margin\":[5,5,5,5],\"name\":\"HSpacer09269\",\"sizing_mode\":\"stretch_width\"},\"id\":\"2893\",\"type\":\"Spacer\"},{\"attributes\":{},\"id\":\"2917\",\"type\":\"ResetTool\"},{\"attributes\":{\"active_drag\":\"auto\",\"active_inspect\":\"auto\",\"active_multi\":null,\"active_scroll\":\"auto\",\"active_tap\":\"auto\",\"tools\":[{\"id\":\"2896\"},{\"id\":\"2913\"},{\"id\":\"2914\"},{\"id\":\"2915\"},{\"id\":\"2916\"},{\"id\":\"2917\"}]},\"id\":\"2919\",\"type\":\"Toolbar\"},{\"attributes\":{\"line_alpha\":0.1,\"line_color\":\"#1f77b3\",\"line_width\":2,\"x\":{\"field\":\"Customers\"},\"y\":{\"field\":\"Invoice Amount\"}},\"id\":\"2930\",\"type\":\"Line\"},{\"attributes\":{\"line_color\":\"#1f77b3\",\"line_width\":2,\"x\":{\"field\":\"Customers\"},\"y\":{\"field\":\"Invoice Amount\"}},\"id\":\"2929\",\"type\":\"Line\"},{\"attributes\":{},\"id\":\"2907\",\"type\":\"CategoricalTicker\"},{\"attributes\":{\"axis\":{\"id\":\"2906\"},\"grid_line_color\":null,\"ticker\":null},\"id\":\"2908\",\"type\":\"Grid\"},{\"attributes\":{\"line_alpha\":0.2,\"line_color\":\"#1f77b3\",\"line_width\":2,\"x\":{\"field\":\"Customers\"},\"y\":{\"field\":\"Invoice Amount\"}},\"id\":\"2931\",\"type\":\"Line\"},{\"attributes\":{\"data_source\":{\"id\":\"2926\"},\"glyph\":{\"id\":\"2929\"},\"hover_glyph\":null,\"muted_glyph\":{\"id\":\"2931\"},\"nonselection_glyph\":{\"id\":\"2930\"},\"selection_glyph\":null,\"view\":{\"id\":\"2933\"}},\"id\":\"2932\",\"type\":\"GlyphRenderer\"},{\"attributes\":{},\"id\":\"2910\",\"type\":\"BasicTicker\"},{\"attributes\":{\"margin\":[5,5,5,5],\"name\":\"HSpacer09270\",\"sizing_mode\":\"stretch_width\"},\"id\":\"2952\",\"type\":\"Spacer\"},{\"attributes\":{\"children\":[{\"id\":\"2954\"},{\"id\":\"2955\"},{\"id\":\"2957\"}],\"margin\":[0,0,0,0],\"name\":\"Column09268\"},\"id\":\"2953\",\"type\":\"Column\"},{\"attributes\":{\"axis_label\":\"Customers\",\"bounds\":\"auto\",\"formatter\":{\"id\":\"2936\"},\"major_label_orientation\":\"horizontal\",\"ticker\":{\"id\":\"2907\"}},\"id\":\"2906\",\"type\":\"CategoricalAxis\"},{\"attributes\":{\"margin\":[5,5,5,5],\"name\":\"VSpacer09267\",\"sizing_mode\":\"stretch_height\"},\"id\":\"2957\",\"type\":\"Spacer\"},{\"attributes\":{},\"id\":\"2936\",\"type\":\"CategoricalTickFormatter\"},{\"attributes\":{},\"id\":\"2927\",\"type\":\"Selection\"},{\"attributes\":{\"margin\":[5,5,5,5],\"name\":\"VSpacer09266\",\"sizing_mode\":\"stretch_height\"},\"id\":\"2954\",\"type\":\"Spacer\"},{\"attributes\":{\"factors\":[\"University 1\",\"University 10\",\"University 100\",\"University 101\",\"University 102\",\"University 103\",\"University 105\",\"University 106\",\"University 107\",\"University 108\",\"University 11\",\"University 110\",\"University 111\",\"University 112\",\"University 115\",\"University 117\",\"University 118\",\"University 119\",\"University 12\",\"University 120\",\"University 121\",\"University 122\",\"University 123\",\"University 124\",\"University 125\",\"University 126\",\"University 127\",\"University 128\",\"University 13\",\"University 130\",\"University 131\",\"University 132\",\"University 133\",\"University 134\",\"University 137\",\"University 138\",\"University 139\",\"University 140\",\"University 141\",\"University 142\",\"University 144\",\"University 148\",\"University 15\",\"University 151\",\"University 152\",\"University 153\",\"University 154\",\"University 155\",\"University 156\",\"University 158\",\"University 159\",\"University 16\",\"University 160\",\"University 161\",\"University 162\",\"University 164\",\"University 165\",\"University 166\",\"University 167\",\"University 168\",\"University 169\",\"University 171\",\"University 173\",\"University 176\",\"University 177\",\"University 178\",\"University 179\",\"University 18\",\"University 181\",\"University 182\",\"University 185\",\"University 186\",\"University 189\",\"University 19\",\"University 192\",\"University 195\",\"University 197\",\"University 199\",\"University 2\",\"University 200\",\"University 202\",\"University 204\",\"University 206\",\"University 209\",\"University 21\",\"University 210\",\"University 211\",\"University 213\",\"University 216\",\"University 218\",\"University 22\",\"University 220\",\"University 224\",\"University 225\",\"University 226\",\"University 227\",\"University 23\",\"University 230\",\"University 231\",\"University 232\",\"University 234\",\"University 235\",\"University 236\",\"University 237\",\"University 239\",\"University 24\",\"University 240\",\"University 242\",\"University 243\",\"University 244\",\"University 247\",\"University 249\",\"University 250\",\"University 251\",\"University 252\",\"University 254\",\"University 255\",\"University 256\",\"University 259\",\"University 26\",\"University 260\",\"University 261\",\"University 262\",\"University 263\",\"University 264\",\"University 268\",\"University 269\",\"University 270\",\"University 271\",\"University 272\",\"University 273\",\"University 275\",\"University 276\",\"University 278\",\"University 279\",\"University 281\",\"University 284\",\"University 285\",\"University 287\",\"University 288\",\"University 29\",\"University 290\",\"University 291\",\"University 292\",\"University 294\",\"University 296\",\"University 3\",\"University 30\",\"University 300\",\"University 301\",\"University 302\",\"University 304\",\"University 305\",\"University 31\",\"University 311\",\"University 312\",\"University 313\",\"University 314\",\"University 315\",\"University 316\",\"University 317\",\"University 318\",\"University 32\",\"University 321\",\"University 322\",\"University 325\",\"University 327\",\"University 328\",\"University 33\",\"University 331\",\"University 332\",\"University 333\",\"University 335\",\"University 336\",\"University 338\",\"University 34\",\"University 340\",\"University 342\",\"University 343\",\"University 344\",\"University 346\",\"University 347\",\"University 348\",\"University 349\",\"University 35\",\"University 351\",\"University 354\",\"University 355\",\"University 359\",\"University 36\",\"University 360\",\"University 365\",\"University 368\",\"University 37\",\"University 370\",\"University 372\",\"University 375\",\"University 376\",\"University 377\",\"University 378\",\"University 38\",\"University 380\",\"University 382\",\"University 383\",\"University 385\",\"University 386\",\"University 39\",\"University 390\",\"University 393\",\"University 394\",\"University 397\",\"University 4\",\"University 40\",\"University 400\",\"University 402\",\"University 404\",\"University 41\",\"University 410\",\"University 411\",\"University 412\",\"University 414\",\"University 418\",\"University 42\",\"University 420\",\"University 423\",\"University 424\",\"University 425\",\"University 43\",\"University 44\",\"University 45\",\"University 46\",\"University 49\",\"University 5\",\"University 50\",\"University 53\",\"University 54\",\"University 55\",\"University 56\",\"University 58\",\"University 59\",\"University 60\",\"University 61\",\"University 64\",\"University 67\",\"University 68\",\"University 69\",\"University 7\",\"University 70\",\"University 71\",\"University 72\",\"University 74\",\"University 78\",\"University 79\",\"University 8\",\"University 80\",\"University 81\",\"University 83\",\"University 84\",\"University 85\",\"University 86\",\"University 87\",\"University 89\",\"University 9\",\"University 90\",\"University 91\",\"University 92\",\"University 93\",\"University 94\",\"University 96\",\"University 97\",\"University 98\",\"University 99\"],\"tags\":[[[\"Customers\",\"Customers\",null]]]},\"id\":\"2894\",\"type\":\"FactorRange\"},{\"attributes\":{\"align\":null,\"below\":[{\"id\":\"2906\"}],\"center\":[{\"id\":\"2908\"},{\"id\":\"2912\"}],\"left\":[{\"id\":\"2909\"}],\"margin\":null,\"min_border_bottom\":10,\"min_border_left\":10,\"min_border_right\":10,\"min_border_top\":10,\"plot_height\":300,\"renderers\":[{\"id\":\"2932\"}],\"sizing_mode\":\"fixed\",\"title\":{\"id\":\"2898\"},\"toolbar\":{\"id\":\"2919\"},\"x_range\":{\"id\":\"2894\"},\"x_scale\":{\"id\":\"2902\"},\"y_range\":{\"id\":\"2895\"},\"y_scale\":{\"id\":\"2904\"}},\"id\":\"2897\",\"subtype\":\"Figure\",\"type\":\"Plot\"},{\"attributes\":{\"source\":{\"id\":\"2926\"}},\"id\":\"2933\",\"type\":\"CDSView\"},{\"attributes\":{\"end\":76437.0,\"reset_end\":76437.0,\"reset_start\":-6807.0,\"start\":-6807.0,\"tags\":[[[\"Invoice Amount\",\"Invoice Amount\",null]]]},\"id\":\"2895\",\"type\":\"Range1d\"}],\"root_ids\":[\"2892\",\"2979\"]},\"title\":\"Bokeh Application\",\"version\":\"2.0.2\"}};\n",
       "  var render_items = [{\"docid\":\"e1fb8585-676e-4b57-ba49-1f8ecce63703\",\"root_ids\":[\"2892\"],\"roots\":{\"2892\":\"dd30be09-a81a-446e-a534-2f8fb9cbbeee\"}}];\n",
       "  root.Bokeh.embed.embed_items_notebook(docs_json, render_items);\n",
       "  }\n",
       "if (root.Bokeh !== undefined) {\n",
       "    embed_document(root);\n",
       "  } else {\n",
       "    var attempts = 0;\n",
       "    var timer = setInterval(function(root) {\n",
       "      if (root.Bokeh !== undefined) {\n",
       "        clearInterval(timer);\n",
       "        embed_document(root);\n",
       "      } else if (document.readyState == \"complete\") {\n",
       "        attempts++;\n",
       "        if (attempts > 100) {\n",
       "          clearInterval(timer);\n",
       "          console.log(\"Bokeh: ERROR: Unable to run BokehJS code because BokehJS library is missing\");\n",
       "        }\n",
       "      }\n",
       "    }, 10, root)\n",
       "  }\n",
       "})(window);</script>"
      ],
      "text/plain": [
       ":DynamicMap   [Subscription]\n",
       "   :Curve   [Customers]   (Invoice Amount)"
      ]
     },
     "execution_count": 120,
     "metadata": {
      "application/vnd.holoviews_exec.v0+json": {
       "id": "2892"
      }
     },
     "output_type": "execute_result"
    }
   ],
   "source": [
    "# Use hvplot to create an interactive line chart of the average price ....\n",
    "# The plot should have a dropdown selector for the neighborhood\n",
    "\n",
    "avg_price_mean = avg_price_df\n",
    "\n",
    "sfo_grouped_month_and_02_Anonymized_plot = avg_price_mean.hvplot.line(\n",
    "    x='Customers',\n",
    "    y='Invoice Amount',\n",
    "    xlabel= 'Customers',\n",
    "    ylabel='Invoice Amount',\n",
    "    groupby='Subscription', \n",
    "    width=600\n",
    ").opts(yformatter='%0f')\n",
    "\n",
    "sfo_grouped_month_and_02_Anonymized_plot"
   ]
  },
  {
   "cell_type": "code",
   "execution_count": 99,
   "metadata": {},
   "outputs": [
    {
     "data": {
      "text/plain": [
       "Service Start\n",
       "2015-03-18 00:00:00-04:00     72000.0\n",
       "2015-06-01 00:00:00-04:00     82000.0\n",
       "2015-06-10 00:00:00-04:00     85500.0\n",
       "2015-09-18 00:00:00-04:00    129700.0\n",
       "2015-10-01 00:00:00-04:00    133100.0\n",
       "Name: Invoice Amount, dtype: float64"
      ]
     },
     "execution_count": 99,
     "metadata": {},
     "output_type": "execute_result"
    }
   ],
   "source": [
    "historical_data = atlas2.reset_index().set_index(\"Service Start\").sort_index(ascending=True)\n",
    "\n",
    "historical_data_invoice_amount = historical_data.groupby(\"Service Start\").sum()[\"Invoice Amount\"]\n",
    "historical_data_invoice_count = historical_data.groupby(\"Service Start\").count()[\"Invoice Amount\"]\n",
    "\n",
    "# Critical\n",
    "historical_data_invoice_amount_cumulative = historical_data_invoice_amount.cumsum()\n",
    "historical_data_invoice_count_cumulative = historical_data_invoice_count.cumsum()\n",
    "\n",
    "# Extra\n",
    "historical_data_invoice_mean = historical_data.groupby(\"Service Start\").mean()[\"Invoice Amount\"]\n",
    "historical_data_nbr_users = historical_data.groupby(\"Service Start\").sum()[\"Number of Users\"]\n",
    "historical_data_nbr_customers = historical_data.groupby(\"Service Start\").count()[\"Customers\"]\n",
    "\n",
    "historical_data_nbr_users_cumulative = historical_data_nbr_users.cumsum()\n",
    "historical_data_nbr_customers_cumulative = historical_data_nbr_customers.cumsum()\n",
    "\n",
    "# historical_data_invoice_amount_cumulative.head()"
   ]
  },
  {
   "cell_type": "code",
   "execution_count": 101,
   "metadata": {},
   "outputs": [
    {
     "data": {},
     "metadata": {},
     "output_type": "display_data"
    },
    {
     "data": {
      "application/vnd.holoviews_exec.v0+json": "",
      "text/html": [
       "<div id='1998'>\n",
       "\n",
       "\n",
       "\n",
       "\n",
       "\n",
       "  <div class=\"bk-root\" id=\"a2cf3f7a-e050-40ec-9a62-0e2aca1fc2a9\" data-root-id=\"1998\"></div>\n",
       "</div>\n",
       "<script type=\"application/javascript\">(function(root) {\n",
       "  function embed_document(root) {\n",
       "  var docs_json = {\"91d74ce4-7bfa-4fc9-824e-ccac58a5d088\":{\"roots\":{\"references\":[{\"attributes\":{\"overlay\":{\"id\":\"2028\"}},\"id\":\"2026\",\"type\":\"BoxZoomTool\"},{\"attributes\":{},\"id\":\"2038\",\"type\":\"BasicTickFormatter\"},{\"attributes\":{\"data_source\":{\"id\":\"2040\"},\"glyph\":{\"id\":\"2043\"},\"hover_glyph\":null,\"muted_glyph\":{\"id\":\"2045\"},\"nonselection_glyph\":{\"id\":\"2044\"},\"selection_glyph\":null,\"view\":{\"id\":\"2047\"}},\"id\":\"2046\",\"type\":\"GlyphRenderer\"},{\"attributes\":{},\"id\":\"2110\",\"type\":\"UnionRenderers\"},{\"attributes\":{\"data\":{\"Variable\":[\"Year\",\"Year\",\"Year\",\"Year\",\"Year\",\"Year\",\"Year\",\"Year\",\"Year\",\"Year\",\"Year\",\"Year\",\"Year\",\"Year\",\"Year\",\"Year\",\"Year\",\"Year\",\"Year\",\"Year\",\"Year\",\"Year\",\"Year\",\"Year\",\"Year\",\"Year\",\"Year\",\"Year\",\"Year\",\"Year\",\"Year\",\"Year\",\"Year\",\"Year\",\"Year\",\"Year\",\"Year\",\"Year\",\"Year\",\"Year\",\"Year\",\"Year\",\"Year\",\"Year\",\"Year\",\"Year\",\"Year\",\"Year\",\"Year\",\"Year\",\"Year\",\"Year\",\"Year\",\"Year\",\"Year\",\"Year\",\"Year\",\"Year\",\"Year\",\"Year\",\"Year\",\"Year\",\"Year\",\"Year\",\"Year\",\"Year\",\"Year\",\"Year\",\"Year\",\"Year\",\"Year\",\"Year\",\"Year\",\"Year\",\"Year\",\"Year\",\"Year\",\"Year\",\"Year\",\"Year\",\"Year\",\"Year\",\"Year\",\"Year\",\"Year\",\"Year\",\"Year\",\"Year\",\"Year\",\"Year\",\"Year\",\"Year\",\"Year\",\"Year\",\"Year\",\"Year\",\"Year\",\"Year\",\"Year\",\"Year\",\"Year\",\"Year\",\"Year\",\"Year\",\"Year\",\"Year\",\"Year\",\"Year\",\"Year\"],\"index\":[158,159,160,161,162,163,164,165,166,167,168,169,170,171,172,173,174,175,176,177,178,179,180,181,182,183,184,185,186,187,188,189,190,191,192,193,194,195,196,197,198,199,200,201,202,203,204,205,206,207,208,209,210,211,212,213,214,215,216,217,218,219,220,221,222,223,224,225,226,227,228,229,230,231,232,233,234,235,236,237,238,239,240,241,242,243,244,245,246,247,248,249,250,251,252,253,254,255,256,257,258,259,260,261,262,263,264,265,266],\"value\":[2020,2020,2020,2020,2020,2020,2020,2020,2020,2020,2020,2020,2020,2020,2020,2020,2020,2020,2020,2020,2020,2020,2020,2020,2020,2020,2020,2020,2020,2020,2020,2020,2020,2020,2020,2020,2020,2020,2020,2020,2020,2020,2020,2020,2020,2020,2020,2020,2020,2020,2020,2020,2020,2020,2020,2020,2020,2020,2020,2020,2020,2020,2020,2020,2020,2020,2020,2020,2020,2020,2020,2020,2020,2020,2020,2020,2020,2020,2020,2020,2020,2020,2020,2020,2020,2020,2020,2020,2020,2020,2020,2020,2020,2020,2020,2020,2020,2020,2020,2020,2020,2020,2020,2020,2020,2020,2020,2020,2020]},\"selected\":{\"id\":\"2057\"},\"selection_policy\":{\"id\":\"2089\"}},\"id\":\"2056\",\"type\":\"ColumnDataSource\"},{\"attributes\":{\"click_policy\":\"mute\",\"items\":[{\"id\":\"2055\"},{\"id\":\"2072\"},{\"id\":\"2091\"},{\"id\":\"2112\"}],\"location\":[0,0],\"title\":\"Variable\"},\"id\":\"2054\",\"type\":\"Legend\"},{\"attributes\":{\"line_color\":\"#d62628\",\"line_width\":2,\"x\":{\"field\":\"index\"},\"y\":{\"field\":\"value\"}},\"id\":\"2095\",\"type\":\"Line\"},{\"attributes\":{\"source\":{\"id\":\"2040\"}},\"id\":\"2047\",\"type\":\"CDSView\"},{\"attributes\":{},\"id\":\"2027\",\"type\":\"ResetTool\"},{\"attributes\":{},\"id\":\"2016\",\"type\":\"BasicTicker\"},{\"attributes\":{\"label\":{\"value\":\"Year\"},\"renderers\":[{\"id\":\"2062\"}]},\"id\":\"2072\",\"type\":\"LegendItem\"},{\"attributes\":{\"label\":{\"value\":\"Monthly\"},\"renderers\":[{\"id\":\"2079\"}]},\"id\":\"2091\",\"type\":\"LegendItem\"},{\"attributes\":{\"line_color\":\"#1f77b3\",\"line_width\":2,\"x\":{\"field\":\"index\"},\"y\":{\"field\":\"value\"}},\"id\":\"2043\",\"type\":\"Line\"},{\"attributes\":{\"data\":{\"Variable\":[\"Invoice Amount\",\"Invoice Amount\",\"Invoice Amount\",\"Invoice Amount\",\"Invoice Amount\",\"Invoice Amount\",\"Invoice Amount\",\"Invoice Amount\",\"Invoice Amount\",\"Invoice Amount\",\"Invoice Amount\",\"Invoice Amount\",\"Invoice Amount\",\"Invoice Amount\",\"Invoice Amount\",\"Invoice Amount\",\"Invoice Amount\",\"Invoice Amount\",\"Invoice Amount\",\"Invoice Amount\",\"Invoice Amount\",\"Invoice Amount\",\"Invoice Amount\",\"Invoice Amount\",\"Invoice Amount\",\"Invoice Amount\",\"Invoice Amount\",\"Invoice Amount\",\"Invoice Amount\",\"Invoice Amount\",\"Invoice Amount\",\"Invoice Amount\",\"Invoice Amount\",\"Invoice Amount\",\"Invoice Amount\",\"Invoice Amount\",\"Invoice Amount\",\"Invoice Amount\",\"Invoice Amount\",\"Invoice Amount\",\"Invoice Amount\",\"Invoice Amount\",\"Invoice Amount\",\"Invoice Amount\",\"Invoice Amount\",\"Invoice Amount\",\"Invoice Amount\",\"Invoice Amount\",\"Invoice Amount\",\"Invoice Amount\",\"Invoice Amount\",\"Invoice Amount\",\"Invoice Amount\",\"Invoice Amount\",\"Invoice Amount\",\"Invoice Amount\",\"Invoice Amount\",\"Invoice Amount\",\"Invoice Amount\",\"Invoice Amount\",\"Invoice Amount\",\"Invoice Amount\",\"Invoice Amount\",\"Invoice Amount\",\"Invoice Amount\",\"Invoice Amount\",\"Invoice Amount\",\"Invoice Amount\",\"Invoice Amount\",\"Invoice Amount\",\"Invoice Amount\",\"Invoice Amount\",\"Invoice Amount\",\"Invoice Amount\",\"Invoice Amount\",\"Invoice Amount\",\"Invoice Amount\",\"Invoice Amount\",\"Invoice Amount\",\"Invoice Amount\",\"Invoice Amount\",\"Invoice Amount\",\"Invoice Amount\",\"Invoice Amount\",\"Invoice Amount\",\"Invoice Amount\",\"Invoice Amount\",\"Invoice Amount\",\"Invoice Amount\",\"Invoice Amount\",\"Invoice Amount\",\"Invoice Amount\",\"Invoice Amount\",\"Invoice Amount\",\"Invoice Amount\",\"Invoice Amount\",\"Invoice Amount\",\"Invoice Amount\",\"Invoice Amount\",\"Invoice Amount\",\"Invoice Amount\",\"Invoice Amount\",\"Invoice Amount\",\"Invoice Amount\",\"Invoice Amount\",\"Invoice Amount\",\"Invoice Amount\",\"Invoice Amount\",\"Invoice Amount\"],\"index\":[158,159,160,161,162,163,164,165,166,167,168,169,170,171,172,173,174,175,176,177,178,179,180,181,182,183,184,185,186,187,188,189,190,191,192,193,194,195,196,197,198,199,200,201,202,203,204,205,206,207,208,209,210,211,212,213,214,215,216,217,218,219,220,221,222,223,224,225,226,227,228,229,230,231,232,233,234,235,236,237,238,239,240,241,242,243,244,245,246,247,248,249,250,251,252,253,254,255,256,257,258,259,260,261,262,263,264,265,266],\"value\":{\"__ndarray__\":\"AAAAAABAn0AAAAAAAKS/QAAAAAAA/8RAAAAAAAAEqkAAAAAAAHamQAAAAAAAGJhAAAAAAABGrkAAAAAAgA7VQAAAAAAAFrRAAAAAAIALt0AAAAAAwIXXQAAAAAAAKqJAAAAAAAAuqUAAAAAAAEauQAAAAAAAZJlAAAAAAAD7rUAAAAAAAHCXQAAAAAAAcJdAZmZmZmZmzUAAAAAAAFyiQAAAAAAA9JpAAAAAAAAgfEAAAAAAACCsQAAAAAAAeIBAAAAAAACCxEAAAAAAAEB/QAAAAAAAZJlAAAAAAACIo0AAAAAAALTEQAAAAAAAcLdAAAAAAABbyUAAAAAAAP/UQAAAAAAAQI9AAAAAAABowEAAAAAAAECfQAAAAAAAcs9AAAAAAACIw0AAAAAAAEDfQAAAAAAAQJ9AAAAAAABwp0AAAAAAAABkQAAAAAAAFJBAAAAAAAAExUAAAAAACCLoQAAAAAAAWJtAAAAAAACUsUAAAAAAAGq4QAAAAAAAiKNAAAAAAAADxkAAAAAAAFB6QAAAAAAAGclAAAAAAAD4oUAAAAAAAJSxQAAAAAAAWLtAAAAAAAA31ECamZmZyVzhQAAAAAAAxsFAAAAAAACIo0AAAAAAAJrFQAAAAAAAAJlAAAAAAACawEAAAAAAgMy0QAAAAAAABrhAAAAAAACIo0AAAAAAAMCSQB6F61EgauJAAAAAAACco0AAAAAAACC3QAAAAAAAId5AZmZmZiYmyUAAAAAAYCTiQAAAAAAA/75AAAAAAABooEAAAAAAAIChQAAAAADQNPlAkML1KAT840AAAAAAAJSxQAAAAAAAMLtAAAAAAAAM0kAAAAAAALieQAAAAAAA3K5AAAAAAACpukAAAAAAwHTCQAAAAAAAL7FAAAAAAABYwUAAAAAAAHPJQAAAAAAAiKNAAAAAAAAXsUAAAAAAAIijQAAAAAAApK9AAAAAAABSvEAAAAAAgLPCQAAAAAAwFfVAAAAAAAD+sEAAAAAAAJSxQAAAAAAAlrRAAAAAAABcskAAAAAAAKCZQAAAAAAAsJ1AAAAAAACQmkAAAAAAAMCyQAAAAAAAkIFAAAAAAADggEAAAAAAgKLZQAAAAAAA8qJAAAAAAAB2xkAAAAAAAECfQAAAAAAATKpAAAAAAACUoUA=\",\"dtype\":\"float64\",\"shape\":[109]}},\"selected\":{\"id\":\"2041\"},\"selection_policy\":{\"id\":\"2070\"}},\"id\":\"2040\",\"type\":\"ColumnDataSource\"},{\"attributes\":{\"source\":{\"id\":\"2073\"}},\"id\":\"2080\",\"type\":\"CDSView\"},{\"attributes\":{\"children\":[{\"id\":\"1999\"},{\"id\":\"2006\"},{\"id\":\"2225\"}],\"margin\":[0,0,0,0],\"name\":\"Row05625\",\"tags\":[\"embedded\"]},\"id\":\"1998\",\"type\":\"Row\"},{\"attributes\":{\"source\":{\"id\":\"2056\"}},\"id\":\"2063\",\"type\":\"CDSView\"},{\"attributes\":{},\"id\":\"2025\",\"type\":\"WheelZoomTool\"},{\"attributes\":{},\"id\":\"2013\",\"type\":\"LinearScale\"},{\"attributes\":{},\"id\":\"2093\",\"type\":\"Selection\"},{\"attributes\":{\"margin\":[5,5,5,5],\"name\":\"HSpacer05629\",\"sizing_mode\":\"stretch_width\"},\"id\":\"1999\",\"type\":\"Spacer\"},{\"attributes\":{\"line_alpha\":0.2,\"line_color\":\"#ff7e0e\",\"line_width\":2,\"x\":{\"field\":\"index\"},\"y\":{\"field\":\"value\"}},\"id\":\"2061\",\"type\":\"Line\"},{\"attributes\":{},\"id\":\"2074\",\"type\":\"Selection\"},{\"attributes\":{\"align\":null,\"below\":[{\"id\":\"2015\"}],\"center\":[{\"id\":\"2018\"},{\"id\":\"2022\"}],\"left\":[{\"id\":\"2019\"}],\"margin\":null,\"min_border_bottom\":10,\"min_border_left\":10,\"min_border_right\":10,\"min_border_top\":10,\"plot_height\":300,\"plot_width\":700,\"renderers\":[{\"id\":\"2046\"},{\"id\":\"2062\"},{\"id\":\"2079\"},{\"id\":\"2098\"}],\"right\":[{\"id\":\"2054\"}],\"sizing_mode\":\"fixed\",\"title\":{\"id\":\"2007\"},\"toolbar\":{\"id\":\"2029\"},\"x_range\":{\"id\":\"2000\"},\"x_scale\":{\"id\":\"2011\"},\"y_range\":{\"id\":\"2001\"},\"y_scale\":{\"id\":\"2013\"}},\"id\":\"2006\",\"subtype\":\"Figure\",\"type\":\"Plot\"},{\"attributes\":{\"end\":266.0,\"reset_end\":266.0,\"reset_start\":158.0,\"start\":158.0,\"tags\":[[[\"index\",\"index\",null]]]},\"id\":\"2000\",\"type\":\"Range1d\"},{\"attributes\":{},\"id\":\"2020\",\"type\":\"BasicTicker\"},{\"attributes\":{},\"id\":\"2024\",\"type\":\"PanTool\"},{\"attributes\":{\"line_alpha\":0.1,\"line_color\":\"#1f77b3\",\"line_width\":2,\"x\":{\"field\":\"index\"},\"y\":{\"field\":\"value\"}},\"id\":\"2044\",\"type\":\"Line\"},{\"attributes\":{\"callback\":null,\"renderers\":[{\"id\":\"2046\"},{\"id\":\"2062\"},{\"id\":\"2079\"},{\"id\":\"2098\"}],\"tags\":[\"hv_created\"],\"tooltips\":[[\"Variable\",\"@{Variable}\"],[\"index\",\"@{index}\"],[\"value\",\"@{value}\"]]},\"id\":\"2002\",\"type\":\"HoverTool\"},{\"attributes\":{\"axis_label\":\"\",\"bounds\":\"auto\",\"formatter\":{\"id\":\"2038\"},\"major_label_orientation\":\"horizontal\",\"ticker\":{\"id\":\"2020\"}},\"id\":\"2019\",\"type\":\"LinearAxis\"},{\"attributes\":{\"active_drag\":\"auto\",\"active_inspect\":\"auto\",\"active_multi\":null,\"active_scroll\":\"auto\",\"active_tap\":\"auto\",\"tools\":[{\"id\":\"2002\"},{\"id\":\"2023\"},{\"id\":\"2024\"},{\"id\":\"2025\"},{\"id\":\"2026\"},{\"id\":\"2027\"}]},\"id\":\"2029\",\"type\":\"Toolbar\"},{\"attributes\":{\"text\":\"\",\"text_color\":{\"value\":\"black\"},\"text_font_size\":{\"value\":\"12pt\"}},\"id\":\"2007\",\"type\":\"Title\"},{\"attributes\":{},\"id\":\"2036\",\"type\":\"BasicTickFormatter\"},{\"attributes\":{\"label\":{\"value\":\"Invoice Amount\"},\"renderers\":[{\"id\":\"2046\"}]},\"id\":\"2055\",\"type\":\"LegendItem\"},{\"attributes\":{\"line_alpha\":0.1,\"line_color\":\"#ff7e0e\",\"line_width\":2,\"x\":{\"field\":\"index\"},\"y\":{\"field\":\"value\"}},\"id\":\"2060\",\"type\":\"Line\"},{\"attributes\":{\"axis_label\":\"\",\"bounds\":\"auto\",\"formatter\":{\"id\":\"2036\"},\"major_label_orientation\":\"horizontal\",\"ticker\":{\"id\":\"2016\"}},\"id\":\"2015\",\"type\":\"LinearAxis\"},{\"attributes\":{\"end\":113569.4,\"reset_end\":113569.4,\"reset_start\":-10323.400000000001,\"start\":-10323.400000000001,\"tags\":[[[\"value\",\"value\",null]]]},\"id\":\"2001\",\"type\":\"Range1d\"},{\"attributes\":{\"data\":{\"Variable\":[\"Monthly\",\"Monthly\",\"Monthly\",\"Monthly\",\"Monthly\",\"Monthly\",\"Monthly\",\"Monthly\",\"Monthly\",\"Monthly\",\"Monthly\",\"Monthly\",\"Monthly\",\"Monthly\",\"Monthly\",\"Monthly\",\"Monthly\",\"Monthly\",\"Monthly\",\"Monthly\",\"Monthly\",\"Monthly\",\"Monthly\",\"Monthly\",\"Monthly\",\"Monthly\",\"Monthly\",\"Monthly\",\"Monthly\",\"Monthly\",\"Monthly\",\"Monthly\",\"Monthly\",\"Monthly\",\"Monthly\",\"Monthly\",\"Monthly\",\"Monthly\",\"Monthly\",\"Monthly\",\"Monthly\",\"Monthly\",\"Monthly\",\"Monthly\",\"Monthly\",\"Monthly\",\"Monthly\",\"Monthly\",\"Monthly\",\"Monthly\",\"Monthly\",\"Monthly\",\"Monthly\",\"Monthly\",\"Monthly\",\"Monthly\",\"Monthly\",\"Monthly\",\"Monthly\",\"Monthly\",\"Monthly\",\"Monthly\",\"Monthly\",\"Monthly\",\"Monthly\",\"Monthly\",\"Monthly\",\"Monthly\",\"Monthly\",\"Monthly\",\"Monthly\",\"Monthly\",\"Monthly\",\"Monthly\",\"Monthly\",\"Monthly\",\"Monthly\",\"Monthly\",\"Monthly\",\"Monthly\",\"Monthly\",\"Monthly\",\"Monthly\",\"Monthly\",\"Monthly\",\"Monthly\",\"Monthly\",\"Monthly\",\"Monthly\",\"Monthly\",\"Monthly\",\"Monthly\",\"Monthly\",\"Monthly\",\"Monthly\",\"Monthly\",\"Monthly\",\"Monthly\",\"Monthly\",\"Monthly\",\"Monthly\",\"Monthly\",\"Monthly\",\"Monthly\",\"Monthly\",\"Monthly\",\"Monthly\",\"Monthly\",\"Monthly\"],\"index\":[158,159,160,161,162,163,164,165,166,167,168,169,170,171,172,173,174,175,176,177,178,179,180,181,182,183,184,185,186,187,188,189,190,191,192,193,194,195,196,197,198,199,200,201,202,203,204,205,206,207,208,209,210,211,212,213,214,215,216,217,218,219,220,221,222,223,224,225,226,227,228,229,230,231,232,233,234,235,236,237,238,239,240,241,242,243,244,245,246,247,248,249,250,251,252,253,254,255,256,257,258,259,260,261,262,263,264,265,266],\"value\":[1,1,2,3,3,3,3,3,3,3,3,3,3,3,3,4,4,4,4,4,4,4,4,4,4,4,4,4,4,5,5,5,5,5,5,5,6,6,6,6,6,6,6,7,7,7,7,7,7,7,7,7,7,7,7,8,8,8,8,8,8,8,8,8,8,8,8,8,8,8,8,8,8,8,8,9,9,9,9,9,9,9,9,9,9,9,9,9,9,9,9,9,10,10,10,10,10,10,10,10,10,10,10,10,11,11,11,11,12]},\"selected\":{\"id\":\"2074\"},\"selection_policy\":{\"id\":\"2110\"}},\"id\":\"2073\",\"type\":\"ColumnDataSource\"},{\"attributes\":{\"line_color\":\"#ff7e0e\",\"line_width\":2,\"x\":{\"field\":\"index\"},\"y\":{\"field\":\"value\"}},\"id\":\"2059\",\"type\":\"Line\"},{\"attributes\":{\"line_alpha\":0.2,\"line_color\":\"#1f77b3\",\"line_width\":2,\"x\":{\"field\":\"index\"},\"y\":{\"field\":\"value\"}},\"id\":\"2045\",\"type\":\"Line\"},{\"attributes\":{\"line_alpha\":0.1,\"line_color\":\"#d62628\",\"line_width\":2,\"x\":{\"field\":\"index\"},\"y\":{\"field\":\"value\"}},\"id\":\"2096\",\"type\":\"Line\"},{\"attributes\":{\"line_color\":\"#2ba02b\",\"line_width\":2,\"x\":{\"field\":\"index\"},\"y\":{\"field\":\"value\"}},\"id\":\"2076\",\"type\":\"Line\"},{\"attributes\":{\"line_alpha\":0.2,\"line_color\":\"#2ba02b\",\"line_width\":2,\"x\":{\"field\":\"index\"},\"y\":{\"field\":\"value\"}},\"id\":\"2078\",\"type\":\"Line\"},{\"attributes\":{\"line_alpha\":0.1,\"line_color\":\"#2ba02b\",\"line_width\":2,\"x\":{\"field\":\"index\"},\"y\":{\"field\":\"value\"}},\"id\":\"2077\",\"type\":\"Line\"},{\"attributes\":{\"data\":{\"Variable\":[\"Quarterly\",\"Quarterly\",\"Quarterly\",\"Quarterly\",\"Quarterly\",\"Quarterly\",\"Quarterly\",\"Quarterly\",\"Quarterly\",\"Quarterly\",\"Quarterly\",\"Quarterly\",\"Quarterly\",\"Quarterly\",\"Quarterly\",\"Quarterly\",\"Quarterly\",\"Quarterly\",\"Quarterly\",\"Quarterly\",\"Quarterly\",\"Quarterly\",\"Quarterly\",\"Quarterly\",\"Quarterly\",\"Quarterly\",\"Quarterly\",\"Quarterly\",\"Quarterly\",\"Quarterly\",\"Quarterly\",\"Quarterly\",\"Quarterly\",\"Quarterly\",\"Quarterly\",\"Quarterly\",\"Quarterly\",\"Quarterly\",\"Quarterly\",\"Quarterly\",\"Quarterly\",\"Quarterly\",\"Quarterly\",\"Quarterly\",\"Quarterly\",\"Quarterly\",\"Quarterly\",\"Quarterly\",\"Quarterly\",\"Quarterly\",\"Quarterly\",\"Quarterly\",\"Quarterly\",\"Quarterly\",\"Quarterly\",\"Quarterly\",\"Quarterly\",\"Quarterly\",\"Quarterly\",\"Quarterly\",\"Quarterly\",\"Quarterly\",\"Quarterly\",\"Quarterly\",\"Quarterly\",\"Quarterly\",\"Quarterly\",\"Quarterly\",\"Quarterly\",\"Quarterly\",\"Quarterly\",\"Quarterly\",\"Quarterly\",\"Quarterly\",\"Quarterly\",\"Quarterly\",\"Quarterly\",\"Quarterly\",\"Quarterly\",\"Quarterly\",\"Quarterly\",\"Quarterly\",\"Quarterly\",\"Quarterly\",\"Quarterly\",\"Quarterly\",\"Quarterly\",\"Quarterly\",\"Quarterly\",\"Quarterly\",\"Quarterly\",\"Quarterly\",\"Quarterly\",\"Quarterly\",\"Quarterly\",\"Quarterly\",\"Quarterly\",\"Quarterly\",\"Quarterly\",\"Quarterly\",\"Quarterly\",\"Quarterly\",\"Quarterly\",\"Quarterly\",\"Quarterly\",\"Quarterly\",\"Quarterly\",\"Quarterly\",\"Quarterly\"],\"index\":[158,159,160,161,162,163,164,165,166,167,168,169,170,171,172,173,174,175,176,177,178,179,180,181,182,183,184,185,186,187,188,189,190,191,192,193,194,195,196,197,198,199,200,201,202,203,204,205,206,207,208,209,210,211,212,213,214,215,216,217,218,219,220,221,222,223,224,225,226,227,228,229,230,231,232,233,234,235,236,237,238,239,240,241,242,243,244,245,246,247,248,249,250,251,252,253,254,255,256,257,258,259,260,261,262,263,264,265,266],\"value\":[1,1,1,1,1,1,1,1,1,1,1,1,1,1,1,2,2,2,2,2,2,2,2,2,2,2,2,2,2,2,2,2,2,2,2,2,2,2,2,2,2,2,2,3,3,3,3,3,3,3,3,3,3,3,3,3,3,3,3,3,3,3,3,3,3,3,3,3,3,3,3,3,3,3,3,3,3,3,3,3,3,3,3,3,3,3,3,3,3,3,3,3,4,4,4,4,4,4,4,4,4,4,4,4,4,4,4,4,4]},\"selected\":{\"id\":\"2093\"},\"selection_policy\":{\"id\":\"2125\"}},\"id\":\"2092\",\"type\":\"ColumnDataSource\"},{\"attributes\":{\"data_source\":{\"id\":\"2073\"},\"glyph\":{\"id\":\"2076\"},\"hover_glyph\":null,\"muted_glyph\":{\"id\":\"2078\"},\"nonselection_glyph\":{\"id\":\"2077\"},\"selection_glyph\":null,\"view\":{\"id\":\"2080\"}},\"id\":\"2079\",\"type\":\"GlyphRenderer\"},{\"attributes\":{\"line_alpha\":0.2,\"line_color\":\"#d62628\",\"line_width\":2,\"x\":{\"field\":\"index\"},\"y\":{\"field\":\"value\"}},\"id\":\"2097\",\"type\":\"Line\"},{\"attributes\":{},\"id\":\"2011\",\"type\":\"LinearScale\"},{\"attributes\":{},\"id\":\"2041\",\"type\":\"Selection\"},{\"attributes\":{},\"id\":\"2089\",\"type\":\"UnionRenderers\"},{\"attributes\":{\"source\":{\"id\":\"2092\"}},\"id\":\"2099\",\"type\":\"CDSView\"},{\"attributes\":{\"data_source\":{\"id\":\"2092\"},\"glyph\":{\"id\":\"2095\"},\"hover_glyph\":null,\"muted_glyph\":{\"id\":\"2097\"},\"nonselection_glyph\":{\"id\":\"2096\"},\"selection_glyph\":null,\"view\":{\"id\":\"2099\"}},\"id\":\"2098\",\"type\":\"GlyphRenderer\"},{\"attributes\":{\"axis\":{\"id\":\"2019\"},\"dimension\":1,\"grid_line_color\":null,\"ticker\":null},\"id\":\"2022\",\"type\":\"Grid\"},{\"attributes\":{},\"id\":\"2023\",\"type\":\"SaveTool\"},{\"attributes\":{},\"id\":\"2057\",\"type\":\"Selection\"},{\"attributes\":{\"axis\":{\"id\":\"2015\"},\"grid_line_color\":null,\"ticker\":null},\"id\":\"2018\",\"type\":\"Grid\"},{\"attributes\":{\"label\":{\"value\":\"Quarterly\"},\"renderers\":[{\"id\":\"2098\"}]},\"id\":\"2112\",\"type\":\"LegendItem\"},{\"attributes\":{},\"id\":\"2125\",\"type\":\"UnionRenderers\"},{\"attributes\":{\"bottom_units\":\"screen\",\"fill_alpha\":0.5,\"fill_color\":\"lightgrey\",\"left_units\":\"screen\",\"level\":\"overlay\",\"line_alpha\":1.0,\"line_color\":\"black\",\"line_dash\":[4,4],\"line_width\":2,\"render_mode\":\"css\",\"right_units\":\"screen\",\"top_units\":\"screen\"},\"id\":\"2028\",\"type\":\"BoxAnnotation\"},{\"attributes\":{\"data_source\":{\"id\":\"2056\"},\"glyph\":{\"id\":\"2059\"},\"hover_glyph\":null,\"muted_glyph\":{\"id\":\"2061\"},\"nonselection_glyph\":{\"id\":\"2060\"},\"selection_glyph\":null,\"view\":{\"id\":\"2063\"}},\"id\":\"2062\",\"type\":\"GlyphRenderer\"},{\"attributes\":{\"margin\":[5,5,5,5],\"name\":\"HSpacer05630\",\"sizing_mode\":\"stretch_width\"},\"id\":\"2225\",\"type\":\"Spacer\"},{\"attributes\":{},\"id\":\"2070\",\"type\":\"UnionRenderers\"}],\"root_ids\":[\"1998\"]},\"title\":\"Bokeh Application\",\"version\":\"2.0.2\"}};\n",
       "  var render_items = [{\"docid\":\"91d74ce4-7bfa-4fc9-824e-ccac58a5d088\",\"root_ids\":[\"1998\"],\"roots\":{\"1998\":\"a2cf3f7a-e050-40ec-9a62-0e2aca1fc2a9\"}}];\n",
       "  root.Bokeh.embed.embed_items_notebook(docs_json, render_items);\n",
       "  }\n",
       "if (root.Bokeh !== undefined) {\n",
       "    embed_document(root);\n",
       "  } else {\n",
       "    var attempts = 0;\n",
       "    var timer = setInterval(function(root) {\n",
       "      if (root.Bokeh !== undefined) {\n",
       "        clearInterval(timer);\n",
       "        embed_document(root);\n",
       "      } else if (document.readyState == \"complete\") {\n",
       "        attempts++;\n",
       "        if (attempts > 100) {\n",
       "          clearInterval(timer);\n",
       "          console.log(\"Bokeh: ERROR: Unable to run BokehJS code because BokehJS library is missing\");\n",
       "        }\n",
       "      }\n",
       "    }, 10, root)\n",
       "  }\n",
       "})(window);</script>"
      ],
      "text/plain": [
       ":NdOverlay   [Variable]\n",
       "   :Curve   [index]   (value)"
      ]
     },
     "execution_count": 101,
     "metadata": {
      "application/vnd.holoviews_exec.v0+json": {
       "id": "1998"
      }
     },
     "output_type": "execute_result"
    }
   ],
   "source": [
    "\n",
    "# Options\n",
    "data_selector_list = [\n",
    "    \"Invoice Amount\", \"Invoice Count\",\n",
    "    \"Cumulative Invoice Amount\", \"Cumulative Invoice Count\",\n",
    "    \"Invoice Mean\", \"Number of Users\", \"Number of Customers\",\n",
    "    \"Cumulative Number of Users\", \"Cumulative Number of Customers\",\n",
    "]\n",
    "def generate_plot(\n",
    "    data_selector,\n",
    "    chosen_type_list,\n",
    "    filter_by_year\n",
    "    ):\n",
    "    \n",
    "    # Choose data to plot.\n",
    "    df = None\n",
    "    if data_selector == \"Invoice Amount\":\n",
    "        df = historical_data_invoice_amount\n",
    "    if data_selector == \"Invoice Count\":\n",
    "        df = historical_data_invoice_count\n",
    "    if data_selector == \"Cumulative Invoice Amount\":\n",
    "        df = historical_data_invoice_amount_cumulative\n",
    "    if data_selector == \"Cumulative Invoice Count\":\n",
    "        df = historical_data_invoice_count_cumulative\n",
    "    if data_selector == \"Invoice Mean\":\n",
    "        df = historical_data_invoice_mean\n",
    "    if data_selector == \"Number of Users\":\n",
    "        df = historical_data_nbr_users\n",
    "    if data_selector == \"Number of Customers\":\n",
    "        df = historical_data_nbr_customers\n",
    "    if data_selector == \"Cumulative Number of Users\":\n",
    "        df = historical_data_nbr_users_cumulative\n",
    "    if data_selector == \"Cumulative Number of Customers\":\n",
    "        df = historical_data_nbr_customers_cumulative\n",
    "\n",
    "        \n",
    "    # Extract y/m/q for service start\n",
    "    df_ymq = tool_data_processing.extract_and_append_year_month_quarter(df.reset_index(), \"Service Start\")\n",
    "\n",
    "    # Filter by year\n",
    "    df_filtered_by_year = df_ymq[ df_ymq[\"Year\"] == filter_by_year ]\n",
    "#     df_selected = df[ df['status'].isin(chosen_type_list) ]\n",
    "    \n",
    "    # Generate plot\n",
    "    the_plot = df_filtered_by_year.hvplot.line(\n",
    "        \n",
    "    )\n",
    "    \n",
    "    return the_plot\n",
    "\n",
    "\n",
    "\n",
    "# Display the interactive plot\n",
    "# pn.interact(plot_heatmap, chosen_type=types)\n",
    "# pn.interact(plot_heatmap, chosen_type_list=pn.widgets.CheckButtonGroup(name='Check Button Group', value=['confirmed', 'bedridden'], options=['confirmed', 'bedridden', 'recovered']))\n",
    "\n",
    "generate_plot(\n",
    "    \"Invoice Amount\",\n",
    "    [],\n",
    "    2020\n",
    "    )\n"
   ]
  },
  {
   "cell_type": "code",
   "execution_count": 102,
   "metadata": {},
   "outputs": [
    {
     "data": {
      "text/html": [
       "<div>\n",
       "<style scoped>\n",
       "    .dataframe tbody tr th:only-of-type {\n",
       "        vertical-align: middle;\n",
       "    }\n",
       "\n",
       "    .dataframe tbody tr th {\n",
       "        vertical-align: top;\n",
       "    }\n",
       "\n",
       "    .dataframe thead th {\n",
       "        text-align: right;\n",
       "    }\n",
       "</style>\n",
       "<table border=\"1\" class=\"dataframe\">\n",
       "  <thead>\n",
       "    <tr style=\"text-align: right;\">\n",
       "      <th></th>\n",
       "      <th></th>\n",
       "      <th>Invoice Amount</th>\n",
       "    </tr>\n",
       "    <tr>\n",
       "      <th>Customers</th>\n",
       "      <th>Subscription</th>\n",
       "      <th></th>\n",
       "    </tr>\n",
       "  </thead>\n",
       "  <tbody>\n",
       "    <tr>\n",
       "      <th>University 1</th>\n",
       "      <th>1 Year</th>\n",
       "      <td>69500.00</td>\n",
       "    </tr>\n",
       "    <tr>\n",
       "      <th rowspan=\"2\" valign=\"top\">University 10</th>\n",
       "      <th>1 Year</th>\n",
       "      <td>2166.67</td>\n",
       "    </tr>\n",
       "    <tr>\n",
       "      <th>3 Years</th>\n",
       "      <td>2350.00</td>\n",
       "    </tr>\n",
       "    <tr>\n",
       "      <th rowspan=\"2\" valign=\"top\">University 100</th>\n",
       "      <th>1 Year</th>\n",
       "      <td>1500.00</td>\n",
       "    </tr>\n",
       "    <tr>\n",
       "      <th>3 Years</th>\n",
       "      <td>5460.00</td>\n",
       "    </tr>\n",
       "  </tbody>\n",
       "</table>\n",
       "</div>"
      ],
      "text/plain": [
       "                             Invoice Amount\n",
       "Customers      Subscription                \n",
       "University 1   1 Year              69500.00\n",
       "University 10  1 Year               2166.67\n",
       "               3 Years              2350.00\n",
       "University 100 1 Year               1500.00\n",
       "               3 Years              5460.00"
      ]
     },
     "execution_count": 102,
     "metadata": {},
     "output_type": "execute_result"
    }
   ],
   "source": [
    "# Group by year and atlas and then create a new dataframe of the mean values\n",
    "atlas.head()\n",
    "avg_price_df = atlas.reset_index().groupby(by=['Customers','Subscription']).mean()\n",
    "avg_price_df.head()"
   ]
  },
  {
   "cell_type": "code",
   "execution_count": 103,
   "metadata": {},
   "outputs": [
    {
     "data": {
      "text/plain": [
       "Invoice Amount    float64\n",
       "dtype: object"
      ]
     },
     "execution_count": 103,
     "metadata": {},
     "output_type": "execute_result"
    }
   ],
   "source": [
    "avg_price_df.dtypes"
   ]
  },
  {
   "cell_type": "code",
   "execution_count": null,
   "metadata": {},
   "outputs": [],
   "source": []
  },
  {
   "cell_type": "code",
   "execution_count": null,
   "metadata": {},
   "outputs": [],
   "source": [
    "# Read the census data into a Pandas DataFrame\n",
    "#file_path = Path(\"../Resources/sfo_atla.csv\")\n",
    "#sfo_data = pd.read_csv(file_path, index_col=\"year\")\n",
    "#sfo_data.head()"
   ]
  },
  {
   "cell_type": "code",
   "execution_count": 106,
   "metadata": {},
   "outputs": [
    {
     "data": {
      "text/html": [
       "<div>\n",
       "<style scoped>\n",
       "    .dataframe tbody tr th:only-of-type {\n",
       "        vertical-align: middle;\n",
       "    }\n",
       "\n",
       "    .dataframe tbody tr th {\n",
       "        vertical-align: top;\n",
       "    }\n",
       "\n",
       "    .dataframe thead th {\n",
       "        text-align: right;\n",
       "    }\n",
       "</style>\n",
       "<table border=\"1\" class=\"dataframe\">\n",
       "  <thead>\n",
       "    <tr style=\"text-align: right;\">\n",
       "      <th></th>\n",
       "      <th>Invoice Amount</th>\n",
       "      <th>Customers</th>\n",
       "    </tr>\n",
       "  </thead>\n",
       "  <tbody>\n",
       "    <tr>\n",
       "      <th>0</th>\n",
       "      <td>69500.0</td>\n",
       "      <td>University 1</td>\n",
       "    </tr>\n",
       "    <tr>\n",
       "      <th>1</th>\n",
       "      <td>50000.0</td>\n",
       "      <td>University 99</td>\n",
       "    </tr>\n",
       "    <tr>\n",
       "      <th>2</th>\n",
       "      <td>50000.0</td>\n",
       "      <td>University 70</td>\n",
       "    </tr>\n",
       "    <tr>\n",
       "      <th>3</th>\n",
       "      <td>50000.0</td>\n",
       "      <td>University 45</td>\n",
       "    </tr>\n",
       "    <tr>\n",
       "      <th>4</th>\n",
       "      <td>50000.0</td>\n",
       "      <td>University 138</td>\n",
       "    </tr>\n",
       "    <tr>\n",
       "      <th>5</th>\n",
       "      <td>50000.0</td>\n",
       "      <td>University 107</td>\n",
       "    </tr>\n",
       "    <tr>\n",
       "      <th>6</th>\n",
       "      <td>30000.0</td>\n",
       "      <td>University 162</td>\n",
       "    </tr>\n",
       "    <tr>\n",
       "      <th>7</th>\n",
       "      <td>26750.0</td>\n",
       "      <td>University 29</td>\n",
       "    </tr>\n",
       "    <tr>\n",
       "      <th>8</th>\n",
       "      <td>26250.0</td>\n",
       "      <td>University 88</td>\n",
       "    </tr>\n",
       "    <tr>\n",
       "      <th>9</th>\n",
       "      <td>26250.0</td>\n",
       "      <td>University 421</td>\n",
       "    </tr>\n",
       "  </tbody>\n",
       "</table>\n",
       "</div>"
      ],
      "text/plain": [
       "   Invoice Amount       Customers\n",
       "0         69500.0    University 1\n",
       "1         50000.0   University 99\n",
       "2         50000.0   University 70\n",
       "3         50000.0   University 45\n",
       "4         50000.0  University 138\n",
       "5         50000.0  University 107\n",
       "6         30000.0  University 162\n",
       "7         26750.0   University 29\n",
       "8         26250.0   University 88\n",
       "9         26250.0  University 421"
      ]
     },
     "execution_count": 106,
     "metadata": {},
     "output_type": "execute_result"
    }
   ],
   "source": [
    "# Getting the data from the top 10 highest customers\n",
    "#sfo(subscription, invoice)\n",
    "\n",
    "customers = avg_price_df.groupby([\"Invoice Amount\", \"Customers\"]).max()\n",
    "top_10_highest_customer = customers.sort_values(by='Invoice Amount', ascending=False).head(10)\n",
    "top_10_highest_customer = top_10_highest_customer.reset_index()\n",
    "top_10_highest_customer\n"
   ]
  },
  {
   "cell_type": "code",
   "execution_count": 107,
   "metadata": {},
   "outputs": [
    {
     "data": {},
     "metadata": {},
     "output_type": "display_data"
    },
    {
     "data": {
      "application/vnd.holoviews_exec.v0+json": "",
      "text/html": [
       "<div id='2393'>\n",
       "\n",
       "\n",
       "\n",
       "\n",
       "\n",
       "  <div class=\"bk-root\" id=\"44a712a4-24e6-4bd1-b46c-913dd1065d64\" data-root-id=\"2393\"></div>\n",
       "</div>\n",
       "<script type=\"application/javascript\">(function(root) {\n",
       "  function embed_document(root) {\n",
       "  var docs_json = {\"2a08eddb-76f0-46cd-8ff6-9f463a6612c6\":{\"roots\":{\"references\":[{\"attributes\":{},\"id\":\"2428\",\"type\":\"Selection\"},{\"attributes\":{\"fill_color\":{\"value\":\"#1f77b3\"},\"top\":{\"field\":\"Invoice_Amount\"},\"width\":{\"value\":0.8},\"x\":{\"field\":\"Customers\"}},\"id\":\"2430\",\"type\":\"VBar\"},{\"attributes\":{\"fill_alpha\":{\"value\":0.2},\"fill_color\":{\"value\":\"#1f77b3\"},\"line_alpha\":{\"value\":0.2},\"top\":{\"field\":\"Invoice_Amount\"},\"width\":{\"value\":0.8},\"x\":{\"field\":\"Customers\"}},\"id\":\"2432\",\"type\":\"VBar\"},{\"attributes\":{\"axis_label\":\"Invoice Amount\",\"bounds\":\"auto\",\"formatter\":{\"id\":\"2437\"},\"major_label_orientation\":\"horizontal\",\"ticker\":{\"id\":\"2411\"}},\"id\":\"2410\",\"type\":\"LinearAxis\"},{\"attributes\":{\"align\":null,\"below\":[{\"id\":\"2407\"}],\"center\":[{\"id\":\"2409\"},{\"id\":\"2413\"}],\"left\":[{\"id\":\"2410\"}],\"margin\":null,\"min_border_bottom\":10,\"min_border_left\":10,\"min_border_right\":10,\"min_border_top\":10,\"plot_height\":300,\"plot_width\":700,\"renderers\":[{\"id\":\"2433\"}],\"sizing_mode\":\"fixed\",\"title\":{\"id\":\"2399\"},\"toolbar\":{\"id\":\"2420\"},\"x_range\":{\"id\":\"2395\"},\"x_scale\":{\"id\":\"2403\"},\"y_range\":{\"id\":\"2396\"},\"y_scale\":{\"id\":\"2405\"}},\"id\":\"2398\",\"subtype\":\"Figure\",\"type\":\"Plot\"},{\"attributes\":{\"data_source\":{\"id\":\"2427\"},\"glyph\":{\"id\":\"2430\"},\"hover_glyph\":null,\"muted_glyph\":{\"id\":\"2432\"},\"nonselection_glyph\":{\"id\":\"2431\"},\"selection_glyph\":null,\"view\":{\"id\":\"2434\"}},\"id\":\"2433\",\"type\":\"GlyphRenderer\"},{\"attributes\":{\"callback\":null,\"renderers\":[{\"id\":\"2433\"}],\"tags\":[\"hv_created\"],\"tooltips\":[[\"Customers\",\"@{Customers}\"],[\"Invoice Amount\",\"@{Invoice_Amount}\"]]},\"id\":\"2397\",\"type\":\"HoverTool\"},{\"attributes\":{\"source\":{\"id\":\"2427\"}},\"id\":\"2434\",\"type\":\"CDSView\"},{\"attributes\":{},\"id\":\"2403\",\"type\":\"CategoricalScale\"},{\"attributes\":{\"end\":73825.0,\"reset_end\":73825.0,\"reset_start\":0.0,\"tags\":[[[\"Invoice Amount\",\"Invoice Amount\",null]]]},\"id\":\"2396\",\"type\":\"Range1d\"},{\"attributes\":{\"margin\":[5,5,5,5],\"name\":\"HSpacer06469\",\"sizing_mode\":\"stretch_width\"},\"id\":\"2447\",\"type\":\"Spacer\"},{\"attributes\":{\"text\":\"Top 10 Highest Customers\",\"text_color\":{\"value\":\"black\"},\"text_font_size\":{\"value\":\"12pt\"}},\"id\":\"2399\",\"type\":\"Title\"},{\"attributes\":{\"bottom_units\":\"screen\",\"fill_alpha\":0.5,\"fill_color\":\"lightgrey\",\"left_units\":\"screen\",\"level\":\"overlay\",\"line_alpha\":1.0,\"line_color\":\"black\",\"line_dash\":[4,4],\"line_width\":2,\"render_mode\":\"css\",\"right_units\":\"screen\",\"top_units\":\"screen\"},\"id\":\"2419\",\"type\":\"BoxAnnotation\"},{\"attributes\":{\"axis\":{\"id\":\"2407\"},\"grid_line_color\":null,\"ticker\":null},\"id\":\"2409\",\"type\":\"Grid\"},{\"attributes\":{},\"id\":\"2437\",\"type\":\"BasicTickFormatter\"},{\"attributes\":{},\"id\":\"2445\",\"type\":\"UnionRenderers\"},{\"attributes\":{},\"id\":\"2408\",\"type\":\"CategoricalTicker\"},{\"attributes\":{},\"id\":\"2411\",\"type\":\"BasicTicker\"},{\"attributes\":{},\"id\":\"2405\",\"type\":\"LinearScale\"},{\"attributes\":{\"axis_label\":\"Customers\",\"bounds\":\"auto\",\"formatter\":{\"id\":\"2436\"},\"major_label_orientation\":1.5707963267948966,\"ticker\":{\"id\":\"2408\"}},\"id\":\"2407\",\"type\":\"CategoricalAxis\"},{\"attributes\":{\"axis\":{\"id\":\"2410\"},\"dimension\":1,\"grid_line_color\":null,\"ticker\":null},\"id\":\"2413\",\"type\":\"Grid\"},{\"attributes\":{\"children\":[{\"id\":\"2394\"},{\"id\":\"2398\"},{\"id\":\"2447\"}],\"margin\":[0,0,0,0],\"name\":\"Row06464\",\"tags\":[\"embedded\"]},\"id\":\"2393\",\"type\":\"Row\"},{\"attributes\":{\"factors\":[\"University 1\",\"University 99\",\"University 70\",\"University 45\",\"University 138\",\"University 107\",\"University 162\",\"University 29\",\"University 88\",\"University 421\"],\"tags\":[[[\"Customers\",\"Customers\",null]]]},\"id\":\"2395\",\"type\":\"FactorRange\"},{\"attributes\":{},\"id\":\"2415\",\"type\":\"PanTool\"},{\"attributes\":{\"margin\":[5,5,5,5],\"name\":\"HSpacer06468\",\"sizing_mode\":\"stretch_width\"},\"id\":\"2394\",\"type\":\"Spacer\"},{\"attributes\":{\"data\":{\"Customers\":[\"University 1\",\"University 99\",\"University 70\",\"University 45\",\"University 138\",\"University 107\",\"University 162\",\"University 29\",\"University 88\",\"University 421\"],\"Invoice_Amount\":{\"__ndarray__\":\"AAAAAMD38EAAAAAAAGroQAAAAAAAauhAAAAAAABq6EAAAAAAAGroQAAAAAAAauhAAAAAAABM3UAAAAAAgB/aQAAAAACAotlAAAAAAICi2UA=\",\"dtype\":\"float64\",\"shape\":[10]}},\"selected\":{\"id\":\"2428\"},\"selection_policy\":{\"id\":\"2445\"}},\"id\":\"2427\",\"type\":\"ColumnDataSource\"},{\"attributes\":{},\"id\":\"2414\",\"type\":\"SaveTool\"},{\"attributes\":{},\"id\":\"2416\",\"type\":\"WheelZoomTool\"},{\"attributes\":{},\"id\":\"2436\",\"type\":\"CategoricalTickFormatter\"},{\"attributes\":{\"overlay\":{\"id\":\"2419\"}},\"id\":\"2417\",\"type\":\"BoxZoomTool\"},{\"attributes\":{},\"id\":\"2418\",\"type\":\"ResetTool\"},{\"attributes\":{\"active_drag\":\"auto\",\"active_inspect\":\"auto\",\"active_multi\":null,\"active_scroll\":\"auto\",\"active_tap\":\"auto\",\"tools\":[{\"id\":\"2397\"},{\"id\":\"2414\"},{\"id\":\"2415\"},{\"id\":\"2416\"},{\"id\":\"2417\"},{\"id\":\"2418\"}]},\"id\":\"2420\",\"type\":\"Toolbar\"},{\"attributes\":{\"fill_alpha\":{\"value\":0.1},\"fill_color\":{\"value\":\"#1f77b3\"},\"line_alpha\":{\"value\":0.1},\"top\":{\"field\":\"Invoice_Amount\"},\"width\":{\"value\":0.8},\"x\":{\"field\":\"Customers\"}},\"id\":\"2431\",\"type\":\"VBar\"}],\"root_ids\":[\"2393\"]},\"title\":\"Bokeh Application\",\"version\":\"2.0.2\"}};\n",
       "  var render_items = [{\"docid\":\"2a08eddb-76f0-46cd-8ff6-9f463a6612c6\",\"root_ids\":[\"2393\"],\"roots\":{\"2393\":\"44a712a4-24e6-4bd1-b46c-913dd1065d64\"}}];\n",
       "  root.Bokeh.embed.embed_items_notebook(docs_json, render_items);\n",
       "  }\n",
       "if (root.Bokeh !== undefined) {\n",
       "    embed_document(root);\n",
       "  } else {\n",
       "    var attempts = 0;\n",
       "    var timer = setInterval(function(root) {\n",
       "      if (root.Bokeh !== undefined) {\n",
       "        clearInterval(timer);\n",
       "        embed_document(root);\n",
       "      } else if (document.readyState == \"complete\") {\n",
       "        attempts++;\n",
       "        if (attempts > 100) {\n",
       "          clearInterval(timer);\n",
       "          console.log(\"Bokeh: ERROR: Unable to run BokehJS code because BokehJS library is missing\");\n",
       "        }\n",
       "      }\n",
       "    }, 10, root)\n",
       "  }\n",
       "})(window);</script>"
      ],
      "text/plain": [
       ":Bars   [Customers]   (Invoice Amount)"
      ]
     },
     "execution_count": 107,
     "metadata": {
      "application/vnd.holoviews_exec.v0+json": {
       "id": "2393"
      }
     },
     "output_type": "execute_result"
    }
   ],
   "source": [
    "top_10_highest_customer_plot = top_10_highest_customer.hvplot.bar(\n",
    "    x='Customers',\n",
    "    y='Invoice Amount',\n",
    "    rot=90,\n",
    "title='Top 10 Highest Customers')\n",
    "top_10_highest_customer_plot"
   ]
  },
  {
   "cell_type": "code",
   "execution_count": 105,
   "metadata": {},
   "outputs": [
    {
     "data": {
      "application/vnd.plotly.v1+json": {
       "config": {
        "plotlyServerURL": "https://plot.ly"
       },
       "data": [
        {
         "dimensions": [
          {
           "label": "Invoice Amount",
           "values": [
            69500,
            50000,
            50000,
            50000,
            50000,
            50000,
            30000,
            26750,
            26250,
            26250
           ]
          }
         ],
         "domain": {
          "x": [
           0,
           1
          ],
          "y": [
           0,
           1
          ]
         },
         "line": {
          "color": [
           69500,
           50000,
           50000,
           50000,
           50000,
           50000,
           30000,
           26750,
           26250,
           26250
          ],
          "coloraxis": "coloraxis"
         },
         "name": "",
         "type": "parcoords"
        }
       ],
       "layout": {
        "autosize": true,
        "coloraxis": {
         "colorbar": {
          "title": {
           "text": "Invoice Amount"
          }
         },
         "colorscale": [
          [
           0,
           "#0d0887"
          ],
          [
           0.1111111111111111,
           "#46039f"
          ],
          [
           0.2222222222222222,
           "#7201a8"
          ],
          [
           0.3333333333333333,
           "#9c179e"
          ],
          [
           0.4444444444444444,
           "#bd3786"
          ],
          [
           0.5555555555555556,
           "#d8576b"
          ],
          [
           0.6666666666666666,
           "#ed7953"
          ],
          [
           0.7777777777777778,
           "#fb9f3a"
          ],
          [
           0.8888888888888888,
           "#fdca26"
          ],
          [
           1,
           "#f0f921"
          ]
         ]
        },
        "legend": {
         "tracegroupgap": 0
        },
        "margin": {
         "t": 60
        },
        "template": {
         "data": {
          "bar": [
           {
            "error_x": {
             "color": "#2a3f5f"
            },
            "error_y": {
             "color": "#2a3f5f"
            },
            "marker": {
             "line": {
              "color": "#E5ECF6",
              "width": 0.5
             }
            },
            "type": "bar"
           }
          ],
          "barpolar": [
           {
            "marker": {
             "line": {
              "color": "#E5ECF6",
              "width": 0.5
             }
            },
            "type": "barpolar"
           }
          ],
          "carpet": [
           {
            "aaxis": {
             "endlinecolor": "#2a3f5f",
             "gridcolor": "white",
             "linecolor": "white",
             "minorgridcolor": "white",
             "startlinecolor": "#2a3f5f"
            },
            "baxis": {
             "endlinecolor": "#2a3f5f",
             "gridcolor": "white",
             "linecolor": "white",
             "minorgridcolor": "white",
             "startlinecolor": "#2a3f5f"
            },
            "type": "carpet"
           }
          ],
          "choropleth": [
           {
            "colorbar": {
             "outlinewidth": 0,
             "ticks": ""
            },
            "type": "choropleth"
           }
          ],
          "contour": [
           {
            "colorbar": {
             "outlinewidth": 0,
             "ticks": ""
            },
            "colorscale": [
             [
              0,
              "#0d0887"
             ],
             [
              0.1111111111111111,
              "#46039f"
             ],
             [
              0.2222222222222222,
              "#7201a8"
             ],
             [
              0.3333333333333333,
              "#9c179e"
             ],
             [
              0.4444444444444444,
              "#bd3786"
             ],
             [
              0.5555555555555556,
              "#d8576b"
             ],
             [
              0.6666666666666666,
              "#ed7953"
             ],
             [
              0.7777777777777778,
              "#fb9f3a"
             ],
             [
              0.8888888888888888,
              "#fdca26"
             ],
             [
              1,
              "#f0f921"
             ]
            ],
            "type": "contour"
           }
          ],
          "contourcarpet": [
           {
            "colorbar": {
             "outlinewidth": 0,
             "ticks": ""
            },
            "type": "contourcarpet"
           }
          ],
          "heatmap": [
           {
            "colorbar": {
             "outlinewidth": 0,
             "ticks": ""
            },
            "colorscale": [
             [
              0,
              "#0d0887"
             ],
             [
              0.1111111111111111,
              "#46039f"
             ],
             [
              0.2222222222222222,
              "#7201a8"
             ],
             [
              0.3333333333333333,
              "#9c179e"
             ],
             [
              0.4444444444444444,
              "#bd3786"
             ],
             [
              0.5555555555555556,
              "#d8576b"
             ],
             [
              0.6666666666666666,
              "#ed7953"
             ],
             [
              0.7777777777777778,
              "#fb9f3a"
             ],
             [
              0.8888888888888888,
              "#fdca26"
             ],
             [
              1,
              "#f0f921"
             ]
            ],
            "type": "heatmap"
           }
          ],
          "heatmapgl": [
           {
            "colorbar": {
             "outlinewidth": 0,
             "ticks": ""
            },
            "colorscale": [
             [
              0,
              "#0d0887"
             ],
             [
              0.1111111111111111,
              "#46039f"
             ],
             [
              0.2222222222222222,
              "#7201a8"
             ],
             [
              0.3333333333333333,
              "#9c179e"
             ],
             [
              0.4444444444444444,
              "#bd3786"
             ],
             [
              0.5555555555555556,
              "#d8576b"
             ],
             [
              0.6666666666666666,
              "#ed7953"
             ],
             [
              0.7777777777777778,
              "#fb9f3a"
             ],
             [
              0.8888888888888888,
              "#fdca26"
             ],
             [
              1,
              "#f0f921"
             ]
            ],
            "type": "heatmapgl"
           }
          ],
          "histogram": [
           {
            "marker": {
             "colorbar": {
              "outlinewidth": 0,
              "ticks": ""
             }
            },
            "type": "histogram"
           }
          ],
          "histogram2d": [
           {
            "colorbar": {
             "outlinewidth": 0,
             "ticks": ""
            },
            "colorscale": [
             [
              0,
              "#0d0887"
             ],
             [
              0.1111111111111111,
              "#46039f"
             ],
             [
              0.2222222222222222,
              "#7201a8"
             ],
             [
              0.3333333333333333,
              "#9c179e"
             ],
             [
              0.4444444444444444,
              "#bd3786"
             ],
             [
              0.5555555555555556,
              "#d8576b"
             ],
             [
              0.6666666666666666,
              "#ed7953"
             ],
             [
              0.7777777777777778,
              "#fb9f3a"
             ],
             [
              0.8888888888888888,
              "#fdca26"
             ],
             [
              1,
              "#f0f921"
             ]
            ],
            "type": "histogram2d"
           }
          ],
          "histogram2dcontour": [
           {
            "colorbar": {
             "outlinewidth": 0,
             "ticks": ""
            },
            "colorscale": [
             [
              0,
              "#0d0887"
             ],
             [
              0.1111111111111111,
              "#46039f"
             ],
             [
              0.2222222222222222,
              "#7201a8"
             ],
             [
              0.3333333333333333,
              "#9c179e"
             ],
             [
              0.4444444444444444,
              "#bd3786"
             ],
             [
              0.5555555555555556,
              "#d8576b"
             ],
             [
              0.6666666666666666,
              "#ed7953"
             ],
             [
              0.7777777777777778,
              "#fb9f3a"
             ],
             [
              0.8888888888888888,
              "#fdca26"
             ],
             [
              1,
              "#f0f921"
             ]
            ],
            "type": "histogram2dcontour"
           }
          ],
          "mesh3d": [
           {
            "colorbar": {
             "outlinewidth": 0,
             "ticks": ""
            },
            "type": "mesh3d"
           }
          ],
          "parcoords": [
           {
            "line": {
             "colorbar": {
              "outlinewidth": 0,
              "ticks": ""
             }
            },
            "type": "parcoords"
           }
          ],
          "pie": [
           {
            "automargin": true,
            "type": "pie"
           }
          ],
          "scatter": [
           {
            "marker": {
             "colorbar": {
              "outlinewidth": 0,
              "ticks": ""
             }
            },
            "type": "scatter"
           }
          ],
          "scatter3d": [
           {
            "line": {
             "colorbar": {
              "outlinewidth": 0,
              "ticks": ""
             }
            },
            "marker": {
             "colorbar": {
              "outlinewidth": 0,
              "ticks": ""
             }
            },
            "type": "scatter3d"
           }
          ],
          "scattercarpet": [
           {
            "marker": {
             "colorbar": {
              "outlinewidth": 0,
              "ticks": ""
             }
            },
            "type": "scattercarpet"
           }
          ],
          "scattergeo": [
           {
            "marker": {
             "colorbar": {
              "outlinewidth": 0,
              "ticks": ""
             }
            },
            "type": "scattergeo"
           }
          ],
          "scattergl": [
           {
            "marker": {
             "colorbar": {
              "outlinewidth": 0,
              "ticks": ""
             }
            },
            "type": "scattergl"
           }
          ],
          "scattermapbox": [
           {
            "marker": {
             "colorbar": {
              "outlinewidth": 0,
              "ticks": ""
             }
            },
            "type": "scattermapbox"
           }
          ],
          "scatterpolar": [
           {
            "marker": {
             "colorbar": {
              "outlinewidth": 0,
              "ticks": ""
             }
            },
            "type": "scatterpolar"
           }
          ],
          "scatterpolargl": [
           {
            "marker": {
             "colorbar": {
              "outlinewidth": 0,
              "ticks": ""
             }
            },
            "type": "scatterpolargl"
           }
          ],
          "scatterternary": [
           {
            "marker": {
             "colorbar": {
              "outlinewidth": 0,
              "ticks": ""
             }
            },
            "type": "scatterternary"
           }
          ],
          "surface": [
           {
            "colorbar": {
             "outlinewidth": 0,
             "ticks": ""
            },
            "colorscale": [
             [
              0,
              "#0d0887"
             ],
             [
              0.1111111111111111,
              "#46039f"
             ],
             [
              0.2222222222222222,
              "#7201a8"
             ],
             [
              0.3333333333333333,
              "#9c179e"
             ],
             [
              0.4444444444444444,
              "#bd3786"
             ],
             [
              0.5555555555555556,
              "#d8576b"
             ],
             [
              0.6666666666666666,
              "#ed7953"
             ],
             [
              0.7777777777777778,
              "#fb9f3a"
             ],
             [
              0.8888888888888888,
              "#fdca26"
             ],
             [
              1,
              "#f0f921"
             ]
            ],
            "type": "surface"
           }
          ],
          "table": [
           {
            "cells": {
             "fill": {
              "color": "#EBF0F8"
             },
             "line": {
              "color": "white"
             }
            },
            "header": {
             "fill": {
              "color": "#C8D4E3"
             },
             "line": {
              "color": "white"
             }
            },
            "type": "table"
           }
          ]
         },
         "layout": {
          "annotationdefaults": {
           "arrowcolor": "#2a3f5f",
           "arrowhead": 0,
           "arrowwidth": 1
          },
          "coloraxis": {
           "colorbar": {
            "outlinewidth": 0,
            "ticks": ""
           }
          },
          "colorscale": {
           "diverging": [
            [
             0,
             "#8e0152"
            ],
            [
             0.1,
             "#c51b7d"
            ],
            [
             0.2,
             "#de77ae"
            ],
            [
             0.3,
             "#f1b6da"
            ],
            [
             0.4,
             "#fde0ef"
            ],
            [
             0.5,
             "#f7f7f7"
            ],
            [
             0.6,
             "#e6f5d0"
            ],
            [
             0.7,
             "#b8e186"
            ],
            [
             0.8,
             "#7fbc41"
            ],
            [
             0.9,
             "#4d9221"
            ],
            [
             1,
             "#276419"
            ]
           ],
           "sequential": [
            [
             0,
             "#0d0887"
            ],
            [
             0.1111111111111111,
             "#46039f"
            ],
            [
             0.2222222222222222,
             "#7201a8"
            ],
            [
             0.3333333333333333,
             "#9c179e"
            ],
            [
             0.4444444444444444,
             "#bd3786"
            ],
            [
             0.5555555555555556,
             "#d8576b"
            ],
            [
             0.6666666666666666,
             "#ed7953"
            ],
            [
             0.7777777777777778,
             "#fb9f3a"
            ],
            [
             0.8888888888888888,
             "#fdca26"
            ],
            [
             1,
             "#f0f921"
            ]
           ],
           "sequentialminus": [
            [
             0,
             "#0d0887"
            ],
            [
             0.1111111111111111,
             "#46039f"
            ],
            [
             0.2222222222222222,
             "#7201a8"
            ],
            [
             0.3333333333333333,
             "#9c179e"
            ],
            [
             0.4444444444444444,
             "#bd3786"
            ],
            [
             0.5555555555555556,
             "#d8576b"
            ],
            [
             0.6666666666666666,
             "#ed7953"
            ],
            [
             0.7777777777777778,
             "#fb9f3a"
            ],
            [
             0.8888888888888888,
             "#fdca26"
            ],
            [
             1,
             "#f0f921"
            ]
           ]
          },
          "colorway": [
           "#636efa",
           "#EF553B",
           "#00cc96",
           "#ab63fa",
           "#FFA15A",
           "#19d3f3",
           "#FF6692",
           "#B6E880",
           "#FF97FF",
           "#FECB52"
          ],
          "font": {
           "color": "#2a3f5f"
          },
          "geo": {
           "bgcolor": "white",
           "lakecolor": "white",
           "landcolor": "#E5ECF6",
           "showlakes": true,
           "showland": true,
           "subunitcolor": "white"
          },
          "hoverlabel": {
           "align": "left"
          },
          "hovermode": "closest",
          "mapbox": {
           "style": "light"
          },
          "paper_bgcolor": "white",
          "plot_bgcolor": "#E5ECF6",
          "polar": {
           "angularaxis": {
            "gridcolor": "white",
            "linecolor": "white",
            "ticks": ""
           },
           "bgcolor": "#E5ECF6",
           "radialaxis": {
            "gridcolor": "white",
            "linecolor": "white",
            "ticks": ""
           }
          },
          "scene": {
           "xaxis": {
            "backgroundcolor": "#E5ECF6",
            "gridcolor": "white",
            "gridwidth": 2,
            "linecolor": "white",
            "showbackground": true,
            "ticks": "",
            "zerolinecolor": "white"
           },
           "yaxis": {
            "backgroundcolor": "#E5ECF6",
            "gridcolor": "white",
            "gridwidth": 2,
            "linecolor": "white",
            "showbackground": true,
            "ticks": "",
            "zerolinecolor": "white"
           },
           "zaxis": {
            "backgroundcolor": "#E5ECF6",
            "gridcolor": "white",
            "gridwidth": 2,
            "linecolor": "white",
            "showbackground": true,
            "ticks": "",
            "zerolinecolor": "white"
           }
          },
          "shapedefaults": {
           "line": {
            "color": "#2a3f5f"
           }
          },
          "ternary": {
           "aaxis": {
            "gridcolor": "white",
            "linecolor": "white",
            "ticks": ""
           },
           "baxis": {
            "gridcolor": "white",
            "linecolor": "white",
            "ticks": ""
           },
           "bgcolor": "#E5ECF6",
           "caxis": {
            "gridcolor": "white",
            "linecolor": "white",
            "ticks": ""
           }
          },
          "title": {
           "x": 0.05
          },
          "xaxis": {
           "automargin": true,
           "gridcolor": "white",
           "linecolor": "white",
           "ticks": "",
           "title": {
            "standoff": 15
           },
           "zerolinecolor": "white",
           "zerolinewidth": 2
          },
          "yaxis": {
           "automargin": true,
           "gridcolor": "white",
           "linecolor": "white",
           "ticks": "",
           "title": {
            "standoff": 15
           },
           "zerolinecolor": "white",
           "zerolinewidth": 2
          }
         }
        }
       }
      },
      "image/png": "[encoded data removed]",
      "text/html": [
       "<div>                            <div id=\"8de54a25-aaae-4d46-812b-513e3038f660\" class=\"plotly-graph-div\" style=\"height:525px; width:100%;\"></div>            <script type=\"text/javascript\">                require([\"plotly\"], function(Plotly) {                    window.PLOTLYENV=window.PLOTLYENV || {};                                    if (document.getElementById(\"8de54a25-aaae-4d46-812b-513e3038f660\")) {                    Plotly.newPlot(                        \"8de54a25-aaae-4d46-812b-513e3038f660\",                        [{\"dimensions\": [{\"label\": \"Invoice Amount\", \"values\": [69500.0, 50000.0, 50000.0, 50000.0, 50000.0, 50000.0, 30000.0, 26750.0, 26250.0, 26250.0]}], \"domain\": {\"x\": [0.0, 1.0], \"y\": [0.0, 1.0]}, \"line\": {\"color\": [69500.0, 50000.0, 50000.0, 50000.0, 50000.0, 50000.0, 30000.0, 26750.0, 26250.0, 26250.0], \"coloraxis\": \"coloraxis\"}, \"name\": \"\", \"type\": \"parcoords\"}],                        {\"coloraxis\": {\"colorbar\": {\"title\": {\"text\": \"Invoice Amount\"}}, \"colorscale\": [[0.0, \"#0d0887\"], [0.1111111111111111, \"#46039f\"], [0.2222222222222222, \"#7201a8\"], [0.3333333333333333, \"#9c179e\"], [0.4444444444444444, \"#bd3786\"], [0.5555555555555556, \"#d8576b\"], [0.6666666666666666, \"#ed7953\"], [0.7777777777777778, \"#fb9f3a\"], [0.8888888888888888, \"#fdca26\"], [1.0, \"#f0f921\"]]}, \"legend\": {\"tracegroupgap\": 0}, \"margin\": {\"t\": 60}, \"template\": {\"data\": {\"bar\": [{\"error_x\": {\"color\": \"#2a3f5f\"}, \"error_y\": {\"color\": \"#2a3f5f\"}, \"marker\": {\"line\": {\"color\": \"#E5ECF6\", \"width\": 0.5}}, \"type\": \"bar\"}], \"barpolar\": [{\"marker\": {\"line\": {\"color\": \"#E5ECF6\", \"width\": 0.5}}, \"type\": \"barpolar\"}], \"carpet\": [{\"aaxis\": {\"endlinecolor\": \"#2a3f5f\", \"gridcolor\": \"white\", \"linecolor\": \"white\", \"minorgridcolor\": \"white\", \"startlinecolor\": \"#2a3f5f\"}, \"baxis\": {\"endlinecolor\": \"#2a3f5f\", \"gridcolor\": \"white\", \"linecolor\": \"white\", \"minorgridcolor\": \"white\", \"startlinecolor\": \"#2a3f5f\"}, \"type\": \"carpet\"}], \"choropleth\": [{\"colorbar\": {\"outlinewidth\": 0, \"ticks\": \"\"}, \"type\": \"choropleth\"}], \"contour\": [{\"colorbar\": {\"outlinewidth\": 0, \"ticks\": \"\"}, \"colorscale\": [[0.0, \"#0d0887\"], [0.1111111111111111, \"#46039f\"], [0.2222222222222222, \"#7201a8\"], [0.3333333333333333, \"#9c179e\"], [0.4444444444444444, \"#bd3786\"], [0.5555555555555556, \"#d8576b\"], [0.6666666666666666, \"#ed7953\"], [0.7777777777777778, \"#fb9f3a\"], [0.8888888888888888, \"#fdca26\"], [1.0, \"#f0f921\"]], \"type\": \"contour\"}], \"contourcarpet\": [{\"colorbar\": {\"outlinewidth\": 0, \"ticks\": \"\"}, \"type\": \"contourcarpet\"}], \"heatmap\": [{\"colorbar\": {\"outlinewidth\": 0, \"ticks\": \"\"}, \"colorscale\": [[0.0, \"#0d0887\"], [0.1111111111111111, \"#46039f\"], [0.2222222222222222, \"#7201a8\"], [0.3333333333333333, \"#9c179e\"], [0.4444444444444444, \"#bd3786\"], [0.5555555555555556, \"#d8576b\"], [0.6666666666666666, \"#ed7953\"], [0.7777777777777778, \"#fb9f3a\"], [0.8888888888888888, \"#fdca26\"], [1.0, \"#f0f921\"]], \"type\": \"heatmap\"}], \"heatmapgl\": [{\"colorbar\": {\"outlinewidth\": 0, \"ticks\": \"\"}, \"colorscale\": [[0.0, \"#0d0887\"], [0.1111111111111111, \"#46039f\"], [0.2222222222222222, \"#7201a8\"], [0.3333333333333333, \"#9c179e\"], [0.4444444444444444, \"#bd3786\"], [0.5555555555555556, \"#d8576b\"], [0.6666666666666666, \"#ed7953\"], [0.7777777777777778, \"#fb9f3a\"], [0.8888888888888888, \"#fdca26\"], [1.0, \"#f0f921\"]], \"type\": \"heatmapgl\"}], \"histogram\": [{\"marker\": {\"colorbar\": {\"outlinewidth\": 0, \"ticks\": \"\"}}, \"type\": \"histogram\"}], \"histogram2d\": [{\"colorbar\": {\"outlinewidth\": 0, \"ticks\": \"\"}, \"colorscale\": [[0.0, \"#0d0887\"], [0.1111111111111111, \"#46039f\"], [0.2222222222222222, \"#7201a8\"], [0.3333333333333333, \"#9c179e\"], [0.4444444444444444, \"#bd3786\"], [0.5555555555555556, \"#d8576b\"], [0.6666666666666666, \"#ed7953\"], [0.7777777777777778, \"#fb9f3a\"], [0.8888888888888888, \"#fdca26\"], [1.0, \"#f0f921\"]], \"type\": \"histogram2d\"}], \"histogram2dcontour\": [{\"colorbar\": {\"outlinewidth\": 0, \"ticks\": \"\"}, \"colorscale\": [[0.0, \"#0d0887\"], [0.1111111111111111, \"#46039f\"], [0.2222222222222222, \"#7201a8\"], [0.3333333333333333, \"#9c179e\"], [0.4444444444444444, \"#bd3786\"], [0.5555555555555556, \"#d8576b\"], [0.6666666666666666, \"#ed7953\"], [0.7777777777777778, \"#fb9f3a\"], [0.8888888888888888, \"#fdca26\"], [1.0, \"#f0f921\"]], \"type\": \"histogram2dcontour\"}], \"mesh3d\": [{\"colorbar\": {\"outlinewidth\": 0, \"ticks\": \"\"}, \"type\": \"mesh3d\"}], \"parcoords\": [{\"line\": {\"colorbar\": {\"outlinewidth\": 0, \"ticks\": \"\"}}, \"type\": \"parcoords\"}], \"pie\": [{\"automargin\": true, \"type\": \"pie\"}], \"scatter\": [{\"marker\": {\"colorbar\": {\"outlinewidth\": 0, \"ticks\": \"\"}}, \"type\": \"scatter\"}], \"scatter3d\": [{\"line\": {\"colorbar\": {\"outlinewidth\": 0, \"ticks\": \"\"}}, \"marker\": {\"colorbar\": {\"outlinewidth\": 0, \"ticks\": \"\"}}, \"type\": \"scatter3d\"}], \"scattercarpet\": [{\"marker\": {\"colorbar\": {\"outlinewidth\": 0, \"ticks\": \"\"}}, \"type\": \"scattercarpet\"}], \"scattergeo\": [{\"marker\": {\"colorbar\": {\"outlinewidth\": 0, \"ticks\": \"\"}}, \"type\": \"scattergeo\"}], \"scattergl\": [{\"marker\": {\"colorbar\": {\"outlinewidth\": 0, \"ticks\": \"\"}}, \"type\": \"scattergl\"}], \"scattermapbox\": [{\"marker\": {\"colorbar\": {\"outlinewidth\": 0, \"ticks\": \"\"}}, \"type\": \"scattermapbox\"}], \"scatterpolar\": [{\"marker\": {\"colorbar\": {\"outlinewidth\": 0, \"ticks\": \"\"}}, \"type\": \"scatterpolar\"}], \"scatterpolargl\": [{\"marker\": {\"colorbar\": {\"outlinewidth\": 0, \"ticks\": \"\"}}, \"type\": \"scatterpolargl\"}], \"scatterternary\": [{\"marker\": {\"colorbar\": {\"outlinewidth\": 0, \"ticks\": \"\"}}, \"type\": \"scatterternary\"}], \"surface\": [{\"colorbar\": {\"outlinewidth\": 0, \"ticks\": \"\"}, \"colorscale\": [[0.0, \"#0d0887\"], [0.1111111111111111, \"#46039f\"], [0.2222222222222222, \"#7201a8\"], [0.3333333333333333, \"#9c179e\"], [0.4444444444444444, \"#bd3786\"], [0.5555555555555556, \"#d8576b\"], [0.6666666666666666, \"#ed7953\"], [0.7777777777777778, \"#fb9f3a\"], [0.8888888888888888, \"#fdca26\"], [1.0, \"#f0f921\"]], \"type\": \"surface\"}], \"table\": [{\"cells\": {\"fill\": {\"color\": \"#EBF0F8\"}, \"line\": {\"color\": \"white\"}}, \"header\": {\"fill\": {\"color\": \"#C8D4E3\"}, \"line\": {\"color\": \"white\"}}, \"type\": \"table\"}]}, \"layout\": {\"annotationdefaults\": {\"arrowcolor\": \"#2a3f5f\", \"arrowhead\": 0, \"arrowwidth\": 1}, \"coloraxis\": {\"colorbar\": {\"outlinewidth\": 0, \"ticks\": \"\"}}, \"colorscale\": {\"diverging\": [[0, \"#8e0152\"], [0.1, \"#c51b7d\"], [0.2, \"#de77ae\"], [0.3, \"#f1b6da\"], [0.4, \"#fde0ef\"], [0.5, \"#f7f7f7\"], [0.6, \"#e6f5d0\"], [0.7, \"#b8e186\"], [0.8, \"#7fbc41\"], [0.9, \"#4d9221\"], [1, \"#276419\"]], \"sequential\": [[0.0, \"#0d0887\"], [0.1111111111111111, \"#46039f\"], [0.2222222222222222, \"#7201a8\"], [0.3333333333333333, \"#9c179e\"], [0.4444444444444444, \"#bd3786\"], [0.5555555555555556, \"#d8576b\"], [0.6666666666666666, \"#ed7953\"], [0.7777777777777778, \"#fb9f3a\"], [0.8888888888888888, \"#fdca26\"], [1.0, \"#f0f921\"]], \"sequentialminus\": [[0.0, \"#0d0887\"], [0.1111111111111111, \"#46039f\"], [0.2222222222222222, \"#7201a8\"], [0.3333333333333333, \"#9c179e\"], [0.4444444444444444, \"#bd3786\"], [0.5555555555555556, \"#d8576b\"], [0.6666666666666666, \"#ed7953\"], [0.7777777777777778, \"#fb9f3a\"], [0.8888888888888888, \"#fdca26\"], [1.0, \"#f0f921\"]]}, \"colorway\": [\"#636efa\", \"#EF553B\", \"#00cc96\", \"#ab63fa\", \"#FFA15A\", \"#19d3f3\", \"#FF6692\", \"#B6E880\", \"#FF97FF\", \"#FECB52\"], \"font\": {\"color\": \"#2a3f5f\"}, \"geo\": {\"bgcolor\": \"white\", \"lakecolor\": \"white\", \"landcolor\": \"#E5ECF6\", \"showlakes\": true, \"showland\": true, \"subunitcolor\": \"white\"}, \"hoverlabel\": {\"align\": \"left\"}, \"hovermode\": \"closest\", \"mapbox\": {\"style\": \"light\"}, \"paper_bgcolor\": \"white\", \"plot_bgcolor\": \"#E5ECF6\", \"polar\": {\"angularaxis\": {\"gridcolor\": \"white\", \"linecolor\": \"white\", \"ticks\": \"\"}, \"bgcolor\": \"#E5ECF6\", \"radialaxis\": {\"gridcolor\": \"white\", \"linecolor\": \"white\", \"ticks\": \"\"}}, \"scene\": {\"xaxis\": {\"backgroundcolor\": \"#E5ECF6\", \"gridcolor\": \"white\", \"gridwidth\": 2, \"linecolor\": \"white\", \"showbackground\": true, \"ticks\": \"\", \"zerolinecolor\": \"white\"}, \"yaxis\": {\"backgroundcolor\": \"#E5ECF6\", \"gridcolor\": \"white\", \"gridwidth\": 2, \"linecolor\": \"white\", \"showbackground\": true, \"ticks\": \"\", \"zerolinecolor\": \"white\"}, \"zaxis\": {\"backgroundcolor\": \"#E5ECF6\", \"gridcolor\": \"white\", \"gridwidth\": 2, \"linecolor\": \"white\", \"showbackground\": true, \"ticks\": \"\", \"zerolinecolor\": \"white\"}}, \"shapedefaults\": {\"line\": {\"color\": \"#2a3f5f\"}}, \"ternary\": {\"aaxis\": {\"gridcolor\": \"white\", \"linecolor\": \"white\", \"ticks\": \"\"}, \"baxis\": {\"gridcolor\": \"white\", \"linecolor\": \"white\", \"ticks\": \"\"}, \"bgcolor\": \"#E5ECF6\", \"caxis\": {\"gridcolor\": \"white\", \"linecolor\": \"white\", \"ticks\": \"\"}}, \"title\": {\"x\": 0.05}, \"xaxis\": {\"automargin\": true, \"gridcolor\": \"white\", \"linecolor\": \"white\", \"ticks\": \"\", \"title\": {\"standoff\": 15}, \"zerolinecolor\": \"white\", \"zerolinewidth\": 2}, \"yaxis\": {\"automargin\": true, \"gridcolor\": \"white\", \"linecolor\": \"white\", \"ticks\": \"\", \"title\": {\"standoff\": 15}, \"zerolinecolor\": \"white\", \"zerolinewidth\": 2}}}},                        {\"responsive\": true}                    ).then(function(){\n",
       "                            \n",
       "var gd = document.getElementById('8de54a25-aaae-4d46-812b-513e3038f660');\n",
       "var x = new MutationObserver(function (mutations, observer) {{\n",
       "        var display = window.getComputedStyle(gd).display;\n",
       "        if (!display || display === 'none') {{\n",
       "            console.log([gd, 'removed!']);\n",
       "            Plotly.purge(gd);\n",
       "            observer.disconnect();\n",
       "        }}\n",
       "}});\n",
       "\n",
       "// Listen for the removal of the full notebook cells\n",
       "var notebookContainer = gd.closest('#notebook-container');\n",
       "if (notebookContainer) {{\n",
       "    x.observe(notebookContainer, {childList: true});\n",
       "}}\n",
       "\n",
       "// Listen for the clearing of the current output cell\n",
       "var outputEl = gd.closest('.output');\n",
       "if (outputEl) {{\n",
       "    x.observe(outputEl, {childList: true});\n",
       "}}\n",
       "\n",
       "                        })                };                });            </script>        </div>"
      ]
     },
     "metadata": {},
     "output_type": "display_data"
    }
   ],
   "source": [
    "# Parallel Coordinates Plot\n",
    "px.parallel_coordinates(top_10_highest_customer, color='Invoice Amount')"
   ]
  },
  {
   "cell_type": "code",
   "execution_count": null,
   "metadata": {},
   "outputs": [],
   "source": [
    "# Parallel Categories Plot\n",
    "#px.parallel_categories(\n",
    "#    top_10_highest_customer,\n",
    "#    dimensions=[\"customers\", \"invoice_amount\", \"subscription\", \"invoice\"],\n",
    " #  color=\"customers\",\n",
    "  #  color_continuous_scale=px.colors.sequential.Inferno\n",
    "#)\n"
   ]
  },
  {
   "cell_type": "code",
   "execution_count": 108,
   "metadata": {},
   "outputs": [
    {
     "data": {},
     "metadata": {},
     "output_type": "display_data"
    },
    {
     "data": {},
     "metadata": {},
     "output_type": "display_data"
    },
    {
     "data": {
      "application/vnd.holoviews_exec.v0+json": "",
      "text/html": [
       "<div id='2489'>\n",
       "\n",
       "\n",
       "\n",
       "\n",
       "\n",
       "  <div class=\"bk-root\" id=\"762c50a0-ede9-40fe-8f11-00da51196265\" data-root-id=\"2489\"></div>\n",
       "</div>\n",
       "<script type=\"application/javascript\">(function(root) {\n",
       "  function embed_document(root) {\n",
       "  var docs_json = {\"587169df-7b8e-4143-8bc6-c81bad1e89fb\":{\"roots\":{\"references\":[{\"attributes\":{\"margin\":[5,10,5,10],\"options\":[\"confirmed\",\"bedridden\",\"recovered\"],\"title\":\"chosen_type\",\"value\":\"confirmed\"},\"id\":\"2491\",\"type\":\"Select\"},{\"attributes\":{},\"id\":\"2513\",\"type\":\"PanTool\"},{\"attributes\":{\"axis_label\":\"status2\",\"bounds\":\"auto\",\"formatter\":{\"id\":\"2540\"},\"major_label_orientation\":\"horizontal\",\"ticker\":{\"id\":\"2510\"}},\"id\":\"2509\",\"type\":\"CategoricalAxis\"},{\"attributes\":{},\"id\":\"2510\",\"type\":\"CategoricalTicker\"},{\"attributes\":{\"children\":[{\"id\":\"2496\"}],\"margin\":[0,0,0,0],\"name\":\"Row07900\"},\"id\":\"2492\",\"type\":\"Row\"},{\"attributes\":{\"months\":[0,6]},\"id\":\"2557\",\"type\":\"MonthsTicker\"},{\"attributes\":{\"axis\":{\"id\":\"2505\"},\"grid_line_color\":null,\"ticker\":null},\"id\":\"2508\",\"type\":\"Grid\"},{\"attributes\":{\"months\":[0,2,4,6,8,10]},\"id\":\"2555\",\"type\":\"MonthsTicker\"},{\"attributes\":{\"num_minor_ticks\":5,\"tickers\":[{\"id\":\"2547\"},{\"id\":\"2548\"},{\"id\":\"2549\"},{\"id\":\"2550\"},{\"id\":\"2551\"},{\"id\":\"2552\"},{\"id\":\"2553\"},{\"id\":\"2554\"},{\"id\":\"2555\"},{\"id\":\"2556\"},{\"id\":\"2557\"},{\"id\":\"2558\"}]},\"id\":\"2506\",\"type\":\"DatetimeTicker\"},{\"attributes\":{\"children\":[{\"id\":\"2491\"}],\"margin\":[0,0,0,0],\"name\":\"Column07901\"},\"id\":\"2490\",\"type\":\"Column\"},{\"attributes\":{\"data_source\":{\"id\":\"2526\"},\"glyph\":{\"id\":\"2529\"},\"hover_glyph\":null,\"muted_glyph\":null,\"nonselection_glyph\":{\"id\":\"2530\"},\"selection_glyph\":{\"id\":\"2531\"},\"view\":{\"id\":\"2533\"}},\"id\":\"2532\",\"type\":\"GlyphRenderer\"},{\"attributes\":{\"fill_alpha\":{\"value\":0.1},\"fill_color\":{\"field\":\"zvalues\",\"transform\":{\"id\":\"2525\"}},\"height\":{\"units\":\"data\",\"value\":1},\"line_alpha\":{\"value\":0},\"line_color\":{\"value\":\"#1f77b4\"},\"width\":{\"field\":\"width\",\"units\":\"data\"},\"x\":{\"field\":\"date\"},\"y\":{\"field\":\"status2\"}},\"id\":\"2530\",\"type\":\"Rect\"},{\"attributes\":{\"base\":24,\"mantissas\":[1,2,4,6,8,12],\"max_interval\":43200000.0,\"min_interval\":3600000.0,\"num_minor_ticks\":0},\"id\":\"2549\",\"type\":\"AdaptiveTicker\"},{\"attributes\":{},\"id\":\"2540\",\"type\":\"CategoricalTickFormatter\"},{\"attributes\":{\"data\":{\"date\":{\"__ndarray__\":\"AABAa4L3dkIAAEBrgvd2QgAAQGuC93ZCAACAnHn4dkIAAICcefh2QgAAgJx5+HZCAAAAaB75dkIAAABoHvl2QgAAAGge+XZCAADAzXD5dkIAAMDNcPl2QgAAwM1w+XZCAACAM8P5dkIAAIAzw/l2QgAAgDPD+XZCAAAA/2f6dkIAAAD/Z/p2QgAAAP9n+nZCAACAygz7dkIAAIDKDPt2QgAAgMoM+3ZCAAAAlrH7dkIAAACWsft2QgAAAJax+3ZCAACAYVb8dkIAAIBhVvx2QgAAgGFW/HZCAABAx6j8dkIAAEDHqPx2QgAAQMeo/HZCAABAXvL9dkIAAEBe8v12QgAAQF7y/XZCAADAwOD/dkIAAMDA4P92QgAAwMDg/3ZCAACAJjMAd0IAAIAmMwB3QgAAgCYzAHdCAABAjIUAd0IAAECMhQB3QgAAQIyFAHdCAAAA8tcAd0IAAADy1wB3QgAAAPLXAHdCAABAI88Bd0IAAEAjzwF3QgAAQCPPAXdCAAAAiSECd0IAAACJIQJ3QgAAAIkhAndCAABAuhgDd0IAAEC6GAN3QgAAQLoYA3dCAAAAt7QEd0IAAAC3tAR3QgAAALe0BHdCAAAATv4Fd0IAAABO/gV3QgAAAE7+BXdCAADAs1AGd0IAAMCzUAZ3QgAAwLNQBndCAABAf/UGd0IAAEB/9QZ3QgAAQH/1BndCAADA4eMId0IAAMDh4wh3QgAAwOHjCHdCAACAdckLd0IAAIB1yQt3QgAAgHXJC3dCAAAAQW4Md0IAAABBbgx3QgAAAEFuDHdCAAAA2LcNd0IAAADYtw13QgAAANi3DXdCAABAoPgPd0IAAECg+A93QgAAQKD4D3dCAADAAucRd0IAAMAC5xF3QgAAwALnEXdCAACAaDkSd0IAAIBoORJ3QgAAgGg5EndCAADAmTATd0IAAMCZMBN3QgAAwJkwE3dCAADAMHoUd0IAAMAwehR3QgAAwDB6FHdCAAAAYnEVd0IAAABicRV3QgAAAGJxFXdCAADAx8MVd0IAAMDHwxV3QgAAwMfDFXdCAADA9VYYd0IAAMD1Vhh3QgAAwPVWGHdCAADAjKAZd0IAAMCMoBl3QgAAwIygGXdCAAAAvpcad0IAAAC+lxp3QgAAAL6XGndCAACAiTwbd0IAAICJPBt3QgAAgIk8G3dCAABA744bd0IAAEDvjht3QgAAQO+OG3dCAAAAVeEbd0IAAABV4Rt3QgAAAFXhG3dCAADAujMcd0IAAMC6Mxx3QgAAwLozHHdCAACAIIYcd0IAAIAghhx3QgAAgCCGHHdCAABAhtgcd0IAAECG2Bx3QgAAQIbYHHdCAAAA7Codd0IAAADsKh13QgAAAOwqHXdCAADAUX0dd0IAAMBRfR13QgAAwFF9HXdCAACAThkfd0IAAIBOGR93QgAAgE4ZH3dCAAAAGr4fd0IAAAAavh93QgAAABq+H3dCAACA5WIgd0IAAIDlYiB3QgAAgOViIHdCAADAFlohd0IAAMAWWiF3QgAAwBZaIXdCAADARO0jd0IAAMBE7SN3QgAAwETtI3dCAACAqj8kd0IAAICqPyR3QgAAgKo/JHdCAABAEJIkd0IAAEAQkiR3QgAAQBCSJHdCAACAQYkld0IAAIBBiSV3QgAAgEGJJXdCAABAPiUnd0IAAEA+JSd3QgAAQD4lJ3dCAABA1W4od0IAAEDVbih3QgAAQNVuKHdCAABAbLgpd0IAAEBsuCl3QgAAQGy4KXdCAACANPkrd0IAAIA0+St3QgAAgDT5K3dCAABAmkssd0IAAECaSyx3QgAAQJpLLHdCAADA/Dkud0IAAMD8OS53QgAAwPw5LndCAACAYowud0IAAIBijC53QgAAgGKMLndCAADAKs0wd0IAAMAqzTB3QgAAwCrNMHdCAACAkB8xd0IAAICQHzF3QgAAgJAfMXdCAACAJ2kyd0IAAIAnaTJ3QgAAgCdpMndCAABAjbsyd0IAAECNuzJ3QgAAQI27MndCAAAA8w0zd0IAAADzDTN3QgAAAPMNM3dCAACAvrIzd0IAAIC+sjN3QgAAgL6yM3dCAAAAIaE1d0IAAAAhoTV3QgAAACGhNXdCAADAhvM1d0IAAMCG8zV3QgAAwIbzNXdCAAAAuOo2d0IAAAC46jZ3QgAAALjqNndCAADAHT03d0IAAMAdPTd3QgAAwB09N3dCAABA6eE3d0IAAEDp4Td3QgAAQOnhN3dCAADAtIY4d0IAAMC0hjh3QgAAwLSGOHdCAACAGtk4d0IAAIAa2Th3QgAAgBrZOHdCAABAgCs5d0IAAECAKzl3QgAAQIArOXdCAACAsSI6d0IAAICxIjp3QgAAgLEiOndCAAAAfcc6d0IAAAB9xzp3QgAAAH3HOndCAABArr47d0IAAECuvjt3QgAAQK6+O3dCAADAEK09d0IAAMAQrT13QgAAwBCtPXdCAADAPkBAd0IAAMA+QEB3QgAAwD5AQHdCAAAAcDdBd0IAAABwN0F3QgAAAHA3QXdCAADA1YlBd0IAAMDViUF3QgAAwNWJQXdCAABAoS5Cd0IAAEChLkJ3QgAAQKEuQndCAAAAB4FCd0IAAAAHgUJ3QgAAAAeBQndCAADAbNNCd0IAAMBs00J3QgAAwGzTQndCAAAAnspDd0IAAACeykN3QgAAAJ7KQ3dCAABAz8FEd0IAAEDPwUR3QgAAQM/BRHdCAACAALlFd0IAAIAAuUV3QgAAgAC5RXdCAADAMbBGd0IAAMAxsEZ3QgAAwDGwRndCAABA/VRHd0IAAED9VEd3QgAAQP1UR3dCAAAAY6dHd0IAAABjp0d3QgAAAGOnR3dCAABAlJ5Id0IAAECUnkh3QgAAQJSeSHdCAACAxZVJd0IAAIDFlUl3QgAAgMWVSXdCAABAK+hJd0IAAEAr6El3QgAAQCvoSXdCAAAAkTpKd0IAAACROkp3QgAAAJE6SndCAADA9oxKd0IAAMD2jEp3QgAAwPaMSndCAAAAKIRLd0IAAAAohEt3QgAAACiES3dCAABAWXtMd0IAAEBZe0x3QgAAQFl7THdCAADAJCBNd0IAAMAkIE13QgAAwCQgTXdCAACAinJNd0IAAICKck13QgAAgIpyTXdCAADAu2lOd0IAAMC7aU53QgAAwLtpTndCAADAUrNPd0IAAMBSs093QgAAwFKzT3dCAAAAhKpQd0IAAACEqlB3QgAAAISqUHdCAABAen5Vd0IAAEB6flV3QgAAQHp+VXdCAAAA4NBVd0IAAADg0FV3QgAAAODQVXdCAACAq3VWd0IAAICrdVZ3QgAAgKt1VndCAAAADmRYd0IAAAAOZFh3QgAAAA5kWHdCAADAc7ZYd0IAAMBztlh3QgAAwHO2WHdCAACAcFJad0IAAIBwUlp3QgAAgHBSWndCAABA1qRad0IAAEDWpFp3QgAAQNakWndCAADAoUlbd0IAAMChSVt3QgAAwKFJW3dCAADAOJNcd0IAAMA4k1x3QgAAwDiTXHdCAAAAaopdd0IAAABqil13QgAAAGqKXXdCAADAz9xdd0IAAMDP3F13QgAAwM/cXXdCAACAzHhfd0IAAIDMeF93QgAAgMx4X3dCAABAMstfd0IAAEAyy193QgAAQDLLX3dCAACAY8Jgd0IAAIBjwmB3QgAAgGPCYHdCAABAyRRhd0IAAEDJFGF3QgAAQMkUYXdCAAAAxrBid0IAAADGsGJ3QgAAAMawYndCAACAkVVjd0IAAICRVWN3QgAAgJFVY3dCAAAAXfpjd0IAAABd+mN3QgAAAF36Y3dCAABAJTtmd0IAAEAlO2Z3QgAAQCU7ZndCAAAAi41md0IAAACLjWZ3QgAAAIuNZndCAADA8N9md0IAAMDw32Z3QgAAwPDfZndCAACAVjJnd0IAAIBWMmd3QgAAgFYyZ3dCAADAhylod0IAAMCHKWh3QgAAwIcpaHdCAADAtbxqd0IAAMC1vGp3QgAAwLW8andCAACAGw9rd0IAAIAbD2t3QgAAgBsPa3dC\",\"dtype\":\"float64\",\"shape\":[378]},\"status2\":[\"A\",\"B\",\"C\",\"A\",\"B\",\"C\",\"A\",\"B\",\"C\",\"A\",\"B\",\"C\",\"A\",\"B\",\"C\",\"A\",\"B\",\"C\",\"A\",\"B\",\"C\",\"A\",\"B\",\"C\",\"A\",\"B\",\"C\",\"A\",\"B\",\"C\",\"A\",\"B\",\"C\",\"A\",\"B\",\"C\",\"A\",\"B\",\"C\",\"A\",\"B\",\"C\",\"A\",\"B\",\"C\",\"A\",\"B\",\"C\",\"A\",\"B\",\"C\",\"A\",\"B\",\"C\",\"A\",\"B\",\"C\",\"A\",\"B\",\"C\",\"A\",\"B\",\"C\",\"A\",\"B\",\"C\",\"A\",\"B\",\"C\",\"A\",\"B\",\"C\",\"A\",\"B\",\"C\",\"A\",\"B\",\"C\",\"A\",\"B\",\"C\",\"A\",\"B\",\"C\",\"A\",\"B\",\"C\",\"A\",\"B\",\"C\",\"A\",\"B\",\"C\",\"A\",\"B\",\"C\",\"A\",\"B\",\"C\",\"A\",\"B\",\"C\",\"A\",\"B\",\"C\",\"A\",\"B\",\"C\",\"A\",\"B\",\"C\",\"A\",\"B\",\"C\",\"A\",\"B\",\"C\",\"A\",\"B\",\"C\",\"A\",\"B\",\"C\",\"A\",\"B\",\"C\",\"A\",\"B\",\"C\",\"A\",\"B\",\"C\",\"A\",\"B\",\"C\",\"A\",\"B\",\"C\",\"A\",\"B\",\"C\",\"A\",\"B\",\"C\",\"A\",\"B\",\"C\",\"A\",\"B\",\"C\",\"A\",\"B\",\"C\",\"A\",\"B\",\"C\",\"A\",\"B\",\"C\",\"A\",\"B\",\"C\",\"A\",\"B\",\"C\",\"A\",\"B\",\"C\",\"A\",\"B\",\"C\",\"A\",\"B\",\"C\",\"A\",\"B\",\"C\",\"A\",\"B\",\"C\",\"A\",\"B\",\"C\",\"A\",\"B\",\"C\",\"A\",\"B\",\"C\",\"A\",\"B\",\"C\",\"A\",\"B\",\"C\",\"A\",\"B\",\"C\",\"A\",\"B\",\"C\",\"A\",\"B\",\"C\",\"A\",\"B\",\"C\",\"A\",\"B\",\"C\",\"A\",\"B\",\"C\",\"A\",\"B\",\"C\",\"A\",\"B\",\"C\",\"A\",\"B\",\"C\",\"A\",\"B\",\"C\",\"A\",\"B\",\"C\",\"A\",\"B\",\"C\",\"A\",\"B\",\"C\",\"A\",\"B\",\"C\",\"A\",\"B\",\"C\",\"A\",\"B\",\"C\",\"A\",\"B\",\"C\",\"A\",\"B\",\"C\",\"A\",\"B\",\"C\",\"A\",\"B\",\"C\",\"A\",\"B\",\"C\",\"A\",\"B\",\"C\",\"A\",\"B\",\"C\",\"A\",\"B\",\"C\",\"A\",\"B\",\"C\",\"A\",\"B\",\"C\",\"A\",\"B\",\"C\",\"A\",\"B\",\"C\",\"A\",\"B\",\"C\",\"A\",\"B\",\"C\",\"A\",\"B\",\"C\",\"A\",\"B\",\"C\",\"A\",\"B\",\"C\",\"A\",\"B\",\"C\",\"A\",\"B\",\"C\",\"A\",\"B\",\"C\",\"A\",\"B\",\"C\",\"A\",\"B\",\"C\",\"A\",\"B\",\"C\",\"A\",\"B\",\"C\",\"A\",\"B\",\"C\",\"A\",\"B\",\"C\",\"A\",\"B\",\"C\",\"A\",\"B\",\"C\",\"A\",\"B\",\"C\",\"A\",\"B\",\"C\",\"A\",\"B\",\"C\",\"A\",\"B\",\"C\",\"A\",\"B\",\"C\",\"A\",\"B\",\"C\",\"A\",\"B\",\"C\",\"A\",\"B\",\"C\",\"A\",\"B\",\"C\",\"A\",\"B\",\"C\",\"A\",\"B\",\"C\",\"A\",\"B\",\"C\",\"A\",\"B\",\"C\",\"A\",\"B\",\"C\",\"A\",\"B\",\"C\",\"A\",\"B\",\"C\",\"A\",\"B\",\"C\"],\"value\":[\"33.291\",\"-\",\"-\",\"78.32\",\"-\",\"-\",\"-\",\"-\",\"58.813\",\"21.245\",\"-\",\"-\",\"-\",\"-\",\"61.924\",\"57.941\",\"-\",\"-\",\"-\",\"-\",\"46.119\",\"42.939\",\"-\",\"-\",\"12.715\",\"-\",\"-\",\"-\",\"-\",\"25.111\",\"-\",\"-\",\"96.315\",\"-\",\"-\",\"77.796\",\"13.125\",\"-\",\"-\",\"49.266\",\"-\",\"-\",\"52.315\",\"-\",\"-\",\"22.879\",\"-\",\"-\",\"14.697\",\"-\",\"-\",\"-\",\"97.129\",\"-\",\"-\",\"-\",\"59.134\",\"-\",\"-\",\"74.257\",\"53.676\",\"-\",\"-\",\"-\",\"35.701\",\"-\",\"-\",\"65.743\",\"-\",\"65.805\",\"-\",\"-\",\"-\",\"72.416\",\"-\",\"-\",\"39.667\",\"-\",\"-\",\"-\",\"71.38\",\"6.2832\",\"-\",\"-\",\"-\",\"-\",\"66.923\",\"-\",\"87.524\",\"-\",\"-\",\"-\",\"54.568\",\"-\",\"86.603\",\"-\",\"71.11\",\"-\",\"-\",\"-\",\"-\",\"59.556\",\"33.712\",\"-\",\"-\",\"14.44\",\"-\",\"-\",\"-\",\"-\",\"71.68\",\"-\",\"60.528\",\"-\",\"-\",\"-\",\"9.4637\",\"-\",\"94.225\",\"-\",\"77.121\",\"-\",\"-\",\"-\",\"64.834\",\"-\",\"-\",\"-\",\"82.729\",\"-\",\"-\",\"73.566\",\"20.266\",\"-\",\"-\",\"-\",\"-\",\"12.176\",\"-\",\"10.259\",\"-\",\"-\",\"77.448\",\"-\",\"-\",\"-\",\"52.859\",\"-\",\"58.317\",\"-\",\"-\",\"30.763\",\"-\",\"-\",\"15.168\",\"-\",\"-\",\"75.382\",\"-\",\"-\",\"-\",\"22.939\",\"-\",\"73.055\",\"-\",\"35.192\",\"-\",\"-\",\"-\",\"83.313\",\"-\",\"2.9171\",\"-\",\"-\",\"38.842\",\"-\",\"-\",\"41.073\",\"-\",\"-\",\"-\",\"-\",\"23.018\",\"65.544\",\"-\",\"-\",\"-\",\"-\",\"57.771\",\"53.59\",\"-\",\"-\",\"45.34\",\"-\",\"-\",\"-\",\"45.138\",\"-\",\"2.2441\",\"-\",\"-\",\"-\",\"-\",\"43.597\",\"-\",\"-\",\"0.47345\",\"-\",\"50.309\",\"-\",\"-\",\"30.36\",\"-\",\"59.885\",\"-\",\"-\",\"91.772\",\"-\",\"-\",\"-\",\"0.23758\",\"-\",\"-\",\"56.661\",\"-\",\"26.853\",\"-\",\"-\",\"96.696\",\"-\",\"-\",\"-\",\"-\",\"11.792\",\"68.352\",\"-\",\"-\",\"1.5385\",\"-\",\"-\",\"-\",\"-\",\"0.10217\",\"-\",\"-\",\"66.604\",\"92.072\",\"-\",\"-\",\"17.724\",\"-\",\"-\",\"-\",\"5.0111\",\"-\",\"-\",\"-\",\"52.253\",\"-\",\"36.878\",\"-\",\"-\",\"-\",\"86.58\",\"-\",\"-\",\"24.192\",\"-\",\"-\",\"92.434\",\"60.527\",\"-\",\"-\",\"95.263\",\"-\",\"-\",\"-\",\"95.941\",\"-\",\"-\",\"75.624\",\"-\",\"2.7291\",\"-\",\"-\",\"-\",\"15.957\",\"-\",\"-\",\"32.193\",\"-\",\"-\",\"26.496\",\"-\",\"-\",\"-\",\"2.8275\",\"90.38\",\"-\",\"-\",\"-\",\"-\",\"29.757\",\"-\",\"63.55\",\"-\",\"-\",\"-\",\"49.404\",\"-\",\"-\",\"88.27\",\"7.4555\",\"-\",\"-\",\"-\",\"39.434\",\"-\",\"62.662\",\"-\",\"-\",\"-\",\"37.305\",\"-\",\"-\",\"84.377\",\"-\",\"-\",\"-\",\"72.387\",\"-\",\"-\",\"73.404\",\"30.467\",\"-\",\"-\",\"-\",\"-\",\"62.3\",\"-\",\"-\",\"29.875\",\"-\",\"-\",\"67.112\",\"-\",\"95.568\",\"-\",\"61.087\",\"-\",\"-\",\"-\",\"34.704\",\"-\",\"-\",\"63.055\",\"-\",\"-\",\"34.207\",\"-\",\"93.477\",\"-\",\"-\",\"42.87\",\"-\",\"-\",\"46.547\",\"-\",\"-\",\"-\",\"-\",\"9.4963\",\"-\",\"70.46\",\"-\",\"-\",\"-\",\"61.957\"],\"width\":{\"__ndarray__\":\"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\",\"dtype\":\"float64\",\"shape\":[378]},\"zvalues\":{\"__ndarray__\":\"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\",\"dtype\":\"float64\",\"shape\":[378]}},\"selected\":{\"id\":\"2527\"},\"selection_policy\":{\"id\":\"2560\"}},\"id\":\"2526\",\"type\":\"ColumnDataSource\"},{\"attributes\":{},\"id\":\"2514\",\"type\":\"WheelZoomTool\"},{\"attributes\":{\"fill_color\":{\"field\":\"zvalues\",\"transform\":{\"id\":\"2525\"}},\"height\":{\"units\":\"data\",\"value\":1},\"line_alpha\":{\"value\":0},\"line_color\":{\"value\":\"#1f77b4\"},\"width\":{\"field\":\"width\",\"units\":\"data\"},\"x\":{\"field\":\"date\"},\"y\":{\"field\":\"status2\"}},\"id\":\"2531\",\"type\":\"Rect\"},{\"attributes\":{\"days\":[1,15]},\"id\":\"2553\",\"type\":\"DaysTicker\"},{\"attributes\":{},\"id\":\"2512\",\"type\":\"SaveTool\"},{\"attributes\":{\"children\":[{\"id\":\"2490\"},{\"id\":\"2492\"}],\"margin\":[0,0,0,0],\"name\":\"Column06542\"},\"id\":\"2489\",\"type\":\"Column\"},{\"attributes\":{\"factors\":[\"A\",\"C\",\"B\"],\"tags\":[[[\"status2\",\"status2\",null]]]},\"id\":\"2494\",\"type\":\"FactorRange\"},{\"attributes\":{\"axis\":{\"id\":\"2509\"},\"dimension\":1,\"grid_line_color\":null,\"ticker\":null},\"id\":\"2511\",\"type\":\"Grid\"},{\"attributes\":{\"active_drag\":\"auto\",\"active_inspect\":\"auto\",\"active_multi\":null,\"active_scroll\":\"auto\",\"active_tap\":\"auto\",\"tools\":[{\"id\":\"2495\"},{\"id\":\"2512\"},{\"id\":\"2513\"},{\"id\":\"2514\"},{\"id\":\"2515\"},{\"id\":\"2516\"}]},\"id\":\"2518\",\"type\":\"Toolbar\"},{\"attributes\":{\"months\":[0,4,8]},\"id\":\"2556\",\"type\":\"MonthsTicker\"},{\"attributes\":{\"fill_color\":{\"field\":\"zvalues\",\"transform\":{\"id\":\"2525\"}},\"height\":{\"units\":\"data\",\"value\":1},\"line_alpha\":{\"value\":0},\"line_color\":{\"value\":\"#1f77b4\"},\"width\":{\"field\":\"width\",\"units\":\"data\"},\"x\":{\"field\":\"date\"},\"y\":{\"field\":\"status2\"}},\"id\":\"2529\",\"type\":\"Rect\"},{\"attributes\":{\"callback\":null,\"formatters\":{\"@{date}\":\"datetime\"},\"renderers\":[{\"id\":\"2532\"}],\"tags\":[\"hv_created\"],\"tooltips\":[[\"date\",\"@{date}{%F %T}\"],[\"status2\",\"@{status2}\"],[\"value\",\"@{value}\"]]},\"id\":\"2495\",\"type\":\"HoverTool\"},{\"attributes\":{},\"id\":\"2501\",\"type\":\"LinearScale\"},{\"attributes\":{\"months\":[0,1,2,3,4,5,6,7,8,9,10,11]},\"id\":\"2554\",\"type\":\"MonthsTicker\"},{\"attributes\":{\"bar_line_color\":{\"value\":\"black\"},\"color_mapper\":{\"id\":\"2525\"},\"formatter\":{\"id\":\"2546\"},\"label_standoff\":8,\"location\":[0,0],\"major_tick_line_color\":\"black\",\"ticker\":{\"id\":\"2534\"}},\"id\":\"2535\",\"type\":\"ColorBar\"},{\"attributes\":{\"axis_label\":\"date\",\"bounds\":\"auto\",\"formatter\":{\"id\":\"2537\"},\"major_label_orientation\":\"horizontal\",\"ticker\":{\"id\":\"2506\"}},\"id\":\"2505\",\"type\":\"DatetimeAxis\"},{\"attributes\":{\"bottom_units\":\"screen\",\"fill_alpha\":0.5,\"fill_color\":\"lightgrey\",\"left_units\":\"screen\",\"level\":\"overlay\",\"line_alpha\":1.0,\"line_color\":\"black\",\"line_dash\":[4,4],\"line_width\":2,\"render_mode\":\"css\",\"right_units\":\"screen\",\"top_units\":\"screen\"},\"id\":\"2517\",\"type\":\"BoxAnnotation\"},{\"attributes\":{\"text\":\"\",\"text_color\":{\"value\":\"black\"},\"text_font_size\":{\"value\":\"12pt\"}},\"id\":\"2497\",\"type\":\"Title\"},{\"attributes\":{\"high\":97.1293640246765,\"low\":0.10217357692013929,\"nan_color\":\"white\",\"palette\":[\"#b3fef5\",\"#b0fef5\",\"#adfdf5\",\"#a9fcf5\",\"#a6fbf6\",\"#a3faf6\",\"#a0faf6\",\"#9df9f6\",\"#9af8f6\",\"#97f7f6\",\"#93f7f6\",\"#90f6f6\",\"#8df5f6\",\"#8af4f7\",\"#87f3f7\",\"#83f2f7\",\"#80f2f7\",\"#7df1f7\",\"#79f0f7\",\"#76eff7\",\"#73eef7\",\"#6fedf8\",\"#6cecf8\",\"#68ecf8\",\"#65ebf8\",\"#61eaf8\",\"#5ee9f8\",\"#5ae8f8\",\"#57e7f8\",\"#53e6f8\",\"#50e5f9\",\"#4ce4f9\",\"#49e3f9\",\"#45e2f9\",\"#42e1f9\",\"#3ee0f9\",\"#3bdff9\",\"#38def9\",\"#35ddf9\",\"#32dcf9\",\"#30dbfa\",\"#2ed9fa\",\"#2dd8fa\",\"#2cd7fa\",\"#2bd6fa\",\"#2bd5fa\",\"#2ad3fa\",\"#2ad2fa\",\"#29d1fa\",\"#29d0fb\",\"#29cffb\",\"#28cdfb\",\"#28ccfb\",\"#28cbfb\",\"#28cafb\",\"#28c8fb\",\"#28c7fb\",\"#29c6fb\",\"#29c5fb\",\"#29c4fb\",\"#29c2fb\",\"#2ac1fb\",\"#2ac0fb\",\"#2bbffb\",\"#2bbdfc\",\"#2cbcfc\",\"#2dbbfc\",\"#2db9fc\",\"#2eb8fc\",\"#2fb7fc\",\"#2fb6fc\",\"#30b4fc\",\"#31b3fc\",\"#32b2fc\",\"#32b0fc\",\"#33affc\",\"#33aefc\",\"#34adfc\",\"#34abfc\",\"#34aafc\",\"#35a9fc\",\"#35a8fc\",\"#35a6fc\",\"#35a5fc\",\"#35a4fc\",\"#35a3fc\",\"#35a1fc\",\"#35a0fc\",\"#359ffc\",\"#359dfc\",\"#359cfc\",\"#359bfc\",\"#349afd\",\"#3498fd\",\"#3497fd\",\"#3396fd\",\"#3395fd\",\"#3293fd\",\"#3292fd\",\"#3191fd\",\"#3090fd\",\"#308ffd\",\"#2f8dfd\",\"#2f8cfd\",\"#2e8bfd\",\"#2e8afd\",\"#2d88fd\",\"#2d87fd\",\"#2c86fd\",\"#2c84fd\",\"#2c83fd\",\"#2c82fd\",\"#2b81fd\",\"#2b7ffd\",\"#2b7efd\",\"#2b7dfd\",\"#2b7bfd\",\"#2b7afd\",\"#2b79fd\",\"#2b77fd\",\"#2b76fd\",\"#2b75fd\",\"#2b73fd\",\"#2c72fd\",\"#2c71fd\",\"#2c6ffd\",\"#2c6efd\",\"#2d6cfd\",\"#2d6bfd\",\"#2d6afc\",\"#2e68fc\",\"#2e67fc\",\"#2e65fc\",\"#2e64fc\",\"#2f62fc\",\"#2f61fc\",\"#2f5ffc\",\"#2f5efc\",\"#2f5dfc\",\"#2f5bfc\",\"#2f5afc\",\"#2f58fb\",\"#2f57fb\",\"#2f55fb\",\"#2f53fb\",\"#2f52fb\",\"#2f50fb\",\"#2f4ffb\",\"#2f4dfb\",\"#2e4cfb\",\"#2e4afb\",\"#2e48fb\",\"#2e47fa\",\"#2d45fa\",\"#2d43fa\",\"#2d42fa\",\"#2d40fa\",\"#2c3efa\",\"#2c3dfa\",\"#2b3bf9\",\"#2b39f9\",\"#2a37f9\",\"#2a36f8\",\"#2934f8\",\"#2832f7\",\"#2831f7\",\"#272ff6\",\"#262ef5\",\"#252cf5\",\"#252af4\",\"#2429f3\",\"#2327f2\",\"#2226f1\",\"#2124f0\",\"#2023ef\",\"#1f22ee\",\"#1e20ed\",\"#1d1feb\",\"#1c1eea\",\"#1b1ce9\",\"#1a1be7\",\"#181ae6\",\"#1719e5\",\"#1618e3\",\"#1417e1\",\"#1316e0\",\"#1215de\",\"#1014dc\",\"#0f13db\",\"#0e12d9\",\"#0d11d7\",\"#0c10d5\",\"#0b0fd3\",\"#0a0ed1\",\"#090dd0\",\"#080dce\",\"#080ccc\",\"#070bca\",\"#070ac8\",\"#0709c6\",\"#0708c4\",\"#0707c2\",\"#0707bf\",\"#0806bd\",\"#0806bb\",\"#0905b9\",\"#0904b7\",\"#0a04b5\",\"#0a04b2\",\"#0b03b0\",\"#0c03ae\",\"#0d02ab\",\"#0e02a9\",\"#0e02a7\",\"#0f02a4\",\"#0f01a2\",\"#1001a0\",\"#10019d\",\"#10019b\",\"#100199\",\"#100197\",\"#100194\",\"#0f0192\",\"#0f0190\",\"#0f018e\",\"#0e018b\",\"#0e0189\",\"#0d0187\",\"#0d0185\",\"#0c0183\",\"#0b0181\",\"#0b017e\",\"#0a017c\",\"#09017a\",\"#090178\",\"#080276\",\"#070274\",\"#060272\",\"#060270\",\"#05026e\",\"#04026c\",\"#030269\",\"#030267\",\"#020265\",\"#010263\",\"#010261\",\"#00025f\",\"#00025d\",\"#00025b\",\"#000259\",\"#000257\",\"#000255\",\"#000154\",\"#000152\",\"#000150\",\"#00004e\"]},\"id\":\"2525\",\"type\":\"LinearColorMapper\"},{\"attributes\":{\"days\":[1,4,7,10,13,16,19,22,25,28]},\"id\":\"2551\",\"type\":\"DaysTicker\"},{\"attributes\":{},\"id\":\"2560\",\"type\":\"UnionRenderers\"},{\"attributes\":{},\"id\":\"2546\",\"type\":\"BasicTickFormatter\"},{\"attributes\":{},\"id\":\"2527\",\"type\":\"Selection\"},{\"attributes\":{},\"id\":\"2537\",\"type\":\"DatetimeTickFormatter\"},{\"attributes\":{\"source\":{\"id\":\"2526\"}},\"id\":\"2533\",\"type\":\"CDSView\"},{\"attributes\":{\"align\":null,\"below\":[{\"id\":\"2505\"}],\"center\":[{\"id\":\"2508\"},{\"id\":\"2511\"}],\"left\":[{\"id\":\"2509\"}],\"margin\":null,\"min_border_bottom\":10,\"min_border_left\":10,\"min_border_right\":10,\"min_border_top\":10,\"plot_height\":300,\"plot_width\":700,\"renderers\":[{\"id\":\"2532\"}],\"right\":[{\"id\":\"2535\"}],\"sizing_mode\":\"fixed\",\"title\":{\"id\":\"2497\"},\"toolbar\":{\"id\":\"2518\"},\"x_range\":{\"id\":\"2493\"},\"x_scale\":{\"id\":\"2501\"},\"y_range\":{\"id\":\"2494\"},\"y_scale\":{\"id\":\"2503\"}},\"id\":\"2496\",\"subtype\":\"Figure\",\"type\":\"Plot\"},{\"attributes\":{\"days\":[1,8,15,22]},\"id\":\"2552\",\"type\":\"DaysTicker\"},{\"attributes\":{\"end\":1609329600000.0,\"reset_end\":1609329600000.0,\"reset_start\":1578139200000.0,\"start\":1578139200000.0,\"tags\":[[[\"date\",\"date\",null]]]},\"id\":\"2493\",\"type\":\"Range1d\"},{\"attributes\":{\"days\":[1,2,3,4,5,6,7,8,9,10,11,12,13,14,15,16,17,18,19,20,21,22,23,24,25,26,27,28,29,30,31]},\"id\":\"2550\",\"type\":\"DaysTicker\"},{\"attributes\":{},\"id\":\"2534\",\"type\":\"BasicTicker\"},{\"attributes\":{\"base\":60,\"mantissas\":[1,2,5,10,15,20,30],\"max_interval\":1800000.0,\"min_interval\":1000.0,\"num_minor_ticks\":0},\"id\":\"2548\",\"type\":\"AdaptiveTicker\"},{\"attributes\":{\"mantissas\":[1,2,5],\"max_interval\":500.0,\"num_minor_ticks\":0},\"id\":\"2547\",\"type\":\"AdaptiveTicker\"},{\"attributes\":{},\"id\":\"2558\",\"type\":\"YearsTicker\"},{\"attributes\":{\"overlay\":{\"id\":\"2517\"}},\"id\":\"2515\",\"type\":\"BoxZoomTool\"},{\"attributes\":{\"client_comm_id\":\"bcc516cf59334b77a4af5da88a5d2064\",\"comm_id\":\"220d09abaa7a41b691ebd68e1cf19f82\",\"plot_id\":\"2489\"},\"id\":\"2625\",\"type\":\"panel.models.comm_manager.CommManager\"},{\"attributes\":{},\"id\":\"2516\",\"type\":\"ResetTool\"},{\"attributes\":{},\"id\":\"2503\",\"type\":\"CategoricalScale\"}],\"root_ids\":[\"2489\",\"2625\"]},\"title\":\"Bokeh Application\",\"version\":\"2.0.2\"}};\n",
       "  var render_items = [{\"docid\":\"587169df-7b8e-4143-8bc6-c81bad1e89fb\",\"root_ids\":[\"2489\"],\"roots\":{\"2489\":\"762c50a0-ede9-40fe-8f11-00da51196265\"}}];\n",
       "  root.Bokeh.embed.embed_items_notebook(docs_json, render_items);\n",
       "  }\n",
       "if (root.Bokeh !== undefined) {\n",
       "    embed_document(root);\n",
       "  } else {\n",
       "    var attempts = 0;\n",
       "    var timer = setInterval(function(root) {\n",
       "      if (root.Bokeh !== undefined) {\n",
       "        clearInterval(timer);\n",
       "        embed_document(root);\n",
       "      } else if (document.readyState == \"complete\") {\n",
       "        attempts++;\n",
       "        if (attempts > 100) {\n",
       "          clearInterval(timer);\n",
       "          console.log(\"Bokeh: ERROR: Unable to run BokehJS code because BokehJS library is missing\");\n",
       "        }\n",
       "      }\n",
       "    }, 10, root)\n",
       "  }\n",
       "})(window);</script>"
      ],
      "text/plain": [
       "Column\n",
       "    [0] Column\n",
       "        [0] Select(name='chosen_type', options=['confirmed', ...], value='confirmed')\n",
       "    [1] Row\n",
       "        [0] HoloViews(HeatMap, name='interactive06541')"
      ]
     },
     "execution_count": 108,
     "metadata": {
      "application/vnd.holoviews_exec.v0+json": {
       "id": "2489"
      }
     },
     "output_type": "execute_result"
    }
   ],
   "source": [
    "# import libraries\n",
    "import numpy as np\n",
    "import pandas as pd\n",
    "import hvplot.pandas\n",
    "import panel as pn\n",
    "pn.extension()\n",
    "# create sample data\n",
    "df = pd.DataFrame({\n",
    "    'date': pd.date_range(start='01-01-2020', end='31-12-2020'),\n",
    "    'status': np.random.choice(['confirmed', 'bedridden', 'recovered'], 366),\n",
    "    'status2': np.random.choice(['A', 'B', 'C'], 366),\n",
    "    'value': np.random.rand(366) * 100\n",
    "})\n",
    "types = ['confirmed', 'bedridden', 'recovered']\n",
    "# you need to return your plot to get the interaction\n",
    "def plot_heatmap(chosen_type):\n",
    "    df_selected = df[df['status']==chosen_type]\n",
    "    # hvplot is handy for creating interactive plots\n",
    "    heatmap = df_selected.hvplot.heatmap(x='date', y='status2', C='value')\n",
    "    return heatmap\n",
    "# show your interactive plot with dropdown   \n",
    "pn.interact(plot_heatmap, chosen_type=types)"
   ]
  },
  {
   "cell_type": "code",
   "execution_count": 115,
   "metadata": {},
   "outputs": [],
   "source": [
    "# Use hvplot to create an interactive line chart of the average price per sq ft.\n",
    "# The plot should have a dropdown selector for the neighborhood\n",
    "\n",
    "#avg_price_mean = avg_price_df\n",
    "\n",
    "#def get_plot(customer_filter, subscription_filter):\n",
    "#    df_counts = avg_price_mean.groupby(['Customers', 'Subscription']).count().reset_index()\n",
    "#    df_filtered = df_counts[ (df_counts['Customers'] == customer_filter ) & ( df_counts['Subscription'] == subscription_filter) ]\n",
    "#    return df_filtered.hvplot.bar(\n",
    "#        x='Customers',\n",
    "#        y='Invoice Amount',\n",
    "#        xlabel= 'Customers',\n",
    "#        ylabel='Invoice Amount',\n",
    "#        width=600\n",
    "#        ).opts(yformatter='%0f')\n",
    "#\n",
    "#customer_filter_values = avg_price_mean.reset_index()['Customers'].drop_duplicates().to_list()\n",
    "#subscription_filter_values = avg_price_mean.reset_index()['Subscription'].drop_duplicates().to_list()\n",
    "\n",
    "#pn.interact(get_plot,\n",
    "#            customer_filter=customer_filter_values,\n",
    "#            subscription_filter=subscription_filter_values)"
   ]
  },
  {
   "cell_type": "code",
   "execution_count": 117,
   "metadata": {},
   "outputs": [],
   "source": [
    "# avg_price_mean.groupby('Subscription').count()\n",
    "# avg_price_mean.groupby(['Customers', 'Subscription']).count().loc[\"University 1\"]\n",
    "\n",
    "#df_counts = avg_price_mean.groupby(['Customers', 'Subscription']).count().reset_index()\n",
    "#df_counts[ (df_counts['Customers'] == 'University 1' ) & ( df_counts['Subscription'] == '1 Year') ]"
   ]
  },
  {
   "cell_type": "code",
   "execution_count": 118,
   "metadata": {},
   "outputs": [
    {
     "ename": "AttributeError",
     "evalue": "'Constants' object has no attribute 'LUT_POTENTIAL_CUSTOMER_NAME_FILE_PATH'",
     "output_type": "error",
     "traceback": [
      "\u001b[1;31m---------------------------------------------------------------------------\u001b[0m",
      "\u001b[1;31mAttributeError\u001b[0m                            Traceback (most recent call last)",
      "\u001b[1;32m<ipython-input-118-398be8b239cb>\u001b[0m in \u001b[0;36m<module>\u001b[1;34m\u001b[0m\n\u001b[0;32m      3\u001b[0m \u001b[1;31m# Identify existing and potential customers\u001b[0m\u001b[1;33m\u001b[0m\u001b[1;33m\u001b[0m\u001b[1;33m\u001b[0m\u001b[0m\n\u001b[0;32m      4\u001b[0m \u001b[0mcustomer_name_mapping\u001b[0m               \u001b[1;33m=\u001b[0m \u001b[0mtool_lookup_tables\u001b[0m\u001b[1;33m.\u001b[0m\u001b[0mread_customer_name_mapping\u001b[0m\u001b[1;33m(\u001b[0m\u001b[1;33m)\u001b[0m\u001b[1;33m\u001b[0m\u001b[1;33m\u001b[0m\u001b[0m\n\u001b[1;32m----> 5\u001b[1;33m \u001b[0mall_potential_customers_mapping\u001b[0m     \u001b[1;33m=\u001b[0m \u001b[0mtool_lookup_tables\u001b[0m\u001b[1;33m.\u001b[0m\u001b[0mread_lookup_table\u001b[0m\u001b[1;33m(\u001b[0m\u001b[0mconstants\u001b[0m\u001b[1;33m.\u001b[0m\u001b[0mLUT_POTENTIAL_CUSTOMER_NAME_FILE_PATH\u001b[0m\u001b[1;33m)\u001b[0m\u001b[1;33m\u001b[0m\u001b[1;33m\u001b[0m\u001b[0m\n\u001b[0m\u001b[0;32m      6\u001b[0m \u001b[1;33m\u001b[0m\u001b[0m\n\u001b[0;32m      7\u001b[0m \u001b[0mpaying_customers\u001b[0m \u001b[1;33m=\u001b[0m \u001b[0mlist\u001b[0m\u001b[1;33m(\u001b[0m\u001b[0mcustomer_name_mapping\u001b[0m\u001b[1;33m.\u001b[0m\u001b[0mkeys\u001b[0m\u001b[1;33m(\u001b[0m\u001b[1;33m)\u001b[0m\u001b[1;33m)\u001b[0m\u001b[1;33m\u001b[0m\u001b[1;33m\u001b[0m\u001b[0m\n",
      "\u001b[1;31mAttributeError\u001b[0m: 'Constants' object has no attribute 'LUT_POTENTIAL_CUSTOMER_NAME_FILE_PATH'"
     ]
    }
   ],
   "source": [
    "# Calculate market penetration\n",
    "\n",
    "# Identify existing and potential customers\n",
    "customer_name_mapping               = tool_lookup_tables.read_customer_name_mapping()\n",
    "all_potential_customers_mapping     = tool_lookup_tables.read_lookup_table(constants.LUT_POTENTIAL_CUSTOMER_NAME_FILE_PATH)\n",
    "\n",
    "paying_customers = list(customer_name_mapping.keys())\n",
    "all_potential_customers = list(all_potential_customers_mapping.keys())\n",
    "\n",
    "customers_df = pd.DataFrame([paying_customers, all_potential_customers])\n",
    "customers_df.head()"
   ]
  },
  {
   "cell_type": "code",
   "execution_count": null,
   "metadata": {},
   "outputs": [],
   "source": []
  },
  {
   "cell_type": "code",
   "execution_count": 111,
   "metadata": {},
   "outputs": [
    {
     "ename": "NameError",
     "evalue": "name 'paying_customers' is not defined",
     "output_type": "error",
     "traceback": [
      "\u001b[1;31m---------------------------------------------------------------------------\u001b[0m",
      "\u001b[1;31mNameError\u001b[0m                                 Traceback (most recent call last)",
      "\u001b[1;32m<ipython-input-111-5f95b7aeb509>\u001b[0m in \u001b[0;36m<module>\u001b[1;34m\u001b[0m\n\u001b[0;32m      5\u001b[0m \u001b[1;31m# TODO Generate pie chart\u001b[0m\u001b[1;33m\u001b[0m\u001b[1;33m\u001b[0m\u001b[1;33m\u001b[0m\u001b[0m\n\u001b[0;32m      6\u001b[0m \u001b[1;33m\u001b[0m\u001b[0m\n\u001b[1;32m----> 7\u001b[1;33m \u001b[0mnbr_paying_customers\u001b[0m \u001b[1;33m=\u001b[0m \u001b[0mlen\u001b[0m\u001b[1;33m(\u001b[0m\u001b[0mpaying_customers\u001b[0m\u001b[1;33m)\u001b[0m\u001b[1;33m\u001b[0m\u001b[1;33m\u001b[0m\u001b[0m\n\u001b[0m\u001b[0;32m      8\u001b[0m \u001b[0mnbr_potential_customers\u001b[0m \u001b[1;33m=\u001b[0m \u001b[0mlen\u001b[0m\u001b[1;33m(\u001b[0m\u001b[0mall_potential_customers\u001b[0m\u001b[1;33m)\u001b[0m\u001b[1;33m\u001b[0m\u001b[1;33m\u001b[0m\u001b[0m\n\u001b[0;32m      9\u001b[0m \u001b[0mmarket_penetration\u001b[0m \u001b[1;33m=\u001b[0m \u001b[0mnbr_paying_customers\u001b[0m \u001b[1;33m/\u001b[0m \u001b[0mnbr_potential_customers\u001b[0m\u001b[1;33m\u001b[0m\u001b[1;33m\u001b[0m\u001b[0m\n",
      "\u001b[1;31mNameError\u001b[0m: name 'paying_customers' is not defined"
     ]
    }
   ],
   "source": [
    "# Calculate market penetration\n",
    "\n",
    "# TODO remove duplicates\n",
    "# TODO Match names\n",
    "# TODO Generate pie chart\n",
    "\n",
    "nbr_paying_customers = len(paying_customers)\n",
    "nbr_potential_customers = len(all_potential_customers)\n",
    "market_penetration = nbr_paying_customers / nbr_potential_customers\n",
    "\n",
    "## Print results\n",
    "print(f\"The number of paying cusomters is {nbr_paying_customers}\")\n",
    "print(f\"The number of potential cusomters is {nbr_potential_customers}\")\n",
    "print(f\"Market penetration is {market_penetration * 100} %\")\n",
    "\n",
    "## Generate heatmap\n",
    "# all_potential_customers   .hvplot.heatmap(x='time.month', y='time.day', C='temperature', \n",
    "#                   height=500, width=500, colorbar=False)\n",
    "\n",
    "\n",
    "\"\"\"\n",
    "The number of paying cusomters is 719\n",
    "The number of potential cusomters is 3835\n",
    "Market penetration is 18.748370273794002 %\n",
    "\"\"\""
   ]
  },
  {
   "cell_type": "code",
   "execution_count": null,
   "metadata": {},
   "outputs": [],
   "source": [
    "# Use the `drop_duplicates` function with the `subset` parameter to \n",
    "# drop duplicates based on a selection of columns\n",
    "customers_df.drop_duplicatessubset=()   "
   ]
  },
  {
   "cell_type": "code",
   "execution_count": null,
   "metadata": {},
   "outputs": [],
   "source": [
    "faire cela d'abord {Puis} customers_df = pd.DataFrame([[paying_customers], [all_potential_customers]])customers_df.head()Puis "
   ]
  },
  {
   "cell_type": "code",
   "execution_count": null,
   "metadata": {},
   "outputs": [],
   "source": [
    "puis faire un dataframe en regardant les exemple de la class "
   ]
  },
  {
   "cell_type": "code",
   "execution_count": null,
   "metadata": {},
   "outputs": [],
   "source": [
    "# Use the `duplicated` function to determine the existance of duplicate rows: True or False\n",
    "Atlas_with_address.duplicated()"
   ]
  },
  {
   "cell_type": "code",
   "execution_count": null,
   "metadata": {},
   "outputs": [],
   "source": [
    "TODO Generate pie chart"
   ]
  },
  {
   "cell_type": "code",
   "execution_count": null,
   "metadata": {},
   "outputs": [],
   "source": []
  }
 ],
 "metadata": {
  "kernelspec": {
   "display_name": "Python [conda env:pyvizenv] *",
   "language": "python",
   "name": "conda-env-pyvizenv-py"
  },
  "language_info": {
   "codemirror_mode": {
    "name": "ipython",
    "version": 3
   },
   "file_extension": ".py",
   "mimetype": "text/x-python",
   "name": "python",
   "nbconvert_exporter": "python",
   "pygments_lexer": "ipython3",
   "version": "3.8.3"
  }
 },
 "nbformat": 4,
 "nbformat_minor": 4
}
