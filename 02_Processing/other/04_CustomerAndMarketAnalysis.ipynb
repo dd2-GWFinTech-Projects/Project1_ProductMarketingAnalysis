{
 "cells": [
  {
   "cell_type": "code",
   "execution_count": 83,
   "metadata": {},
   "outputs": [],
   "source": [
    "# System imports\n",
    "import os\n",
    "import pandas as pd\n",
    "import matplotlib.pyplot as plt\n",
    "import plotly.express as px\n",
    "import hvplot.pandas\n",
    "import panel as pn\n",
    "from pathlib import Path\n",
    "from dotenv import load_dotenv\n",
    "from panel.interact import interact\n",
    "from panel import widgets\n",
    "from string import digits\n",
    "import csv\n",
    "import json\n",
    "import numpy as np\n",
    "\n",
    "pn.extension()\n",
    "\n",
    "%matplotlib inline"
   ]
  },
  {
   "cell_type": "code",
   "execution_count": 84,
   "metadata": {},
   "outputs": [],
   "source": [
    "# Local imports\n",
    "import sys\n",
    "sys.path.append(\"../lib2\")\n",
    "\n",
    "from Constants import Constants\n",
    "from ProcessingTools import DateProcessingTools"
   ]
  },
  {
   "cell_type": "code",
   "execution_count": 85,
   "metadata": {},
   "outputs": [],
   "source": [
    "# Build tools\n",
    "debug_level = 0\n",
    "constants = Constants()\n",
    "tool_data_processing = DateProcessingTools(debug_level)"
   ]
  },
  {
   "cell_type": "code",
   "execution_count": 86,
   "metadata": {},
   "outputs": [],
   "source": [
    "# Import all preprocessed data\n",
    "atlas           = pd.read_pickle(constants.PREPROCESSED_ATLAS_FILE_PATH)\n",
    "forecast        = pd.read_pickle(constants.PREPROCESSED_FORECAST_DATA_FILE_PATH)\n",
    "revenue2020     = pd.read_pickle(constants.PREPROCESSED_REVENUE2020_FILE_PATH)\n",
    "revenue2020A    = pd.read_pickle(constants.PREPROCESSED_REVENUE2020A_FILE_PATH)"
   ]
  },
  {
   "cell_type": "code",
   "execution_count": 87,
   "metadata": {},
   "outputs": [
    {
     "data": {
      "text/html": [
       "<div>\n",
       "<style scoped>\n",
       "    .dataframe tbody tr th:only-of-type {\n",
       "        vertical-align: middle;\n",
       "    }\n",
       "\n",
       "    .dataframe tbody tr th {\n",
       "        vertical-align: top;\n",
       "    }\n",
       "\n",
       "    .dataframe thead th {\n",
       "        text-align: right;\n",
       "    }\n",
       "</style>\n",
       "<table border=\"1\" class=\"dataframe\">\n",
       "  <thead>\n",
       "    <tr style=\"text-align: right;\">\n",
       "      <th></th>\n",
       "      <th>Invoice Date</th>\n",
       "      <th>Invoice #</th>\n",
       "      <th>Invoice Amount</th>\n",
       "      <th>Subscription</th>\n",
       "      <th>Account Code</th>\n",
       "      <th>Service Start</th>\n",
       "      <th>Service End</th>\n",
       "    </tr>\n",
       "    <tr>\n",
       "      <th>Customers</th>\n",
       "      <th></th>\n",
       "      <th></th>\n",
       "      <th></th>\n",
       "      <th></th>\n",
       "      <th></th>\n",
       "      <th></th>\n",
       "      <th></th>\n",
       "    </tr>\n",
       "  </thead>\n",
       "  <tbody>\n",
       "    <tr>\n",
       "      <th>University 1</th>\n",
       "      <td>2015-03-20 00:00:00-04:00</td>\n",
       "      <td>ATLAS 315</td>\n",
       "      <td>72000.0</td>\n",
       "      <td>1 Year</td>\n",
       "      <td>4700-0-00-00000-18-0000</td>\n",
       "      <td>2015-03-18 00:00:00-04:00</td>\n",
       "      <td>2016-06-30 00:00:00-04:00</td>\n",
       "    </tr>\n",
       "    <tr>\n",
       "      <th>University 102</th>\n",
       "      <td>2015-05-28 00:00:00-04:00</td>\n",
       "      <td>AJ501</td>\n",
       "      <td>3500.0</td>\n",
       "      <td>1 Year</td>\n",
       "      <td>4700-0-00-00000-16-0000</td>\n",
       "      <td>2015-06-01 00:00:00-04:00</td>\n",
       "      <td>2016-06-30 00:00:00-04:00</td>\n",
       "    </tr>\n",
       "    <tr>\n",
       "      <th>University 3</th>\n",
       "      <td>2015-06-23 00:00:00-04:00</td>\n",
       "      <td>AJ502</td>\n",
       "      <td>3500.0</td>\n",
       "      <td>1 Year</td>\n",
       "      <td>4700-0-00-00000-17-0000</td>\n",
       "      <td>2015-06-10 00:00:00-04:00</td>\n",
       "      <td>2016-06-30 00:00:00-04:00</td>\n",
       "    </tr>\n",
       "    <tr>\n",
       "      <th>University 4</th>\n",
       "      <td>2015-06-26 00:00:00-04:00</td>\n",
       "      <td>AJ503</td>\n",
       "      <td>6500.0</td>\n",
       "      <td>1 Year</td>\n",
       "      <td>4700-0-00-00000-32-0000</td>\n",
       "      <td>2015-06-01 00:00:00-04:00</td>\n",
       "      <td>2016-06-30 00:00:00-04:00</td>\n",
       "    </tr>\n",
       "    <tr>\n",
       "      <th>University 5</th>\n",
       "      <td>2015-10-07 00:00:00-04:00</td>\n",
       "      <td>AJ504</td>\n",
       "      <td>750.0</td>\n",
       "      <td>1 Year</td>\n",
       "      <td>4700-0-00-00000-20-0000</td>\n",
       "      <td>2015-10-05 00:00:00-04:00</td>\n",
       "      <td>2016-09-30 00:00:00-04:00</td>\n",
       "    </tr>\n",
       "  </tbody>\n",
       "</table>\n",
       "</div>"
      ],
      "text/plain": [
       "                            Invoice Date  Invoice #  Invoice Amount  \\\n",
       "Customers                                                             \n",
       "University 1   2015-03-20 00:00:00-04:00  ATLAS 315         72000.0   \n",
       "University 102 2015-05-28 00:00:00-04:00      AJ501          3500.0   \n",
       "University 3   2015-06-23 00:00:00-04:00      AJ502          3500.0   \n",
       "University 4   2015-06-26 00:00:00-04:00      AJ503          6500.0   \n",
       "University 5   2015-10-07 00:00:00-04:00      AJ504           750.0   \n",
       "\n",
       "               Subscription            Account Code   \\\n",
       "Customers                                              \n",
       "University 1         1 Year  4700-0-00-00000-18-0000   \n",
       "University 102       1 Year  4700-0-00-00000-16-0000   \n",
       "University 3         1 Year  4700-0-00-00000-17-0000   \n",
       "University 4         1 Year  4700-0-00-00000-32-0000   \n",
       "University 5         1 Year  4700-0-00-00000-20-0000   \n",
       "\n",
       "                           Service Start               Service End  \n",
       "Customers                                                           \n",
       "University 1   2015-03-18 00:00:00-04:00 2016-06-30 00:00:00-04:00  \n",
       "University 102 2015-06-01 00:00:00-04:00 2016-06-30 00:00:00-04:00  \n",
       "University 3   2015-06-10 00:00:00-04:00 2016-06-30 00:00:00-04:00  \n",
       "University 4   2015-06-01 00:00:00-04:00 2016-06-30 00:00:00-04:00  \n",
       "University 5   2015-10-05 00:00:00-04:00 2016-09-30 00:00:00-04:00  "
      ]
     },
     "execution_count": 87,
     "metadata": {},
     "output_type": "execute_result"
    }
   ],
   "source": [
    "# Group by year and neighborhood and then create a new dataframe of the mean values\n",
    "atlas.head()\n",
    "#avg_price_df = atlas.reset_index().groupby(by=['Subscription', 'Customers']).mean()\n",
    "#avg_price_df.head()"
   ]
  },
  {
   "cell_type": "code",
   "execution_count": 88,
   "metadata": {},
   "outputs": [
    {
     "data": {
      "text/plain": [
       "Invoice Amount    float64\n",
       "dtype: object"
      ]
     },
     "execution_count": 88,
     "metadata": {},
     "output_type": "execute_result"
    }
   ],
   "source": [
    "avg_price_df.dtypes"
   ]
  },
  {
   "cell_type": "code",
   "execution_count": 94,
   "metadata": {},
   "outputs": [
    {
     "data": {},
     "metadata": {},
     "output_type": "display_data"
    },
    {
     "data": {
      "application/vnd.holoviews_exec.v0+json": "",
      "text/html": [
       "<div id='3056'>\n",
       "\n",
       "\n",
       "\n",
       "\n",
       "\n",
       "  <div class=\"bk-root\" id=\"7121a11d-4298-448d-9f19-d3d84f6832c6\" data-root-id=\"3056\"></div>\n",
       "</div>\n",
       "<script type=\"application/javascript\">(function(root) {\n",
       "  function embed_document(root) {\n",
       "  var docs_json = {\"19076d9f-116b-4c27-88fa-42fe1fc4427e\":{\"roots\":{\"references\":[{\"attributes\":{},\"id\":\"3081\",\"type\":\"ResetTool\"},{\"attributes\":{\"margin\":[5,5,5,5],\"name\":\"HSpacer21201\",\"sizing_mode\":\"stretch_width\"},\"id\":\"3116\",\"type\":\"Spacer\"},{\"attributes\":{\"children\":[{\"id\":\"3120\"}],\"css_classes\":[\"widget-box\"],\"margin\":[5,5,5,5],\"name\":\"WidgetBox21192\"},\"id\":\"3119\",\"type\":\"Column\"},{\"attributes\":{\"axis\":{\"id\":\"3070\"},\"grid_line_color\":null,\"ticker\":null},\"id\":\"3072\",\"type\":\"Grid\"},{\"attributes\":{\"data_source\":{\"id\":\"3090\"},\"glyph\":{\"id\":\"3093\"},\"hover_glyph\":null,\"muted_glyph\":{\"id\":\"3095\"},\"nonselection_glyph\":{\"id\":\"3094\"},\"selection_glyph\":null,\"view\":{\"id\":\"3097\"}},\"id\":\"3096\",\"type\":\"GlyphRenderer\"},{\"attributes\":{},\"id\":\"3114\",\"type\":\"UnionRenderers\"},{\"attributes\":{\"active_drag\":\"auto\",\"active_inspect\":\"auto\",\"active_multi\":null,\"active_scroll\":\"auto\",\"active_tap\":\"auto\",\"tools\":[{\"id\":\"3060\"},{\"id\":\"3077\"},{\"id\":\"3078\"},{\"id\":\"3079\"},{\"id\":\"3080\"},{\"id\":\"3081\"}]},\"id\":\"3083\",\"type\":\"Toolbar\"},{\"attributes\":{\"client_comm_id\":\"5cfdf03aa5be4ba8950d4e6c0780006e\",\"comm_id\":\"6c18e92f6c3a4ca48533dbbc164949c8\",\"plot_id\":\"3056\"},\"id\":\"3143\",\"type\":\"panel.models.comm_manager.CommManager\"},{\"attributes\":{\"text\":\"Subscription: 1 Year\",\"text_color\":{\"value\":\"black\"},\"text_font_size\":{\"value\":\"12pt\"}},\"id\":\"3062\",\"type\":\"Title\"},{\"attributes\":{},\"id\":\"3078\",\"type\":\"PanTool\"},{\"attributes\":{},\"id\":\"3077\",\"type\":\"SaveTool\"},{\"attributes\":{\"bottom_units\":\"screen\",\"fill_alpha\":0.5,\"fill_color\":\"lightgrey\",\"left_units\":\"screen\",\"level\":\"overlay\",\"line_alpha\":1.0,\"line_color\":\"black\",\"line_dash\":[4,4],\"line_width\":2,\"render_mode\":\"css\",\"right_units\":\"screen\",\"top_units\":\"screen\"},\"id\":\"3082\",\"type\":\"BoxAnnotation\"},{\"attributes\":{\"margin\":[5,5,5,5],\"name\":\"VSpacer21198\",\"sizing_mode\":\"stretch_height\"},\"id\":\"3121\",\"type\":\"Spacer\"},{\"attributes\":{\"axis_label\":\"Invoice Amount\",\"bounds\":\"auto\",\"formatter\":{\"id\":\"3098\"},\"major_label_orientation\":\"horizontal\",\"ticker\":{\"id\":\"3074\"}},\"id\":\"3073\",\"type\":\"LinearAxis\"},{\"attributes\":{},\"id\":\"3066\",\"type\":\"CategoricalScale\"},{\"attributes\":{\"format\":\"%0f\"},\"id\":\"3098\",\"type\":\"PrintfTickFormatter\"},{\"attributes\":{},\"id\":\"3071\",\"type\":\"CategoricalTicker\"},{\"attributes\":{\"margin\":[20,20,20,20],\"min_width\":250,\"options\":[\"1 Year\",\"2 Years\",\"3 Years\",\"3 Months\",\"6 Months\",\"30 Days\",\"5 Months\",\"18 mo\"],\"title\":\"Subscription\",\"value\":\"1 Year\",\"width\":250},\"id\":\"3120\",\"type\":\"Select\"},{\"attributes\":{},\"id\":\"3091\",\"type\":\"Selection\"},{\"attributes\":{\"line_color\":\"#1f77b3\",\"line_width\":2,\"x\":{\"field\":\"Customers\"},\"y\":{\"field\":\"Invoice Amount\"}},\"id\":\"3093\",\"type\":\"Line\"},{\"attributes\":{\"overlay\":{\"id\":\"3082\"}},\"id\":\"3080\",\"type\":\"BoxZoomTool\"},{\"attributes\":{\"axis\":{\"id\":\"3073\"},\"dimension\":1,\"grid_line_color\":null,\"ticker\":null},\"id\":\"3076\",\"type\":\"Grid\"},{\"attributes\":{\"callback\":null,\"renderers\":[{\"id\":\"3096\"}],\"tags\":[\"hv_created\"],\"tooltips\":[[\"Customers\",\"@{Customers}\"],[\"Invoice Amount\",\"@{Invoice_Amount}\"]]},\"id\":\"3060\",\"type\":\"HoverTool\"},{\"attributes\":{\"axis_label\":\"Customers\",\"bounds\":\"auto\",\"formatter\":{\"id\":\"3100\"},\"major_label_orientation\":\"horizontal\",\"ticker\":{\"id\":\"3071\"}},\"id\":\"3070\",\"type\":\"CategoricalAxis\"},{\"attributes\":{\"factors\":[\"University 1\",\"University 10\",\"University 100\",\"University 101\",\"University 102\",\"University 103\",\"University 104\",\"University 105\",\"University 106\",\"University 107\",\"University 108\",\"University 109\",\"University 11\",\"University 111\",\"University 113\",\"University 114\",\"University 115\",\"University 118\",\"University 119\",\"University 12\",\"University 120\",\"University 122\",\"University 123\",\"University 124\",\"University 125\",\"University 126\",\"University 127\",\"University 128\",\"University 129\",\"University 13\",\"University 130\",\"University 132\",\"University 133\",\"University 134\",\"University 135\",\"University 136\",\"University 137\",\"University 138\",\"University 14\",\"University 140\",\"University 141\",\"University 142\",\"University 143\",\"University 144\",\"University 145\",\"University 146\",\"University 147\",\"University 148\",\"University 15\",\"University 150\",\"University 151\",\"University 153\",\"University 154\",\"University 156\",\"University 158\",\"University 16\",\"University 160\",\"University 161\",\"University 162\",\"University 164\",\"University 165\",\"University 167\",\"University 168\",\"University 169\",\"University 17\",\"University 171\",\"University 172\",\"University 173\",\"University 176\",\"University 177\",\"University 178\",\"University 179\",\"University 18\",\"University 180\",\"University 181\",\"University 182\",\"University 183\",\"University 184\",\"University 185\",\"University 186\",\"University 189\",\"University 19\",\"University 190\",\"University 191\",\"University 192\",\"University 193\",\"University 194\",\"University 195\",\"University 196\",\"University 197\",\"University 2\",\"University 20\",\"University 200\",\"University 201\",\"University 203\",\"University 205\",\"University 207\",\"University 21\",\"University 211\",\"University 212\",\"University 213\",\"University 215\",\"University 216\",\"University 218\",\"University 22\",\"University 220\",\"University 222\",\"University 223\",\"University 224\",\"University 225\",\"University 226\",\"University 227\",\"University 228\",\"University 229\",\"University 23\",\"University 230\",\"University 231\",\"University 232\",\"University 233\",\"University 234\",\"University 235\",\"University 236\",\"University 237\",\"University 24\",\"University 241\",\"University 242\",\"University 245\",\"University 246\",\"University 247\",\"University 248\",\"University 25\",\"University 251\",\"University 253\",\"University 255\",\"University 258\",\"University 259\",\"University 26\",\"University 260\",\"University 261\",\"University 263\",\"University 265\",\"University 266\",\"University 268\",\"University 269\",\"University 27\",\"University 273\",\"University 276\",\"University 277\",\"University 28\",\"University 280\",\"University 284\",\"University 286\",\"University 288\",\"University 29\",\"University 294\",\"University 295\",\"University 296\",\"University 297\",\"University 299\",\"University 3\",\"University 30\",\"University 300\",\"University 302\",\"University 305\",\"University 307\",\"University 31\",\"University 310\",\"University 311\",\"University 312\",\"University 32\",\"University 33\",\"University 34\",\"University 35\",\"University 355\",\"University 36\",\"University 37\",\"University 4\",\"University 40\",\"University 42\",\"University 43\",\"University 44\",\"University 45\",\"University 46\",\"University 47\",\"University 48\",\"University 49\",\"University 5\",\"University 50\",\"University 52\",\"University 53\",\"University 55\",\"University 57\",\"University 58\",\"University 59\",\"University 6\",\"University 60\",\"University 61\",\"University 63\",\"University 64\",\"University 65\",\"University 66\",\"University 67\",\"University 68\",\"University 7\",\"University 70\",\"University 71\",\"University 73\",\"University 74\",\"University 75\",\"University 76\",\"University 78\",\"University 79\",\"University 8\",\"University 81\",\"University 82\",\"University 83\",\"University 84\",\"University 85\",\"University 86\",\"University 89\",\"University 9\",\"University 90\",\"University 91\",\"University 92\",\"University 93\",\"University 94\",\"University 95\",\"University 96\",\"University 97\",\"University 98\",\"University 99\"],\"tags\":[[[\"Customers\",\"Customers\",null]]]},\"id\":\"3058\",\"type\":\"FactorRange\"},{\"attributes\":{\"data\":{\"Customers\":[\"University 1\",\"University 10\",\"University 100\",\"University 101\",\"University 102\",\"University 103\",\"University 104\",\"University 105\",\"University 106\",\"University 107\",\"University 108\",\"University 109\",\"University 11\",\"University 111\",\"University 113\",\"University 114\",\"University 115\",\"University 118\",\"University 119\",\"University 12\",\"University 120\",\"University 122\",\"University 123\",\"University 124\",\"University 125\",\"University 126\",\"University 127\",\"University 128\",\"University 129\",\"University 13\",\"University 130\",\"University 132\",\"University 133\",\"University 134\",\"University 135\",\"University 136\",\"University 137\",\"University 138\",\"University 14\",\"University 140\",\"University 141\",\"University 142\",\"University 143\",\"University 144\",\"University 145\",\"University 146\",\"University 147\",\"University 148\",\"University 15\",\"University 150\",\"University 151\",\"University 153\",\"University 154\",\"University 156\",\"University 158\",\"University 16\",\"University 160\",\"University 161\",\"University 162\",\"University 164\",\"University 165\",\"University 167\",\"University 168\",\"University 169\",\"University 17\",\"University 171\",\"University 172\",\"University 173\",\"University 176\",\"University 177\",\"University 178\",\"University 179\",\"University 18\",\"University 180\",\"University 181\",\"University 182\",\"University 183\",\"University 184\",\"University 185\",\"University 186\",\"University 189\",\"University 19\",\"University 190\",\"University 191\",\"University 192\",\"University 193\",\"University 194\",\"University 195\",\"University 196\",\"University 197\",\"University 2\",\"University 20\",\"University 200\",\"University 201\",\"University 203\",\"University 205\",\"University 207\",\"University 21\",\"University 211\",\"University 212\",\"University 213\",\"University 215\",\"University 216\",\"University 218\",\"University 22\",\"University 220\",\"University 222\",\"University 223\",\"University 224\",\"University 225\",\"University 226\",\"University 227\",\"University 228\",\"University 229\",\"University 23\",\"University 230\",\"University 231\",\"University 232\",\"University 233\",\"University 234\",\"University 235\",\"University 236\",\"University 237\",\"University 24\",\"University 241\",\"University 242\",\"University 245\",\"University 246\",\"University 247\",\"University 248\",\"University 25\",\"University 251\",\"University 253\",\"University 255\",\"University 258\",\"University 259\",\"University 26\",\"University 260\",\"University 261\",\"University 263\",\"University 265\",\"University 266\",\"University 268\",\"University 269\",\"University 27\",\"University 273\",\"University 276\",\"University 277\",\"University 28\",\"University 280\",\"University 284\",\"University 286\",\"University 288\",\"University 29\",\"University 294\",\"University 295\",\"University 296\",\"University 297\",\"University 299\",\"University 3\",\"University 30\",\"University 300\",\"University 302\",\"University 305\",\"University 307\",\"University 31\",\"University 310\",\"University 311\",\"University 312\",\"University 32\",\"University 33\",\"University 34\",\"University 35\",\"University 355\",\"University 36\",\"University 37\",\"University 4\",\"University 40\",\"University 42\",\"University 43\",\"University 44\",\"University 45\",\"University 46\",\"University 47\",\"University 48\",\"University 49\",\"University 5\",\"University 50\",\"University 52\",\"University 53\",\"University 55\",\"University 57\",\"University 58\",\"University 59\",\"University 6\",\"University 60\",\"University 61\",\"University 63\",\"University 64\",\"University 65\",\"University 66\",\"University 67\",\"University 68\",\"University 7\",\"University 70\",\"University 71\",\"University 73\",\"University 74\",\"University 75\",\"University 76\",\"University 78\",\"University 79\",\"University 8\",\"University 81\",\"University 82\",\"University 83\",\"University 84\",\"University 85\",\"University 86\",\"University 89\",\"University 9\",\"University 90\",\"University 91\",\"University 92\",\"University 93\",\"University 94\",\"University 95\",\"University 96\",\"University 97\",\"University 98\",\"University 99\"],\"Invoice Amount\":{\"__ndarray__\":\"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\",\"dtype\":\"float64\",\"shape\":[231]},\"Invoice_Amount\":{\"__ndarray__\":\"AAAAAMD38ECrqqqqquqWQAAAAAAAQI9Aq6qqqqrynUAAAAAAAGigQKuqqqqqIpZAAAAAAAB8pUAAAAAAABifQAAAAAAAWJtAAAAAAABq6EAAAAAAANW7QAAAAAAAgqRApHA9ClftoEAAAAAAAJqgQAAAAAAAiJNAAAAAAAAgnEAAAAAAAKihQAAAAAAAMKFAAAAAAADUp0AAAAAAAPmlQAAAAAAAwJJAAAAAAAAUkEAAAAAAAJSxQAAAAAAAWKtAq6qqqqqCn0AAAAAAAFirQAAAAAAAiKNAAAAAAABkuUAAAAAAADagQBhLfrHkGJNAAAAAAAAgrEAAAAAAAJShQKuqqqqqGolAAAAAAAAAnkAAAAAAAJShQAAAAAAAQJ9AvLu7u7u9l0AAAAAAAJSxQAAAAAAAcKdAAAAAAACIk0AAAAAAAFirQAAAAAAAcJdAAAAAAACUoUAAAAAAAFi7QFVVVVVVL7VAAAAAAAB4nkAAAAAAAP6QQAAAAAAAQJ9AAAAAAADykkCrqqqqqgqaQAAAAABAg9lAAAAAAAAgnEAAAAAAAESmQAAAAAAAWKtAAAAAAABAj0BVVVVVVe2QQAAAAAAA7KNAAAAAAABooEAAAAAAAECfQAAAAAAAQJ9AAAAAAACawEBVVVVVVb2oQAAAAAAAUKRAAAAAAAAgnEAAAAAAAK6lQAAAAAAAXKJAAAAAAACIo0AAAAAAADK5QAAAAAAAYJ1AAAAAAADgf0AAAAAAALCdQAAAAAAAWJtAAAAAAABwe0AAAAAAAEzNQAAAAAAAiKNAAAAAAADMsEAAAAAAAMiZQAAAAAAAiJNAAAAAAABAf0AAAAAAAEBvQAAAAAAAiKNAAAAAAADso0AAAAAAAMipQAAAAAAAiLNAAAAAAABAr0AAAAAAAJCBQAAAAAAACJFAAAAAAACUsUAAAAAAAECPQAAAAAAAWKtAAAAAAABYq0AAAAAAAJSRQAAAAAAAcKdAAAAAAADImUAAAAAAAJCaQAAAAAAALKBAAAAAAADss0AAAAAAAAibQAAAAAAAWJtAAAAAAAC4mkAAAAAAAIizQAAAAAAAfLVAAAAAAACUoUAAAAAAAGigQAAAAAAAcIdAAAAAAACUsUAAAAAAAOisQAAAAAAAGMVAAAAAAABwh0AAAAAAAJSxQDMzMzMz4Z5AAAAAAABwt0AzMzMzM+GeQAAAAAAA+KFAAAAAAABYq0AAAAAAAOKzQAAAAAAAQJ9AAAAAAABwh0AAAAAAAFynQAAAAAAAaLBAAAAAAAD4sUAAAAAAAECfQAAAAAAAKrJAq6qqqqoKqkAAAAAAAJSxQAAAAAAAcKdAAAAAAACIs0CrqqqqqkagQAAAAAAAQJ9AAAAAAAA4mEAAAAAAAFiLQAAAAAAAwJxAAAAAAABYq0AAAAAAAECfQAAAAAAAfKVAAAAAAABAf0CrqqqqqiKmQAAAAAAAQJ9AAAAAAACIo0AAAAAAAIijQAAAAAAATK1AAAAAAACUoUAAAAAAAIijQAAAAAAAlLFAAAAAAABckkAAAAAAAIijQAAAAAAAlKFAAAAAAACIo0AAAAAAIPK+QAAAAAAAcKdAVVVVVVXtlUAAAAAAAFjBQAAAAAAAsJ1AAAAAAABq6EAAAAAAAILUQAAAAAAAXLJAAAAAAAColkAAAAAAAKCZQAAAAAAAlLFAAAAAAABYq0AAAAAAAJCKQAAAAAAAWLtAAAAAAABwh0AAAAAAAIizQAAAAAAATKpAq6qqqqoipkAAAAAAAIijQAAAAAAAkJpAAAAAAABAn0AAAAAAAMygQAAAAAAAGKVAAAAAAABAj0BVVVVVVUmpQAAAAAAAQK9AAAAAAACUkUCrqqqqqoKfQAAAAAAAZLlAAAAAAABMrUAAAAAAAJSxQAAAAAAAcIdAAAAAAABwh0AAAAAAAIijQAAAAAAAQL9AAAAAAABwh0CrqqqqquKUQAAAAAAAlLFAAAAAAABwh0AAAAAAAFirQAAAAAAArKdAAAAAAABSrEAAAAAAAIizQAAAAAAAlLFAVVVVVVWlnEAAAAAAAHCHQAAAAAAAMJFAAAAAAABAn0AAAAAAAISnQAAAAAAAcKdAAAAAAACyoUAAAAAAwMfYQAAAAAAAGp1AAAAAAABwh0AAAAAAAJTBQAAAAAAAldVAAAAAAABwh0Dd3d3d3QupQAAAAAAAlLFAAAAAAABwp0AehetRuP2PQAAAAACAPtlAAAAAAABYm0AAAAAAAHCXQAAAAAAAdptAAAAAAAAgnEBVVVVVVbWhQAAAAAAAlNFAAAAAAACCrkCrqqqqqnKhQAAAAAAAaKpAAAAAAACIo0AAAAAAADagQAAAAAAA/9RAAAAAAABeukAAAAAAAPiRQAAAAAAAQJ9AAAAAAACEpkAAAAAAAHCHQAAAAAAAGJVAAAAAAAD4oUAAAAAAAFirQFVVVVVV7aBA\",\"dtype\":\"float64\",\"shape\":[231]}},\"selected\":{\"id\":\"3091\"},\"selection_policy\":{\"id\":\"3114\"}},\"id\":\"3090\",\"type\":\"ColumnDataSource\"},{\"attributes\":{\"line_alpha\":0.1,\"line_color\":\"#1f77b3\",\"line_width\":2,\"x\":{\"field\":\"Customers\"},\"y\":{\"field\":\"Invoice Amount\"}},\"id\":\"3094\",\"type\":\"Line\"},{\"attributes\":{\"margin\":[5,5,5,5],\"name\":\"VSpacer21197\",\"sizing_mode\":\"stretch_height\"},\"id\":\"3118\",\"type\":\"Spacer\"},{\"attributes\":{\"end\":76425.0,\"reset_end\":76425.0,\"reset_start\":-6675.0,\"start\":-6675.0,\"tags\":[[[\"Invoice Amount\",\"Invoice Amount\",null]]]},\"id\":\"3059\",\"type\":\"Range1d\"},{\"attributes\":{\"line_alpha\":0.2,\"line_color\":\"#1f77b3\",\"line_width\":2,\"x\":{\"field\":\"Customers\"},\"y\":{\"field\":\"Invoice Amount\"}},\"id\":\"3095\",\"type\":\"Line\"},{\"attributes\":{\"source\":{\"id\":\"3090\"}},\"id\":\"3097\",\"type\":\"CDSView\"},{\"attributes\":{\"margin\":[5,5,5,5],\"name\":\"HSpacer21200\",\"sizing_mode\":\"stretch_width\"},\"id\":\"3057\",\"type\":\"Spacer\"},{\"attributes\":{},\"id\":\"3068\",\"type\":\"LinearScale\"},{\"attributes\":{\"children\":[{\"id\":\"3057\"},{\"id\":\"3061\"},{\"id\":\"3116\"},{\"id\":\"3117\"}],\"margin\":[0,0,0,0],\"name\":\"Row21191\"},\"id\":\"3056\",\"type\":\"Row\"},{\"attributes\":{\"align\":null,\"below\":[{\"id\":\"3070\"}],\"center\":[{\"id\":\"3072\"},{\"id\":\"3076\"}],\"left\":[{\"id\":\"3073\"}],\"margin\":null,\"min_border_bottom\":10,\"min_border_left\":10,\"min_border_right\":10,\"min_border_top\":10,\"plot_height\":300,\"renderers\":[{\"id\":\"3096\"}],\"sizing_mode\":\"fixed\",\"title\":{\"id\":\"3062\"},\"toolbar\":{\"id\":\"3083\"},\"x_range\":{\"id\":\"3058\"},\"x_scale\":{\"id\":\"3066\"},\"y_range\":{\"id\":\"3059\"},\"y_scale\":{\"id\":\"3068\"}},\"id\":\"3061\",\"subtype\":\"Figure\",\"type\":\"Plot\"},{\"attributes\":{},\"id\":\"3074\",\"type\":\"BasicTicker\"},{\"attributes\":{},\"id\":\"3079\",\"type\":\"WheelZoomTool\"},{\"attributes\":{\"children\":[{\"id\":\"3118\"},{\"id\":\"3119\"},{\"id\":\"3121\"}],\"margin\":[0,0,0,0],\"name\":\"Column21199\"},\"id\":\"3117\",\"type\":\"Column\"},{\"attributes\":{},\"id\":\"3100\",\"type\":\"CategoricalTickFormatter\"}],\"root_ids\":[\"3056\",\"3143\"]},\"title\":\"Bokeh Application\",\"version\":\"2.0.2\"}};\n",
       "  var render_items = [{\"docid\":\"19076d9f-116b-4c27-88fa-42fe1fc4427e\",\"root_ids\":[\"3056\"],\"roots\":{\"3056\":\"7121a11d-4298-448d-9f19-d3d84f6832c6\"}}];\n",
       "  root.Bokeh.embed.embed_items_notebook(docs_json, render_items);\n",
       "  }\n",
       "if (root.Bokeh !== undefined) {\n",
       "    embed_document(root);\n",
       "  } else {\n",
       "    var attempts = 0;\n",
       "    var timer = setInterval(function(root) {\n",
       "      if (root.Bokeh !== undefined) {\n",
       "        clearInterval(timer);\n",
       "        embed_document(root);\n",
       "      } else if (document.readyState == \"complete\") {\n",
       "        attempts++;\n",
       "        if (attempts > 100) {\n",
       "          clearInterval(timer);\n",
       "          console.log(\"Bokeh: ERROR: Unable to run BokehJS code because BokehJS library is missing\");\n",
       "        }\n",
       "      }\n",
       "    }, 10, root)\n",
       "  }\n",
       "})(window);</script>"
      ],
      "text/plain": [
       ":DynamicMap   [Subscription]\n",
       "   :Curve   [Customers]   (Invoice Amount)"
      ]
     },
     "execution_count": 94,
     "metadata": {
      "application/vnd.holoviews_exec.v0+json": {
       "id": "3056"
      }
     },
     "output_type": "execute_result"
    }
   ],
   "source": [
    "# Use hvplot to create an interactive line chart of the average price per sq ft.\n",
    "# The plot should have a dropdown selector for the neighborhood\n",
    "\n",
    "avg_price_mean = avg_price_df\n",
    "\n",
    "sfo_grouped_month_and_02_Anonymized_plot = avg_price_mean.hvplot.line(\n",
    "    x='Customers',\n",
    "    y='Invoice Amount',\n",
    "    xlabel= 'Customers',\n",
    "    ylabel='Invoice Amount',\n",
    "    groupby='Subscription', \n",
    "    width=600\n",
    ").opts(yformatter='%0f')\n",
    "\n",
    "sfo_grouped_month_and_02_Anonymized_plot"
   ]
  },
  {
   "cell_type": "code",
   "execution_count": 90,
   "metadata": {},
   "outputs": [
    {
     "data": {
      "text/html": [
       "<div>\n",
       "<style scoped>\n",
       "    .dataframe tbody tr th:only-of-type {\n",
       "        vertical-align: middle;\n",
       "    }\n",
       "\n",
       "    .dataframe tbody tr th {\n",
       "        vertical-align: top;\n",
       "    }\n",
       "\n",
       "    .dataframe thead th {\n",
       "        text-align: right;\n",
       "    }\n",
       "</style>\n",
       "<table border=\"1\" class=\"dataframe\">\n",
       "  <thead>\n",
       "    <tr style=\"text-align: right;\">\n",
       "      <th></th>\n",
       "      <th></th>\n",
       "      <th>Invoice Amount</th>\n",
       "    </tr>\n",
       "    <tr>\n",
       "      <th>Customers</th>\n",
       "      <th>Subscription</th>\n",
       "      <th></th>\n",
       "    </tr>\n",
       "  </thead>\n",
       "  <tbody>\n",
       "    <tr>\n",
       "      <th>University 1</th>\n",
       "      <th>1 Year</th>\n",
       "      <td>69500.000000</td>\n",
       "    </tr>\n",
       "    <tr>\n",
       "      <th>University 10</th>\n",
       "      <th>1 Year</th>\n",
       "      <td>1466.666667</td>\n",
       "    </tr>\n",
       "    <tr>\n",
       "      <th>University 100</th>\n",
       "      <th>1 Year</th>\n",
       "      <td>1000.000000</td>\n",
       "    </tr>\n",
       "    <tr>\n",
       "      <th>University 101</th>\n",
       "      <th>1 Year</th>\n",
       "      <td>1916.666667</td>\n",
       "    </tr>\n",
       "    <tr>\n",
       "      <th>University 102</th>\n",
       "      <th>1 Year</th>\n",
       "      <td>2100.000000</td>\n",
       "    </tr>\n",
       "  </tbody>\n",
       "</table>\n",
       "</div>"
      ],
      "text/plain": [
       "                             Invoice Amount\n",
       "Customers      Subscription                \n",
       "University 1   1 Year          69500.000000\n",
       "University 10  1 Year           1466.666667\n",
       "University 100 1 Year           1000.000000\n",
       "University 101 1 Year           1916.666667\n",
       "University 102 1 Year           2100.000000"
      ]
     },
     "execution_count": 90,
     "metadata": {},
     "output_type": "execute_result"
    }
   ],
   "source": [
    "# Group by year and neighborhood and then create a new dataframe of the mean values\n",
    "atlas.head()\n",
    "avg_price_df = atlas.reset_index().groupby(by=['Customers','Subscription']).mean()\n",
    "avg_price_df.head()"
   ]
  },
  {
   "cell_type": "code",
   "execution_count": 91,
   "metadata": {},
   "outputs": [
    {
     "data": {
      "text/plain": [
       "Invoice Amount    float64\n",
       "dtype: object"
      ]
     },
     "execution_count": 91,
     "metadata": {},
     "output_type": "execute_result"
    }
   ],
   "source": [
    "avg_price_df.dtypes"
   ]
  },
  {
   "cell_type": "code",
   "execution_count": null,
   "metadata": {},
   "outputs": [],
   "source": []
  },
  {
   "cell_type": "code",
   "execution_count": 92,
   "metadata": {},
   "outputs": [],
   "source": [
    "# Read the census data into a Pandas DataFrame\n",
    "#file_path = Path(\"../Resources/sfo_atla.csv\")\n",
    "#sfo_data = pd.read_csv(file_path, index_col=\"year\")\n",
    "#sfo_data.head()"
   ]
  },
  {
   "cell_type": "code",
   "execution_count": 107,
   "metadata": {},
   "outputs": [
    {
     "data": {},
     "metadata": {},
     "output_type": "display_data"
    },
    {
     "data": {
      "application/vnd.holoviews_exec.v0+json": "",
      "text/html": [
       "<div id='3661'>\n",
       "\n",
       "\n",
       "\n",
       "\n",
       "\n",
       "  <div class=\"bk-root\" id=\"02189159-b11e-4b2b-ae14-2dc577850a5d\" data-root-id=\"3661\"></div>\n",
       "</div>\n",
       "<script type=\"application/javascript\">(function(root) {\n",
       "  function embed_document(root) {\n",
       "  var docs_json = {\"850db45f-a6ec-4547-bf1f-5cd1a02e8726\":{\"roots\":{\"references\":[{\"attributes\":{\"text\":\"Top 10 Highest Customers\",\"text_color\":{\"value\":\"black\"},\"text_font_size\":{\"value\":\"12pt\"}},\"id\":\"3667\",\"type\":\"Title\"},{\"attributes\":{},\"id\":\"3686\",\"type\":\"ResetTool\"},{\"attributes\":{\"fill_alpha\":{\"value\":0.2},\"fill_color\":{\"value\":\"#1f77b3\"},\"line_alpha\":{\"value\":0.2},\"top\":{\"field\":\"Invoice_Amount\"},\"width\":{\"value\":0.8},\"x\":{\"field\":\"Customers\"}},\"id\":\"3700\",\"type\":\"VBar\"},{\"attributes\":{},\"id\":\"3696\",\"type\":\"Selection\"},{\"attributes\":{\"fill_color\":{\"value\":\"#1f77b3\"},\"top\":{\"field\":\"Invoice_Amount\"},\"width\":{\"value\":0.8},\"x\":{\"field\":\"Customers\"}},\"id\":\"3698\",\"type\":\"VBar\"},{\"attributes\":{},\"id\":\"3684\",\"type\":\"WheelZoomTool\"},{\"attributes\":{\"fill_alpha\":{\"value\":0.1},\"fill_color\":{\"value\":\"#1f77b3\"},\"line_alpha\":{\"value\":0.1},\"top\":{\"field\":\"Invoice_Amount\"},\"width\":{\"value\":0.8},\"x\":{\"field\":\"Customers\"}},\"id\":\"3699\",\"type\":\"VBar\"},{\"attributes\":{},\"id\":\"3682\",\"type\":\"SaveTool\"},{\"attributes\":{},\"id\":\"3683\",\"type\":\"PanTool\"},{\"attributes\":{\"axis_label\":\"Customers\",\"bounds\":\"auto\",\"formatter\":{\"id\":\"3704\"},\"major_label_orientation\":1.5707963267948966,\"ticker\":{\"id\":\"3676\"}},\"id\":\"3675\",\"type\":\"CategoricalAxis\"},{\"attributes\":{\"axis\":{\"id\":\"3678\"},\"dimension\":1,\"grid_line_color\":null,\"ticker\":null},\"id\":\"3681\",\"type\":\"Grid\"},{\"attributes\":{},\"id\":\"3671\",\"type\":\"CategoricalScale\"},{\"attributes\":{\"children\":[{\"id\":\"3662\"},{\"id\":\"3666\"},{\"id\":\"3715\"}],\"margin\":[0,0,0,0],\"name\":\"Row22400\",\"tags\":[\"embedded\"]},\"id\":\"3661\",\"type\":\"Row\"},{\"attributes\":{\"data_source\":{\"id\":\"3695\"},\"glyph\":{\"id\":\"3698\"},\"hover_glyph\":null,\"muted_glyph\":{\"id\":\"3700\"},\"nonselection_glyph\":{\"id\":\"3699\"},\"selection_glyph\":null,\"view\":{\"id\":\"3702\"}},\"id\":\"3701\",\"type\":\"GlyphRenderer\"},{\"attributes\":{\"axis_label\":\"Invoice Amount\",\"bounds\":\"auto\",\"formatter\":{\"id\":\"3706\"},\"major_label_orientation\":\"horizontal\",\"ticker\":{\"id\":\"3679\"}},\"id\":\"3678\",\"type\":\"LinearAxis\"},{\"attributes\":{\"bottom_units\":\"screen\",\"fill_alpha\":0.5,\"fill_color\":\"lightgrey\",\"left_units\":\"screen\",\"level\":\"overlay\",\"line_alpha\":1.0,\"line_color\":\"black\",\"line_dash\":[4,4],\"line_width\":2,\"render_mode\":\"css\",\"right_units\":\"screen\",\"top_units\":\"screen\"},\"id\":\"3687\",\"type\":\"BoxAnnotation\"},{\"attributes\":{\"source\":{\"id\":\"3695\"}},\"id\":\"3702\",\"type\":\"CDSView\"},{\"attributes\":{},\"id\":\"3679\",\"type\":\"BasicTicker\"},{\"attributes\":{},\"id\":\"3713\",\"type\":\"UnionRenderers\"},{\"attributes\":{\"axis\":{\"id\":\"3675\"},\"grid_line_color\":null,\"ticker\":null},\"id\":\"3677\",\"type\":\"Grid\"},{\"attributes\":{\"data\":{\"Customers\":[\"University 1\",\"University 45\",\"University 29\",\"University 107\",\"University 180\",\"University 94\",\"University 308\",\"University 151\",\"University 76\",\"University 65\"],\"Invoice_Amount\":{\"__ndarray__\":\"AAAAAMD38EAAAAAAAGroQAAAAAAAauhAAAAAAABq6EAAAAAAAEzdQAAAAACAotlAAAAAAICi2UAAAAAAQIPZQAAAAACAPtlAAAAAAMDH2EA=\",\"dtype\":\"float64\",\"shape\":[10]}},\"selected\":{\"id\":\"3696\"},\"selection_policy\":{\"id\":\"3713\"}},\"id\":\"3695\",\"type\":\"ColumnDataSource\"},{\"attributes\":{},\"id\":\"3673\",\"type\":\"LinearScale\"},{\"attributes\":{\"callback\":null,\"renderers\":[{\"id\":\"3701\"}],\"tags\":[\"hv_created\"],\"tooltips\":[[\"Customers\",\"@{Customers}\"],[\"Invoice Amount\",\"@{Invoice_Amount}\"]]},\"id\":\"3665\",\"type\":\"HoverTool\"},{\"attributes\":{},\"id\":\"3676\",\"type\":\"CategoricalTicker\"},{\"attributes\":{\"align\":null,\"below\":[{\"id\":\"3675\"}],\"center\":[{\"id\":\"3677\"},{\"id\":\"3681\"}],\"left\":[{\"id\":\"3678\"}],\"margin\":null,\"min_border_bottom\":10,\"min_border_left\":10,\"min_border_right\":10,\"min_border_top\":10,\"plot_height\":300,\"plot_width\":700,\"renderers\":[{\"id\":\"3701\"}],\"sizing_mode\":\"fixed\",\"title\":{\"id\":\"3667\"},\"toolbar\":{\"id\":\"3688\"},\"x_range\":{\"id\":\"3663\"},\"x_scale\":{\"id\":\"3671\"},\"y_range\":{\"id\":\"3664\"},\"y_scale\":{\"id\":\"3673\"}},\"id\":\"3666\",\"subtype\":\"Figure\",\"type\":\"Plot\"},{\"attributes\":{\"overlay\":{\"id\":\"3687\"}},\"id\":\"3685\",\"type\":\"BoxZoomTool\"},{\"attributes\":{},\"id\":\"3704\",\"type\":\"CategoricalTickFormatter\"},{\"attributes\":{},\"id\":\"3706\",\"type\":\"BasicTickFormatter\"},{\"attributes\":{\"factors\":[\"University 1\",\"University 45\",\"University 29\",\"University 107\",\"University 180\",\"University 94\",\"University 308\",\"University 151\",\"University 76\",\"University 65\"],\"tags\":[[[\"Customers\",\"Customers\",null]]]},\"id\":\"3663\",\"type\":\"FactorRange\"},{\"attributes\":{\"margin\":[5,5,5,5],\"name\":\"HSpacer22404\",\"sizing_mode\":\"stretch_width\"},\"id\":\"3662\",\"type\":\"Spacer\"},{\"attributes\":{\"active_drag\":\"auto\",\"active_inspect\":\"auto\",\"active_multi\":null,\"active_scroll\":\"auto\",\"active_tap\":\"auto\",\"tools\":[{\"id\":\"3665\"},{\"id\":\"3682\"},{\"id\":\"3683\"},{\"id\":\"3684\"},{\"id\":\"3685\"},{\"id\":\"3686\"}]},\"id\":\"3688\",\"type\":\"Toolbar\"},{\"attributes\":{\"margin\":[5,5,5,5],\"name\":\"HSpacer22405\",\"sizing_mode\":\"stretch_width\"},\"id\":\"3715\",\"type\":\"Spacer\"},{\"attributes\":{\"end\":73912.5,\"reset_end\":73912.5,\"reset_start\":0.0,\"tags\":[[[\"Invoice Amount\",\"Invoice Amount\",null]]]},\"id\":\"3664\",\"type\":\"Range1d\"}],\"root_ids\":[\"3661\"]},\"title\":\"Bokeh Application\",\"version\":\"2.0.2\"}};\n",
       "  var render_items = [{\"docid\":\"850db45f-a6ec-4547-bf1f-5cd1a02e8726\",\"root_ids\":[\"3661\"],\"roots\":{\"3661\":\"02189159-b11e-4b2b-ae14-2dc577850a5d\"}}];\n",
       "  root.Bokeh.embed.embed_items_notebook(docs_json, render_items);\n",
       "  }\n",
       "if (root.Bokeh !== undefined) {\n",
       "    embed_document(root);\n",
       "  } else {\n",
       "    var attempts = 0;\n",
       "    var timer = setInterval(function(root) {\n",
       "      if (root.Bokeh !== undefined) {\n",
       "        clearInterval(timer);\n",
       "        embed_document(root);\n",
       "      } else if (document.readyState == \"complete\") {\n",
       "        attempts++;\n",
       "        if (attempts > 100) {\n",
       "          clearInterval(timer);\n",
       "          console.log(\"Bokeh: ERROR: Unable to run BokehJS code because BokehJS library is missing\");\n",
       "        }\n",
       "      }\n",
       "    }, 10, root)\n",
       "  }\n",
       "})(window);</script>"
      ],
      "text/plain": [
       ":Bars   [Customers]   (Invoice Amount)"
      ]
     },
     "execution_count": 107,
     "metadata": {
      "application/vnd.holoviews_exec.v0+json": {
       "id": "3661"
      }
     },
     "output_type": "execute_result"
    }
   ],
   "source": [
    "# Getting the data from the top 10 highest customers\n",
    "#sfo(subscription, invoice)\n",
    "\n",
    "customers = avg_price_df.groupby([\"Invoice Amount\", \"Customers\"]).max()\n",
    "top_10_highest_customer = customers.sort_values(by='Invoice Amount', ascending=False).head(10)\n",
    "top_10_highest_customer = top_10_highest_customer.reset_index()\n",
    "top_10_highest_customer\n",
    "top_10_highest_customer_plot = top_10_highest_customer.hvplot.bar(\n",
    "    x='Customers',\n",
    "    y='Invoice Amount',\n",
    "    rot=90,\n",
    "title='Top 10 Highest Customers')\n",
    "top_10_highest_customer_plot"
   ]
  },
  {
   "cell_type": "code",
   "execution_count": null,
   "metadata": {},
   "outputs": [],
   "source": []
  },
  {
   "cell_type": "code",
   "execution_count": null,
   "metadata": {},
   "outputs": [],
   "source": []
  },
  {
   "cell_type": "code",
   "execution_count": null,
   "metadata": {},
   "outputs": [],
   "source": [
    "# Parallel Coordinates Plot\n",
    "#px.parallel_coordinates(top_10_most_expensive, color='sale_price_sqr_foot')\n"
   ]
  },
  {
   "cell_type": "code",
   "execution_count": null,
   "metadata": {},
   "outputs": [],
   "source": [
    "# Parallel Categories Plot\n",
    "#px.parallel_categories(\n",
    "#    top_10_most_expensive,\n",
    "#    dimensions=[\"neighborhood\", \"sale_price_sqr_foot\", \"housing_units\", \"gross_rent\"],\n",
    " #   color=\"sale_price_sqr_foot\",\n",
    "#    color_continuous_scale=px.colors.sequential.Inferno\n",
    "#)"
   ]
  },
  {
   "cell_type": "code",
   "execution_count": null,
   "metadata": {},
   "outputs": [],
   "source": []
  },
  {
   "cell_type": "code",
   "execution_count": 124,
   "metadata": {},
   "outputs": [
    {
     "data": {},
     "metadata": {},
     "output_type": "display_data"
    },
    {
     "data": {},
     "metadata": {},
     "output_type": "display_data"
    },
    {
     "data": {
      "application/vnd.holoviews_exec.v0+json": "",
      "text/html": [
       "<div id='4794'>\n",
       "\n",
       "\n",
       "\n",
       "\n",
       "\n",
       "  <div class=\"bk-root\" id=\"539aa8cf-6a0d-4ea7-992d-7dd152098ab5\" data-root-id=\"4794\"></div>\n",
       "</div>\n",
       "<script type=\"application/javascript\">(function(root) {\n",
       "  function embed_document(root) {\n",
       "  var docs_json = {\"e95caace-48c3-4e3a-be24-2d794be76593\":{\"roots\":{\"references\":[{\"attributes\":{\"fill_color\":{\"field\":\"zvalues\",\"transform\":{\"id\":\"4830\"}},\"height\":{\"units\":\"data\",\"value\":1},\"line_alpha\":{\"value\":0},\"line_color\":{\"value\":\"#1f77b4\"},\"width\":{\"field\":\"width\",\"units\":\"data\"},\"x\":{\"field\":\"date\"},\"y\":{\"field\":\"status2\"}},\"id\":\"4836\",\"type\":\"Rect\"},{\"attributes\":{\"fill_color\":{\"field\":\"zvalues\",\"transform\":{\"id\":\"4830\"}},\"height\":{\"units\":\"data\",\"value\":1},\"line_alpha\":{\"value\":0},\"line_color\":{\"value\":\"#1f77b4\"},\"width\":{\"field\":\"width\",\"units\":\"data\"},\"x\":{\"field\":\"date\"},\"y\":{\"field\":\"status2\"}},\"id\":\"4834\",\"type\":\"Rect\"},{\"attributes\":{\"factors\":[\"B\",\"C\",\"A\"],\"tags\":[[[\"status2\",\"status2\",null]]]},\"id\":\"4799\",\"type\":\"FactorRange\"},{\"attributes\":{\"overlay\":{\"id\":\"4822\"}},\"id\":\"4820\",\"type\":\"BoxZoomTool\"},{\"attributes\":{\"months\":[0,6]},\"id\":\"4862\",\"type\":\"MonthsTicker\"},{\"attributes\":{},\"id\":\"4821\",\"type\":\"ResetTool\"},{\"attributes\":{},\"id\":\"4817\",\"type\":\"SaveTool\"},{\"attributes\":{\"axis\":{\"id\":\"4810\"},\"grid_line_color\":null,\"ticker\":null},\"id\":\"4813\",\"type\":\"Grid\"},{\"attributes\":{\"days\":[1,15]},\"id\":\"4858\",\"type\":\"DaysTicker\"},{\"attributes\":{},\"id\":\"4863\",\"type\":\"YearsTicker\"},{\"attributes\":{},\"id\":\"4845\",\"type\":\"CategoricalTickFormatter\"},{\"attributes\":{},\"id\":\"4819\",\"type\":\"WheelZoomTool\"},{\"attributes\":{\"fill_alpha\":{\"value\":0.1},\"fill_color\":{\"field\":\"zvalues\",\"transform\":{\"id\":\"4830\"}},\"height\":{\"units\":\"data\",\"value\":1},\"line_alpha\":{\"value\":0},\"line_color\":{\"value\":\"#1f77b4\"},\"width\":{\"field\":\"width\",\"units\":\"data\"},\"x\":{\"field\":\"date\"},\"y\":{\"field\":\"status2\"}},\"id\":\"4835\",\"type\":\"Rect\"},{\"attributes\":{},\"id\":\"4832\",\"type\":\"Selection\"},{\"attributes\":{\"mantissas\":[1,2,5],\"max_interval\":500.0,\"num_minor_ticks\":0},\"id\":\"4852\",\"type\":\"AdaptiveTicker\"},{\"attributes\":{\"days\":[1,8,15,22]},\"id\":\"4857\",\"type\":\"DaysTicker\"},{\"attributes\":{\"source\":{\"id\":\"4831\"}},\"id\":\"4838\",\"type\":\"CDSView\"},{\"attributes\":{\"data\":{\"date\":{\"__ndarray__\":\"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\",\"dtype\":\"float64\",\"shape\":[366]},\"status2\":[\"A\",\"B\",\"C\",\"A\",\"B\",\"C\",\"A\",\"B\",\"C\",\"A\",\"B\",\"C\",\"A\",\"B\",\"C\",\"A\",\"B\",\"C\",\"A\",\"B\",\"C\",\"A\",\"B\",\"C\",\"A\",\"B\",\"C\",\"A\",\"B\",\"C\",\"A\",\"B\",\"C\",\"A\",\"B\",\"C\",\"A\",\"B\",\"C\",\"A\",\"B\",\"C\",\"A\",\"B\",\"C\",\"A\",\"B\",\"C\",\"A\",\"B\",\"C\",\"A\",\"B\",\"C\",\"A\",\"B\",\"C\",\"A\",\"B\",\"C\",\"A\",\"B\",\"C\",\"A\",\"B\",\"C\",\"A\",\"B\",\"C\",\"A\",\"B\",\"C\",\"A\",\"B\",\"C\",\"A\",\"B\",\"C\",\"A\",\"B\",\"C\",\"A\",\"B\",\"C\",\"A\",\"B\",\"C\",\"A\",\"B\",\"C\",\"A\",\"B\",\"C\",\"A\",\"B\",\"C\",\"A\",\"B\",\"C\",\"A\",\"B\",\"C\",\"A\",\"B\",\"C\",\"A\",\"B\",\"C\",\"A\",\"B\",\"C\",\"A\",\"B\",\"C\",\"A\",\"B\",\"C\",\"A\",\"B\",\"C\",\"A\",\"B\",\"C\",\"A\",\"B\",\"C\",\"A\",\"B\",\"C\",\"A\",\"B\",\"C\",\"A\",\"B\",\"C\",\"A\",\"B\",\"C\",\"A\",\"B\",\"C\",\"A\",\"B\",\"C\",\"A\",\"B\",\"C\",\"A\",\"B\",\"C\",\"A\",\"B\",\"C\",\"A\",\"B\",\"C\",\"A\",\"B\",\"C\",\"A\",\"B\",\"C\",\"A\",\"B\",\"C\",\"A\",\"B\",\"C\",\"A\",\"B\",\"C\",\"A\",\"B\",\"C\",\"A\",\"B\",\"C\",\"A\",\"B\",\"C\",\"A\",\"B\",\"C\",\"A\",\"B\",\"C\",\"A\",\"B\",\"C\",\"A\",\"B\",\"C\",\"A\",\"B\",\"C\",\"A\",\"B\",\"C\",\"A\",\"B\",\"C\",\"A\",\"B\",\"C\",\"A\",\"B\",\"C\",\"A\",\"B\",\"C\",\"A\",\"B\",\"C\",\"A\",\"B\",\"C\",\"A\",\"B\",\"C\",\"A\",\"B\",\"C\",\"A\",\"B\",\"C\",\"A\",\"B\",\"C\",\"A\",\"B\",\"C\",\"A\",\"B\",\"C\",\"A\",\"B\",\"C\",\"A\",\"B\",\"C\",\"A\",\"B\",\"C\",\"A\",\"B\",\"C\",\"A\",\"B\",\"C\",\"A\",\"B\",\"C\",\"A\",\"B\",\"C\",\"A\",\"B\",\"C\",\"A\",\"B\",\"C\",\"A\",\"B\",\"C\",\"A\",\"B\",\"C\",\"A\",\"B\",\"C\",\"A\",\"B\",\"C\",\"A\",\"B\",\"C\",\"A\",\"B\",\"C\",\"A\",\"B\",\"C\",\"A\",\"B\",\"C\",\"A\",\"B\",\"C\",\"A\",\"B\",\"C\",\"A\",\"B\",\"C\",\"A\",\"B\",\"C\",\"A\",\"B\",\"C\",\"A\",\"B\",\"C\",\"A\",\"B\",\"C\",\"A\",\"B\",\"C\",\"A\",\"B\",\"C\",\"A\",\"B\",\"C\",\"A\",\"B\",\"C\",\"A\",\"B\",\"C\",\"A\",\"B\",\"C\",\"A\",\"B\",\"C\",\"A\",\"B\",\"C\",\"A\",\"B\",\"C\",\"A\",\"B\",\"C\",\"A\",\"B\",\"C\",\"A\",\"B\",\"C\",\"A\",\"B\",\"C\",\"A\",\"B\",\"C\",\"A\",\"B\",\"C\",\"A\",\"B\",\"C\",\"A\",\"B\",\"C\",\"A\",\"B\",\"C\",\"A\",\"B\",\"C\",\"A\",\"B\",\"C\"],\"value\":[\"-\",\"63.509\",\"-\",\"-\",\"-\",\"22.766\",\"-\",\"36.708\",\"-\",\"-\",\"94.271\",\"-\",\"-\",\"-\",\"54.383\",\"-\",\"47.553\",\"-\",\"7.1375\",\"-\",\"-\",\"-\",\"-\",\"16.82\",\"-\",\"-\",\"20.596\",\"-\",\"68.539\",\"-\",\"-\",\"-\",\"46.708\",\"-\",\"-\",\"32.909\",\"-\",\"-\",\"24.34\",\"-\",\"75.416\",\"-\",\"-\",\"-\",\"38.59\",\"40.225\",\"-\",\"-\",\"-\",\"-\",\"29.104\",\"-\",\"-\",\"87.449\",\"55.81\",\"-\",\"-\",\"-\",\"73.117\",\"-\",\"48.322\",\"-\",\"-\",\"-\",\"-\",\"48.687\",\"15.837\",\"-\",\"-\",\"6.1655\",\"-\",\"-\",\"-\",\"32.028\",\"-\",\"-\",\"-\",\"79.375\",\"-\",\"78.955\",\"-\",\"-\",\"-\",\"33.082\",\"-\",\"-\",\"91.513\",\"-\",\"-\",\"41.751\",\"-\",\"12.106\",\"-\",\"-\",\"-\",\"91.482\",\"-\",\"-\",\"14.456\",\"-\",\"-\",\"56.859\",\"-\",\"17.028\",\"-\",\"-\",\"-\",\"15.978\",\"-\",\"0.076536\",\"-\",\"-\",\"42.426\",\"-\",\"-\",\"18.867\",\"-\",\"93.57\",\"-\",\"-\",\"75.746\",\"-\",\"-\",\"66.883\",\"-\",\"-\",\"-\",\"95.662\",\"-\",\"1.6144\",\"-\",\"-\",\"-\",\"-\",\"47.661\",\"93.139\",\"-\",\"-\",\"-\",\"2.4162\",\"-\",\"-\",\"98.533\",\"-\",\"-\",\"50.061\",\"-\",\"-\",\"10.595\",\"-\",\"-\",\"-\",\"39.465\",\"37.145\",\"-\",\"-\",\"-\",\"-\",\"37.078\",\"-\",\"-\",\"65.885\",\"-\",\"-\",\"97.368\",\"-\",\"-\",\"97.936\",\"-\",\"45.136\",\"-\",\"-\",\"81.349\",\"-\",\"-\",\"-\",\"74.372\",\"-\",\"73.421\",\"-\",\"87.215\",\"-\",\"-\",\"68.655\",\"-\",\"-\",\"54.705\",\"-\",\"-\",\"72.78\",\"-\",\"-\",\"-\",\"96.44\",\"-\",\"3.4904\",\"-\",\"-\",\"-\",\"-\",\"39.16\",\"20.014\",\"-\",\"-\",\"-\",\"99.877\",\"-\",\"-\",\"-\",\"98.026\",\"-\",\"-\",\"53.655\",\"-\",\"-\",\"80.186\",\"-\",\"-\",\"71.993\",\"30.701\",\"-\",\"-\",\"-\",\"59.376\",\"-\",\"-\",\"-\",\"42.048\",\"-\",\"51.692\",\"-\",\"5.1523\",\"-\",\"-\",\"32.321\",\"-\",\"-\",\"-\",\"-\",\"52.975\",\"-\",\"-\",\"28.358\",\"45.57\",\"-\",\"-\",\"-\",\"75.089\",\"-\",\"15.494\",\"-\",\"-\",\"-\",\"52.257\",\"-\",\"-\",\"64.944\",\"-\",\"-\",\"-\",\"23.61\",\"-\",\"0.99148\",\"-\",\"-\",\"71.199\",\"-\",\"11.842\",\"-\",\"-\",\"-\",\"72.663\",\"-\",\"-\",\"-\",\"1.2816\",\"-\",\"-\",\"32.939\",\"59.006\",\"-\",\"-\",\"-\",\"-\",\"18.198\",\"-\",\"5.2131\",\"-\",\"87.636\",\"-\",\"-\",\"-\",\"34.454\",\"-\",\"-\",\"-\",\"42.87\",\"-\",\"72.742\",\"-\",\"-\",\"70.684\",\"-\",\"34.381\",\"-\",\"-\",\"-\",\"22.368\",\"-\",\"-\",\"25.218\",\"-\",\"-\",\"-\",\"61.355\",\"5.4404\",\"-\",\"-\",\"-\",\"-\",\"89.56\",\"-\",\"-\",\"14.772\",\"-\",\"-\",\"25.22\",\"-\",\"23.791\",\"-\",\"-\",\"59.163\",\"-\",\"-\",\"-\",\"0.70515\",\"-\",\"11.611\",\"-\",\"-\",\"22.834\",\"-\",\"-\",\"-\",\"61.268\",\"-\",\"78.207\",\"-\",\"-\",\"20.826\",\"-\",\"-\",\"-\",\"83.791\",\"-\",\"54.866\",\"-\",\"-\",\"-\",\"11.382\",\"33.566\",\"-\",\"-\",\"23.417\",\"-\",\"-\"],\"width\":{\"__ndarray__\":\"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\",\"dtype\":\"float64\",\"shape\":[366]},\"zvalues\":{\"__ndarray__\":\"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\",\"dtype\":\"float64\",\"shape\":[366]}},\"selected\":{\"id\":\"4832\"},\"selection_policy\":{\"id\":\"4865\"}},\"id\":\"4831\",\"type\":\"ColumnDataSource\"},{\"attributes\":{},\"id\":\"4865\",\"type\":\"UnionRenderers\"},{\"attributes\":{\"months\":[0,1,2,3,4,5,6,7,8,9,10,11]},\"id\":\"4859\",\"type\":\"MonthsTicker\"},{\"attributes\":{\"bar_line_color\":{\"value\":\"black\"},\"color_mapper\":{\"id\":\"4830\"},\"formatter\":{\"id\":\"4851\"},\"label_standoff\":8,\"location\":[0,0],\"major_tick_line_color\":\"black\",\"ticker\":{\"id\":\"4839\"}},\"id\":\"4840\",\"type\":\"ColorBar\"},{\"attributes\":{\"base\":24,\"mantissas\":[1,2,4,6,8,12],\"max_interval\":43200000.0,\"min_interval\":3600000.0,\"num_minor_ticks\":0},\"id\":\"4854\",\"type\":\"AdaptiveTicker\"},{\"attributes\":{\"months\":[0,2,4,6,8,10]},\"id\":\"4860\",\"type\":\"MonthsTicker\"},{\"attributes\":{\"bottom_units\":\"screen\",\"fill_alpha\":0.5,\"fill_color\":\"lightgrey\",\"left_units\":\"screen\",\"level\":\"overlay\",\"line_alpha\":1.0,\"line_color\":\"black\",\"line_dash\":[4,4],\"line_width\":2,\"render_mode\":\"css\",\"right_units\":\"screen\",\"top_units\":\"screen\"},\"id\":\"4822\",\"type\":\"BoxAnnotation\"},{\"attributes\":{\"margin\":[5,10,5,10],\"options\":[\"confirmed\",\"bedridden\",\"recovered\"],\"title\":\"chosen_type\",\"value\":\"confirmed\"},\"id\":\"4796\",\"type\":\"Select\"},{\"attributes\":{\"days\":[1,2,3,4,5,6,7,8,9,10,11,12,13,14,15,16,17,18,19,20,21,22,23,24,25,26,27,28,29,30,31]},\"id\":\"4855\",\"type\":\"DaysTicker\"},{\"attributes\":{},\"id\":\"4843\",\"type\":\"DatetimeTickFormatter\"},{\"attributes\":{},\"id\":\"4818\",\"type\":\"PanTool\"},{\"attributes\":{\"children\":[{\"id\":\"4801\"}],\"margin\":[0,0,0,0],\"name\":\"Row30653\"},\"id\":\"4797\",\"type\":\"Row\"},{\"attributes\":{\"end\":1609459200000.0,\"reset_end\":1609459200000.0,\"reset_start\":1577966400000.0,\"start\":1577966400000.0,\"tags\":[[[\"date\",\"date\",null]]]},\"id\":\"4798\",\"type\":\"Range1d\"},{\"attributes\":{\"children\":[{\"id\":\"4796\"}],\"margin\":[0,0,0,0],\"name\":\"Column30654\"},\"id\":\"4795\",\"type\":\"Column\"},{\"attributes\":{\"text\":\"\",\"text_color\":{\"value\":\"black\"},\"text_font_size\":{\"value\":\"12pt\"}},\"id\":\"4802\",\"type\":\"Title\"},{\"attributes\":{\"children\":[{\"id\":\"4795\"},{\"id\":\"4797\"}],\"margin\":[0,0,0,0],\"name\":\"Column29335\"},\"id\":\"4794\",\"type\":\"Column\"},{\"attributes\":{},\"id\":\"4851\",\"type\":\"BasicTickFormatter\"},{\"attributes\":{\"active_drag\":\"auto\",\"active_inspect\":\"auto\",\"active_multi\":null,\"active_scroll\":\"auto\",\"active_tap\":\"auto\",\"tools\":[{\"id\":\"4800\"},{\"id\":\"4817\"},{\"id\":\"4818\"},{\"id\":\"4819\"},{\"id\":\"4820\"},{\"id\":\"4821\"}]},\"id\":\"4823\",\"type\":\"Toolbar\"},{\"attributes\":{\"callback\":null,\"formatters\":{\"@{date}\":\"datetime\"},\"renderers\":[{\"id\":\"4837\"}],\"tags\":[\"hv_created\"],\"tooltips\":[[\"date\",\"@{date}{%F %T}\"],[\"status2\",\"@{status2}\"],[\"value\",\"@{value}\"]]},\"id\":\"4800\",\"type\":\"HoverTool\"},{\"attributes\":{\"client_comm_id\":\"2f6637f452de47d4ae61df9e79ca04f2\",\"comm_id\":\"e2642e7564064fe69146c8dfb2f9ae8f\",\"plot_id\":\"4794\"},\"id\":\"4930\",\"type\":\"panel.models.comm_manager.CommManager\"},{\"attributes\":{\"high\":99.87674951540394,\"low\":0.07653568484415896,\"nan_color\":\"white\",\"palette\":[\"#b3fef5\",\"#b0fef5\",\"#adfdf5\",\"#a9fcf5\",\"#a6fbf6\",\"#a3faf6\",\"#a0faf6\",\"#9df9f6\",\"#9af8f6\",\"#97f7f6\",\"#93f7f6\",\"#90f6f6\",\"#8df5f6\",\"#8af4f7\",\"#87f3f7\",\"#83f2f7\",\"#80f2f7\",\"#7df1f7\",\"#79f0f7\",\"#76eff7\",\"#73eef7\",\"#6fedf8\",\"#6cecf8\",\"#68ecf8\",\"#65ebf8\",\"#61eaf8\",\"#5ee9f8\",\"#5ae8f8\",\"#57e7f8\",\"#53e6f8\",\"#50e5f9\",\"#4ce4f9\",\"#49e3f9\",\"#45e2f9\",\"#42e1f9\",\"#3ee0f9\",\"#3bdff9\",\"#38def9\",\"#35ddf9\",\"#32dcf9\",\"#30dbfa\",\"#2ed9fa\",\"#2dd8fa\",\"#2cd7fa\",\"#2bd6fa\",\"#2bd5fa\",\"#2ad3fa\",\"#2ad2fa\",\"#29d1fa\",\"#29d0fb\",\"#29cffb\",\"#28cdfb\",\"#28ccfb\",\"#28cbfb\",\"#28cafb\",\"#28c8fb\",\"#28c7fb\",\"#29c6fb\",\"#29c5fb\",\"#29c4fb\",\"#29c2fb\",\"#2ac1fb\",\"#2ac0fb\",\"#2bbffb\",\"#2bbdfc\",\"#2cbcfc\",\"#2dbbfc\",\"#2db9fc\",\"#2eb8fc\",\"#2fb7fc\",\"#2fb6fc\",\"#30b4fc\",\"#31b3fc\",\"#32b2fc\",\"#32b0fc\",\"#33affc\",\"#33aefc\",\"#34adfc\",\"#34abfc\",\"#34aafc\",\"#35a9fc\",\"#35a8fc\",\"#35a6fc\",\"#35a5fc\",\"#35a4fc\",\"#35a3fc\",\"#35a1fc\",\"#35a0fc\",\"#359ffc\",\"#359dfc\",\"#359cfc\",\"#359bfc\",\"#349afd\",\"#3498fd\",\"#3497fd\",\"#3396fd\",\"#3395fd\",\"#3293fd\",\"#3292fd\",\"#3191fd\",\"#3090fd\",\"#308ffd\",\"#2f8dfd\",\"#2f8cfd\",\"#2e8bfd\",\"#2e8afd\",\"#2d88fd\",\"#2d87fd\",\"#2c86fd\",\"#2c84fd\",\"#2c83fd\",\"#2c82fd\",\"#2b81fd\",\"#2b7ffd\",\"#2b7efd\",\"#2b7dfd\",\"#2b7bfd\",\"#2b7afd\",\"#2b79fd\",\"#2b77fd\",\"#2b76fd\",\"#2b75fd\",\"#2b73fd\",\"#2c72fd\",\"#2c71fd\",\"#2c6ffd\",\"#2c6efd\",\"#2d6cfd\",\"#2d6bfd\",\"#2d6afc\",\"#2e68fc\",\"#2e67fc\",\"#2e65fc\",\"#2e64fc\",\"#2f62fc\",\"#2f61fc\",\"#2f5ffc\",\"#2f5efc\",\"#2f5dfc\",\"#2f5bfc\",\"#2f5afc\",\"#2f58fb\",\"#2f57fb\",\"#2f55fb\",\"#2f53fb\",\"#2f52fb\",\"#2f50fb\",\"#2f4ffb\",\"#2f4dfb\",\"#2e4cfb\",\"#2e4afb\",\"#2e48fb\",\"#2e47fa\",\"#2d45fa\",\"#2d43fa\",\"#2d42fa\",\"#2d40fa\",\"#2c3efa\",\"#2c3dfa\",\"#2b3bf9\",\"#2b39f9\",\"#2a37f9\",\"#2a36f8\",\"#2934f8\",\"#2832f7\",\"#2831f7\",\"#272ff6\",\"#262ef5\",\"#252cf5\",\"#252af4\",\"#2429f3\",\"#2327f2\",\"#2226f1\",\"#2124f0\",\"#2023ef\",\"#1f22ee\",\"#1e20ed\",\"#1d1feb\",\"#1c1eea\",\"#1b1ce9\",\"#1a1be7\",\"#181ae6\",\"#1719e5\",\"#1618e3\",\"#1417e1\",\"#1316e0\",\"#1215de\",\"#1014dc\",\"#0f13db\",\"#0e12d9\",\"#0d11d7\",\"#0c10d5\",\"#0b0fd3\",\"#0a0ed1\",\"#090dd0\",\"#080dce\",\"#080ccc\",\"#070bca\",\"#070ac8\",\"#0709c6\",\"#0708c4\",\"#0707c2\",\"#0707bf\",\"#0806bd\",\"#0806bb\",\"#0905b9\",\"#0904b7\",\"#0a04b5\",\"#0a04b2\",\"#0b03b0\",\"#0c03ae\",\"#0d02ab\",\"#0e02a9\",\"#0e02a7\",\"#0f02a4\",\"#0f01a2\",\"#1001a0\",\"#10019d\",\"#10019b\",\"#100199\",\"#100197\",\"#100194\",\"#0f0192\",\"#0f0190\",\"#0f018e\",\"#0e018b\",\"#0e0189\",\"#0d0187\",\"#0d0185\",\"#0c0183\",\"#0b0181\",\"#0b017e\",\"#0a017c\",\"#09017a\",\"#090178\",\"#080276\",\"#070274\",\"#060272\",\"#060270\",\"#05026e\",\"#04026c\",\"#030269\",\"#030267\",\"#020265\",\"#010263\",\"#010261\",\"#00025f\",\"#00025d\",\"#00025b\",\"#000259\",\"#000257\",\"#000255\",\"#000154\",\"#000152\",\"#000150\",\"#00004e\"]},\"id\":\"4830\",\"type\":\"LinearColorMapper\"},{\"attributes\":{},\"id\":\"4806\",\"type\":\"LinearScale\"},{\"attributes\":{\"align\":null,\"below\":[{\"id\":\"4810\"}],\"center\":[{\"id\":\"4813\"},{\"id\":\"4816\"}],\"left\":[{\"id\":\"4814\"}],\"margin\":null,\"min_border_bottom\":10,\"min_border_left\":10,\"min_border_right\":10,\"min_border_top\":10,\"plot_height\":300,\"plot_width\":700,\"renderers\":[{\"id\":\"4837\"}],\"right\":[{\"id\":\"4840\"}],\"sizing_mode\":\"fixed\",\"title\":{\"id\":\"4802\"},\"toolbar\":{\"id\":\"4823\"},\"x_range\":{\"id\":\"4798\"},\"x_scale\":{\"id\":\"4806\"},\"y_range\":{\"id\":\"4799\"},\"y_scale\":{\"id\":\"4808\"}},\"id\":\"4801\",\"subtype\":\"Figure\",\"type\":\"Plot\"},{\"attributes\":{},\"id\":\"4808\",\"type\":\"CategoricalScale\"},{\"attributes\":{\"base\":60,\"mantissas\":[1,2,5,10,15,20,30],\"max_interval\":1800000.0,\"min_interval\":1000.0,\"num_minor_ticks\":0},\"id\":\"4853\",\"type\":\"AdaptiveTicker\"},{\"attributes\":{},\"id\":\"4839\",\"type\":\"BasicTicker\"},{\"attributes\":{\"axis_label\":\"date\",\"bounds\":\"auto\",\"formatter\":{\"id\":\"4843\"},\"major_label_orientation\":\"horizontal\",\"ticker\":{\"id\":\"4811\"}},\"id\":\"4810\",\"type\":\"DatetimeAxis\"},{\"attributes\":{\"days\":[1,4,7,10,13,16,19,22,25,28]},\"id\":\"4856\",\"type\":\"DaysTicker\"},{\"attributes\":{\"months\":[0,4,8]},\"id\":\"4861\",\"type\":\"MonthsTicker\"},{\"attributes\":{\"axis\":{\"id\":\"4814\"},\"dimension\":1,\"grid_line_color\":null,\"ticker\":null},\"id\":\"4816\",\"type\":\"Grid\"},{\"attributes\":{\"axis_label\":\"status2\",\"bounds\":\"auto\",\"formatter\":{\"id\":\"4845\"},\"major_label_orientation\":\"horizontal\",\"ticker\":{\"id\":\"4815\"}},\"id\":\"4814\",\"type\":\"CategoricalAxis\"},{\"attributes\":{\"data_source\":{\"id\":\"4831\"},\"glyph\":{\"id\":\"4834\"},\"hover_glyph\":null,\"muted_glyph\":null,\"nonselection_glyph\":{\"id\":\"4835\"},\"selection_glyph\":{\"id\":\"4836\"},\"view\":{\"id\":\"4838\"}},\"id\":\"4837\",\"type\":\"GlyphRenderer\"},{\"attributes\":{},\"id\":\"4815\",\"type\":\"CategoricalTicker\"},{\"attributes\":{\"num_minor_ticks\":5,\"tickers\":[{\"id\":\"4852\"},{\"id\":\"4853\"},{\"id\":\"4854\"},{\"id\":\"4855\"},{\"id\":\"4856\"},{\"id\":\"4857\"},{\"id\":\"4858\"},{\"id\":\"4859\"},{\"id\":\"4860\"},{\"id\":\"4861\"},{\"id\":\"4862\"},{\"id\":\"4863\"}]},\"id\":\"4811\",\"type\":\"DatetimeTicker\"}],\"root_ids\":[\"4794\",\"4930\"]},\"title\":\"Bokeh Application\",\"version\":\"2.0.2\"}};\n",
       "  var render_items = [{\"docid\":\"e95caace-48c3-4e3a-be24-2d794be76593\",\"root_ids\":[\"4794\"],\"roots\":{\"4794\":\"539aa8cf-6a0d-4ea7-992d-7dd152098ab5\"}}];\n",
       "  root.Bokeh.embed.embed_items_notebook(docs_json, render_items);\n",
       "  }\n",
       "if (root.Bokeh !== undefined) {\n",
       "    embed_document(root);\n",
       "  } else {\n",
       "    var attempts = 0;\n",
       "    var timer = setInterval(function(root) {\n",
       "      if (root.Bokeh !== undefined) {\n",
       "        clearInterval(timer);\n",
       "        embed_document(root);\n",
       "      } else if (document.readyState == \"complete\") {\n",
       "        attempts++;\n",
       "        if (attempts > 100) {\n",
       "          clearInterval(timer);\n",
       "          console.log(\"Bokeh: ERROR: Unable to run BokehJS code because BokehJS library is missing\");\n",
       "        }\n",
       "      }\n",
       "    }, 10, root)\n",
       "  }\n",
       "})(window);</script>"
      ],
      "text/plain": [
       "Column\n",
       "    [0] Column\n",
       "        [0] Select(name='chosen_type', options=['confirmed', ...], value='confirmed')\n",
       "    [1] Row\n",
       "        [0] HoloViews(HeatMap, name='interactive29334')"
      ]
     },
     "execution_count": 124,
     "metadata": {
      "application/vnd.holoviews_exec.v0+json": {
       "id": "4794"
      }
     },
     "output_type": "execute_result"
    }
   ],
   "source": [
    "# import libraries\n",
    "import numpy as np\n",
    "import pandas as pd\n",
    "import hvplot.pandas\n",
    "import panel as pn\n",
    "pn.extension()\n",
    "# create sample data\n",
    "df = pd.DataFrame({\n",
    "    'date': pd.date_range(start='01-01-2020', end='31-12-2020'),\n",
    "    'status': np.random.choice(['confirmed', 'bedridden', 'recovered'], 366),\n",
    "    'status2': np.random.choice(['A', 'B', 'C'], 366),\n",
    "    'value': np.random.rand(366) * 100\n",
    "})\n",
    "types = ['confirmed', 'bedridden', 'recovered']\n",
    "# you need to return your plot to get the interaction\n",
    "def plot_heatmap(chosen_type):\n",
    "    df_selected = df[df['status']==chosen_type]\n",
    "    # hvplot is handy for creating interactive plots\n",
    "    heatmap = df_selected.hvplot.heatmap(x='date', y='status2', C='value')\n",
    "    return heatmap\n",
    "# show your interactive plot with dropdown   \n",
    "pn.interact(plot_heatmap, chosen_type=types)"
   ]
  },
  {
   "cell_type": "code",
   "execution_count": 149,
   "metadata": {},
   "outputs": [
    {
     "data": {},
     "metadata": {},
     "output_type": "display_data"
    },
    {
     "data": {},
     "metadata": {},
     "output_type": "display_data"
    },
    {
     "data": {
      "application/vnd.holoviews_exec.v0+json": "",
      "text/html": [
       "<div id='6340'>\n",
       "\n",
       "\n",
       "\n",
       "\n",
       "\n",
       "  <div class=\"bk-root\" id=\"2c540a70-4b46-49ae-b3cc-f467f0719384\" data-root-id=\"6340\"></div>\n",
       "</div>\n",
       "<script type=\"application/javascript\">(function(root) {\n",
       "  function embed_document(root) {\n",
       "  var docs_json = {\"e80a02c4-a319-4347-ab2f-06dbf307f0b8\":{\"roots\":{\"references\":[{\"attributes\":{\"data_source\":{\"id\":\"6377\"},\"glyph\":{\"id\":\"6380\"},\"hover_glyph\":null,\"muted_glyph\":{\"id\":\"6382\"},\"nonselection_glyph\":{\"id\":\"6381\"},\"selection_glyph\":null,\"view\":{\"id\":\"6384\"}},\"id\":\"6383\",\"type\":\"GlyphRenderer\"},{\"attributes\":{\"children\":[{\"id\":\"6341\"},{\"id\":\"6344\"}],\"margin\":[0,0,0,0],\"name\":\"Column33758\"},\"id\":\"6340\",\"type\":\"Column\"},{\"attributes\":{\"axis_label\":\"Customers\",\"bounds\":\"auto\",\"formatter\":{\"id\":\"6387\"},\"major_label_orientation\":\"horizontal\",\"ticker\":{\"id\":\"6358\"}},\"id\":\"6357\",\"type\":\"CategoricalAxis\"},{\"attributes\":{\"margin\":[5,10,5,10],\"options\":[\"1 Year\",\"2 Years\",\"3 Years\",\"3 Months\",\"6 Months\",\"30 Days\",\"5 Months\",\"18 mo\"],\"title\":\"subscription_filter\",\"value\":\"1 Year\"},\"id\":\"6343\",\"type\":\"Select\"},{\"attributes\":{},\"id\":\"6353\",\"type\":\"CategoricalScale\"},{\"attributes\":{\"bottom_units\":\"screen\",\"fill_alpha\":0.5,\"fill_color\":\"lightgrey\",\"left_units\":\"screen\",\"level\":\"overlay\",\"line_alpha\":1.0,\"line_color\":\"black\",\"line_dash\":[4,4],\"line_width\":2,\"render_mode\":\"css\",\"right_units\":\"screen\",\"top_units\":\"screen\"},\"id\":\"6369\",\"type\":\"BoxAnnotation\"},{\"attributes\":{\"fill_color\":{\"value\":\"#1f77b3\"},\"top\":{\"field\":\"Invoice_Amount\"},\"width\":{\"value\":0.8},\"x\":{\"field\":\"Customers\"}},\"id\":\"6380\",\"type\":\"VBar\"},{\"attributes\":{\"fill_alpha\":{\"value\":0.1},\"fill_color\":{\"value\":\"#1f77b3\"},\"line_alpha\":{\"value\":0.1},\"top\":{\"field\":\"Invoice_Amount\"},\"width\":{\"value\":0.8},\"x\":{\"field\":\"Customers\"}},\"id\":\"6381\",\"type\":\"VBar\"},{\"attributes\":{},\"id\":\"6365\",\"type\":\"PanTool\"},{\"attributes\":{\"overlay\":{\"id\":\"6369\"}},\"id\":\"6367\",\"type\":\"BoxZoomTool\"},{\"attributes\":{\"client_comm_id\":\"30369fd65e854942a4f8d6d32d2dd51c\",\"comm_id\":\"0819ccfecbb74c1badd55c0b9d17b0a4\",\"plot_id\":\"6340\"},\"id\":\"6420\",\"type\":\"panel.models.comm_manager.CommManager\"},{\"attributes\":{\"data\":{\"Customers\":[\"University 1\"],\"Invoice_Amount\":[1]},\"selected\":{\"id\":\"6378\"},\"selection_policy\":{\"id\":\"6397\"}},\"id\":\"6377\",\"type\":\"ColumnDataSource\"},{\"attributes\":{\"callback\":null,\"renderers\":[{\"id\":\"6383\"}],\"tags\":[\"hv_created\"],\"tooltips\":[[\"Customers\",\"@{Customers}\"],[\"Invoice Amount\",\"@{Invoice_Amount}\"]]},\"id\":\"6347\",\"type\":\"HoverTool\"},{\"attributes\":{\"active_drag\":\"auto\",\"active_inspect\":\"auto\",\"active_multi\":null,\"active_scroll\":\"auto\",\"active_tap\":\"auto\",\"tools\":[{\"id\":\"6347\"},{\"id\":\"6364\"},{\"id\":\"6365\"},{\"id\":\"6366\"},{\"id\":\"6367\"},{\"id\":\"6368\"}]},\"id\":\"6370\",\"type\":\"Toolbar\"},{\"attributes\":{\"children\":[{\"id\":\"6348\"}],\"margin\":[0,0,0,0],\"name\":\"Row33885\"},\"id\":\"6344\",\"type\":\"Row\"},{\"attributes\":{\"axis\":{\"id\":\"6357\"},\"grid_line_color\":null,\"ticker\":null},\"id\":\"6359\",\"type\":\"Grid\"},{\"attributes\":{},\"id\":\"6358\",\"type\":\"CategoricalTicker\"},{\"attributes\":{\"axis_label\":\"Invoice Amount\",\"bounds\":\"auto\",\"formatter\":{\"id\":\"6385\"},\"major_label_orientation\":\"horizontal\",\"ticker\":{\"id\":\"6361\"}},\"id\":\"6360\",\"type\":\"LinearAxis\"},{\"attributes\":{},\"id\":\"6368\",\"type\":\"ResetTool\"},{\"attributes\":{},\"id\":\"6378\",\"type\":\"Selection\"},{\"attributes\":{},\"id\":\"6397\",\"type\":\"UnionRenderers\"},{\"attributes\":{\"format\":\"%0f\"},\"id\":\"6385\",\"type\":\"PrintfTickFormatter\"},{\"attributes\":{},\"id\":\"6387\",\"type\":\"CategoricalTickFormatter\"},{\"attributes\":{\"factors\":[\"University 1\"],\"tags\":[[[\"Customers\",\"Customers\",null]]]},\"id\":\"6345\",\"type\":\"FactorRange\"},{\"attributes\":{},\"id\":\"6366\",\"type\":\"WheelZoomTool\"},{\"attributes\":{},\"id\":\"6361\",\"type\":\"BasicTicker\"},{\"attributes\":{},\"id\":\"6355\",\"type\":\"LinearScale\"},{\"attributes\":{\"children\":[{\"id\":\"6342\"},{\"id\":\"6343\"}],\"margin\":[0,0,0,0],\"name\":\"Column33886\"},\"id\":\"6341\",\"type\":\"Column\"},{\"attributes\":{\"reset_end\":1.0,\"reset_start\":0.0,\"tags\":[[[\"Invoice Amount\",\"Invoice Amount\",null]]]},\"id\":\"6346\",\"type\":\"Range1d\"},{\"attributes\":{\"fill_alpha\":{\"value\":0.2},\"fill_color\":{\"value\":\"#1f77b3\"},\"line_alpha\":{\"value\":0.2},\"top\":{\"field\":\"Invoice_Amount\"},\"width\":{\"value\":0.8},\"x\":{\"field\":\"Customers\"}},\"id\":\"6382\",\"type\":\"VBar\"},{\"attributes\":{\"margin\":[5,10,5,10],\"options\":[\"University 1\",\"University 10\",\"University 100\",\"University 101\",\"University 102\",\"University 103\",\"University 104\",\"University 105\",\"University 106\",\"University 107\",\"University 108\",\"University 109\",\"University 11\",\"University 110\",\"University 111\",\"University 112\",\"University 113\",\"University 114\",\"University 115\",\"University 116\",\"University 117\",\"University 118\",\"University 119\",\"University 12\",\"University 120\",\"University 121\",\"University 122\",\"University 123\",\"University 124\",\"University 125\",\"University 126\",\"University 127\",\"University 128\",\"University 129\",\"University 13\",\"University 130\",\"University 131\",\"University 132\",\"University 133\",\"University 134\",\"University 135\",\"University 136\",\"University 137\",\"University 138\",\"University 139\",\"University 14\",\"University 140\",\"University 141\",\"University 142\",\"University 143\",\"University 144\",\"University 145\",\"University 146\",\"University 147\",\"University 148\",\"University 149\",\"University 15\",\"University 150\",\"University 151\",\"University 152\",\"University 153\",\"University 154\",\"University 155\",\"University 156\",\"University 157\",\"University 158\",\"University 159\",\"University 16\",\"University 160\",\"University 161\",\"University 162\",\"University 163\",\"University 164\",\"University 165\",\"University 166\",\"University 167\",\"University 168\",\"University 169\",\"University 17\",\"University 170\",\"University 171\",\"University 172\",\"University 173\",\"University 174\",\"University 175\",\"University 176\",\"University 177\",\"University 178\",\"University 179\",\"University 18\",\"University 180\",\"University 181\",\"University 182\",\"University 183\",\"University 184\",\"University 185\",\"University 186\",\"University 187\",\"University 188\",\"University 189\",\"University 19\",\"University 190\",\"University 191\",\"University 192\",\"University 193\",\"University 194\",\"University 195\",\"University 196\",\"University 197\",\"University 198\",\"University 199\",\"University 2\",\"University 20\",\"University 200\",\"University 201\",\"University 202\",\"University 203\",\"University 204\",\"University 205\",\"University 206\",\"University 207\",\"University 209\",\"University 21\",\"University 210\",\"University 211\",\"University 212\",\"University 213\",\"University 214\",\"University 215\",\"University 216\",\"University 217\",\"University 218\",\"University 219\",\"University 22\",\"University 220\",\"University 221\",\"University 222\",\"University 223\",\"University 224\",\"University 225\",\"University 226\",\"University 227\",\"University 228\",\"University 229\",\"University 23\",\"University 230\",\"University 231\",\"University 232\",\"University 233\",\"University 234\",\"University 235\",\"University 236\",\"University 237\",\"University 238\",\"University 239\",\"University 24\",\"University 240\",\"University 241\",\"University 242\",\"University 243\",\"University 244\",\"University 245\",\"University 246\",\"University 247\",\"University 248\",\"University 249\",\"University 25\",\"University 250\",\"University 251\",\"University 252\",\"University 253\",\"University 254\",\"University 255\",\"University 256\",\"University 257\",\"University 258\",\"University 259\",\"University 26\",\"University 260\",\"University 261\",\"University 262\",\"University 263\",\"University 264\",\"University 265\",\"University 266\",\"University 267\",\"University 268\",\"University 269\",\"University 27\",\"University 270\",\"University 271\",\"University 272\",\"University 273\",\"University 274\",\"University 275\",\"University 276\",\"University 277\",\"University 278\",\"University 279\",\"University 28\",\"University 280\",\"University 281\",\"University 282\",\"University 284\",\"University 285\",\"University 286\",\"University 287\",\"University 288\",\"University 289\",\"University 29\",\"University 290\",\"University 291\",\"University 292\",\"University 293\",\"University 294\",\"University 295\",\"University 296\",\"University 297\",\"University 298\",\"University 299\",\"University 3\",\"University 30\",\"University 300\",\"University 301\",\"University 302\",\"University 303\",\"University 304\",\"University 305\",\"University 306\",\"University 307\",\"University 308\",\"University 309\",\"University 31\",\"University 310\",\"University 311\",\"University 312\",\"University 32\",\"University 33\",\"University 34\",\"University 35\",\"University 355\",\"University 36\",\"University 37\",\"University 38\",\"University 39\",\"University 4\",\"University 40\",\"University 41\",\"University 42\",\"University 43\",\"University 44\",\"University 45\",\"University 46\",\"University 47\",\"University 48\",\"University 49\",\"University 5\",\"University 50\",\"University 51\",\"University 52\",\"University 53\",\"University 54\",\"University 55\",\"University 56\",\"University 57\",\"University 58\",\"University 59\",\"University 6\",\"University 60\",\"University 61\",\"University 62\",\"University 63\",\"University 64\",\"University 65\",\"University 66\",\"University 67\",\"University 68\",\"University 69\",\"University 7\",\"University 70\",\"University 71\",\"University 72\",\"University 73\",\"University 74\",\"University 75\",\"University 76\",\"University 77\",\"University 78\",\"University 79\",\"University 8\",\"University 80\",\"University 81\",\"University 82\",\"University 83\",\"University 84\",\"University 85\",\"University 86\",\"University 87\",\"University 88\",\"University 89\",\"University 9\",\"University 90\",\"University 91\",\"University 92\",\"University 93\",\"University 94\",\"University 95\",\"University 96\",\"University 97\",\"University 98\",\"University 99\"],\"title\":\"customer_filter\",\"value\":\"University 1\"},\"id\":\"6342\",\"type\":\"Select\"},{\"attributes\":{\"text\":\"\",\"text_color\":{\"value\":\"black\"},\"text_font_size\":{\"value\":\"12pt\"}},\"id\":\"6349\",\"type\":\"Title\"},{\"attributes\":{\"axis\":{\"id\":\"6360\"},\"dimension\":1,\"grid_line_color\":null,\"ticker\":null},\"id\":\"6363\",\"type\":\"Grid\"},{\"attributes\":{\"align\":null,\"below\":[{\"id\":\"6357\"}],\"center\":[{\"id\":\"6359\"},{\"id\":\"6363\"}],\"left\":[{\"id\":\"6360\"}],\"margin\":null,\"min_border_bottom\":10,\"min_border_left\":10,\"min_border_right\":10,\"min_border_top\":10,\"plot_height\":300,\"renderers\":[{\"id\":\"6383\"}],\"sizing_mode\":\"fixed\",\"title\":{\"id\":\"6349\"},\"toolbar\":{\"id\":\"6370\"},\"x_range\":{\"id\":\"6345\"},\"x_scale\":{\"id\":\"6353\"},\"y_range\":{\"id\":\"6346\"},\"y_scale\":{\"id\":\"6355\"}},\"id\":\"6348\",\"subtype\":\"Figure\",\"type\":\"Plot\"},{\"attributes\":{},\"id\":\"6364\",\"type\":\"SaveTool\"},{\"attributes\":{\"source\":{\"id\":\"6377\"}},\"id\":\"6384\",\"type\":\"CDSView\"}],\"root_ids\":[\"6340\",\"6420\"]},\"title\":\"Bokeh Application\",\"version\":\"2.0.2\"}};\n",
       "  var render_items = [{\"docid\":\"e80a02c4-a319-4347-ab2f-06dbf307f0b8\",\"root_ids\":[\"6340\"],\"roots\":{\"6340\":\"2c540a70-4b46-49ae-b3cc-f467f0719384\"}}];\n",
       "  root.Bokeh.embed.embed_items_notebook(docs_json, render_items);\n",
       "  }\n",
       "if (root.Bokeh !== undefined) {\n",
       "    embed_document(root);\n",
       "  } else {\n",
       "    var attempts = 0;\n",
       "    var timer = setInterval(function(root) {\n",
       "      if (root.Bokeh !== undefined) {\n",
       "        clearInterval(timer);\n",
       "        embed_document(root);\n",
       "      } else if (document.readyState == \"complete\") {\n",
       "        attempts++;\n",
       "        if (attempts > 100) {\n",
       "          clearInterval(timer);\n",
       "          console.log(\"Bokeh: ERROR: Unable to run BokehJS code because BokehJS library is missing\");\n",
       "        }\n",
       "      }\n",
       "    }, 10, root)\n",
       "  }\n",
       "})(window);</script>"
      ],
      "text/plain": [
       "Column\n",
       "    [0] Column\n",
       "        [0] Select(name='customer_filter', options=['University 1', ...], value='University 1')\n",
       "        [1] Select(name='subscription_filter', options=['1 Year', '2 Years', ...], value='1 Year')\n",
       "    [1] Row\n",
       "        [0] HoloViews(Bars, name='interactive33757')"
      ]
     },
     "execution_count": 149,
     "metadata": {
      "application/vnd.holoviews_exec.v0+json": {
       "id": "6340"
      }
     },
     "output_type": "execute_result"
    }
   ],
   "source": [
    "# Use hvplot to create an interactive line chart of the average price per sq ft.\n",
    "# The plot should have a dropdown selector for the neighborhood\n",
    "\n",
    "avg_price_mean = avg_price_df\n",
    "\n",
    "def get_plot(customer_filter, subscription_filter):\n",
    "    df_counts = avg_price_mean.groupby(['Customers', 'Subscription']).count().reset_index()\n",
    "    df_filtered = df_counts[ (df_counts['Customers'] == customer_filter ) & ( df_counts['Subscription'] == subscription_filter) ]\n",
    "    return df_filtered.hvplot.bar(\n",
    "        x='Customers',\n",
    "        y='Invoice Amount',\n",
    "        xlabel= 'Customers',\n",
    "        ylabel='Invoice Amount',\n",
    "        width=600\n",
    "        ).opts(yformatter='%0f')\n",
    "\n",
    "customer_filter_values = avg_price_mean.reset_index()['Customers'].drop_duplicates().to_list()\n",
    "subscription_filter_values = avg_price_mean.reset_index()['Subscription'].drop_duplicates().to_list()\n",
    "\n",
    "pn.interact(get_plot,\n",
    "            customer_filter=customer_filter_values,\n",
    "            subscription_filter=subscription_filter_values)"
   ]
  },
  {
   "cell_type": "code",
   "execution_count": 144,
   "metadata": {},
   "outputs": [
    {
     "data": {
      "text/html": [
       "<div>\n",
       "<style scoped>\n",
       "    .dataframe tbody tr th:only-of-type {\n",
       "        vertical-align: middle;\n",
       "    }\n",
       "\n",
       "    .dataframe tbody tr th {\n",
       "        vertical-align: top;\n",
       "    }\n",
       "\n",
       "    .dataframe thead th {\n",
       "        text-align: right;\n",
       "    }\n",
       "</style>\n",
       "<table border=\"1\" class=\"dataframe\">\n",
       "  <thead>\n",
       "    <tr style=\"text-align: right;\">\n",
       "      <th></th>\n",
       "      <th>Customers</th>\n",
       "      <th>Subscription</th>\n",
       "      <th>Invoice Amount</th>\n",
       "    </tr>\n",
       "  </thead>\n",
       "  <tbody>\n",
       "    <tr>\n",
       "      <th>0</th>\n",
       "      <td>University 1</td>\n",
       "      <td>1 Year</td>\n",
       "      <td>1</td>\n",
       "    </tr>\n",
       "  </tbody>\n",
       "</table>\n",
       "</div>"
      ],
      "text/plain": [
       "      Customers Subscription  Invoice Amount\n",
       "0  University 1       1 Year               1"
      ]
     },
     "execution_count": 144,
     "metadata": {},
     "output_type": "execute_result"
    }
   ],
   "source": [
    "# avg_price_mean.groupby('Subscription').count()\n",
    "# avg_price_mean.groupby(['Customers', 'Subscription']).count().loc[\"University 1\"]\n",
    "\n",
    "df_counts = avg_price_mean.groupby(['Customers', 'Subscription']).count().reset_index()\n",
    "df_counts[ (df_counts['Customers'] == 'University 1' ) & ( df_counts['Subscription'] == '1 Year') ]"
   ]
  },
  {
   "cell_type": "code",
   "execution_count": null,
   "metadata": {},
   "outputs": [],
   "source": []
  },
  {
   "cell_type": "code",
   "execution_count": null,
   "metadata": {},
   "outputs": [],
   "source": []
  }
 ],
 "metadata": {
  "kernelspec": {
   "display_name": "Python [conda env:pyvizenv] *",
   "language": "python",
   "name": "conda-env-pyvizenv-py"
  },
  "language_info": {
   "codemirror_mode": {
    "name": "ipython",
    "version": 3
   },
   "file_extension": ".py",
   "mimetype": "text/x-python",
   "name": "python",
   "nbconvert_exporter": "python",
   "pygments_lexer": "ipython3",
   "version": "3.8.3"
  }
 },
 "nbformat": 4,
 "nbformat_minor": 4
}
